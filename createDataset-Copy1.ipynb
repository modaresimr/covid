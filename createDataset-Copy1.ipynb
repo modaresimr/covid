{
 "cells": [
  {
   "cell_type": "code",
   "execution_count": 18,
   "id": "f5a8a136",
   "metadata": {
    "ExecuteTime": {
     "end_time": "2021-12-29T21:06:40.738615Z",
     "start_time": "2021-12-29T21:06:40.736145Z"
    }
   },
   "outputs": [],
   "source": [
    "import numpy as np\n",
    "import pandas as pd\n",
    "from tensorflow import keras\n",
    "from tensorflow.keras import layers\n",
    "from matplotlib import pyplot as plt\n",
    "import os\n",
    "import ali.methods\n",
    "import ali.ui\n",
    "from sklearn.preprocessing import StandardScaler \n",
    "import compress_pickle"
   ]
  },
  {
   "cell_type": "code",
   "execution_count": 2,
   "id": "dba357b2",
   "metadata": {
    "ExecuteTime": {
     "end_time": "2021-12-29T20:37:47.133479Z",
     "start_time": "2021-12-29T20:37:47.127664Z"
    }
   },
   "outputs": [],
   "source": [
    "def selectTrainTestSet(rhr, info,train_days=100,test_days=14):\n",
    "    if info['covid_test_date']:\n",
    "        dates_s = rhr.loc[(rhr.index < info['covid_test_date'] - pd.to_timedelta(f'{test_days}d'))].index.floor('1D').unique()\n",
    "        dates_e = list(rhr.loc[(rhr.index > info['covid_test_date'] + pd.to_timedelta(f'{test_days}d'))].index.floor('1D').unique())\n",
    "    else:\n",
    "        dates_s = rhr.index.floor('1D').unique()\n",
    "        dates_e = []\n",
    "\n",
    "    dates_s=dates_s.insert(0,rhr.index[0])\n",
    "    dates_e.append(rhr.index[-1])\n",
    "\n",
    "    s = min(train_days, len(dates_s)-1)\n",
    "    e = -min(max(0,train_days-s), len(dates_e)-1)\n",
    "    train = rhr.loc[(rhr.index < dates_s[s]) | (rhr.index > dates_e[e])]\n",
    "    test = rhr.loc[(rhr.index >= dates_s[s]) & (rhr.index <= dates_e[e])]\n",
    "    \n",
    "    return train, test\n",
    "\n",
    "\n",
    "def preprocessing(train, test=None,force=True):\n",
    "    if (not force) and os.path.isfile(f'ali/an_data/preprocess.pkl.lz4'):\n",
    "        scaler = compress_pickle.load(f'ali/an_data/preprocess.pkl.lz4')\n",
    "    else:\n",
    "        scaler = StandardScaler()\n",
    "        scaler = scaler.fit(train[['heartrate']])\n",
    "        compress_pickle.dump(scaler, f'ali/an_data/preprocess.pkl.lz4')\n",
    "\n",
    "    train = pd.DataFrame(scaler.transform(train), index=train.index, columns=train.columns)\n",
    "    if test is not None:\n",
    "        test = pd.DataFrame(scaler.transform(test), index=test.index, columns=test.columns)\n",
    "    return train, test"
   ]
  },
  {
   "cell_type": "code",
   "execution_count": 54,
   "id": "6dfb42eb",
   "metadata": {
    "ExecuteTime": {
     "end_time": "2021-12-17T17:13:21.214450Z",
     "start_time": "2021-12-17T17:13:21.211581Z"
    }
   },
   "outputs": [
    {
     "data": {
      "text/plain": [
       "875"
      ]
     },
     "execution_count": 54,
     "metadata": {},
     "output_type": "execute_result"
    }
   ],
   "source": [
    "i"
   ]
  },
  {
   "cell_type": "code",
   "execution_count": 11,
   "id": "d88a04b1",
   "metadata": {
    "ExecuteTime": {
     "end_time": "2021-12-29T20:58:53.645357Z",
     "start_time": "2021-12-29T20:42:58.923416Z"
    }
   },
   "outputs": [
    {
     "name": "stdout",
     "output_type": "stream",
     "text": [
      "100%\r"
     ]
    }
   ],
   "source": [
    "resolution='1T'\n",
    "alltest=pd.DataFrame()\n",
    "alltrain=pd.DataFrame()\n",
    "\n",
    "dirs=os.listdir('output/my')\n",
    "for i,id in enumerate(dirs):\n",
    "\n",
    "    if not \"P\" in id :continue\n",
    "        \n",
    "    print(f'{i/len(dirs)*100:.0f}%',end='\\r')\n",
    "    hr,step,rhr,info=ali.methods.load(id)\n",
    "    if len(rhr)==0:continue\n",
    "#     if info['covid_test_date']:\n",
    "    rhr1=rhr.resample(resolution).mean().dropna()\n",
    "    rhr1['id']=id\n",
    "    train,test=selectTrainTestSet(rhr1,info,train_days=30)\n",
    "    alltrain=pd.concat([alltrain,train])\n",
    "    alltest=pd.concat([alltest,test])\n",
    "    \n"
   ]
  },
  {
   "cell_type": "code",
   "execution_count": 13,
   "id": "dd44385e",
   "metadata": {
    "ExecuteTime": {
     "end_time": "2021-12-29T21:05:09.590576Z",
     "start_time": "2021-12-29T21:05:01.648104Z"
    }
   },
   "outputs": [],
   "source": [
    "alltrain=alltrain.reset_index().set_index(['id','datetime'])\n",
    "alltrain.to_hdf('all-train.h5','train')\n",
    "\n",
    "alltest=alltest.reset_index().set_index(['id','datetime'])\n",
    "alltest.to_hdf('all-test.h5','test')"
   ]
  },
  {
   "cell_type": "code",
   "execution_count": 24,
   "id": "319ae17e",
   "metadata": {
    "ExecuteTime": {
     "end_time": "2021-12-29T21:09:46.040597Z",
     "start_time": "2021-12-29T21:09:45.420672Z"
    }
   },
   "outputs": [],
   "source": [
    "alltrainp,alltestp=preprocessing(alltrain,alltest,force=True)\n",
    "alltrainp.to_hdf('all-trainp.h5','trainp')\n",
    "alltestp.to_hdf('all-testp.h5','testp')"
   ]
  },
  {
   "cell_type": "code",
   "execution_count": 25,
   "id": "bde6d9b1",
   "metadata": {
    "ExecuteTime": {
     "end_time": "2021-12-29T21:09:52.472166Z",
     "start_time": "2021-12-29T21:09:47.883253Z"
    }
   },
   "outputs": [],
   "source": [
    "alltrainp=pd.read_hdf('all-trainp.h5',key='trainp')\n",
    "alltestp=pd.read_hdf('all-testp.h5',key='testp')\n"
   ]
  },
  {
   "cell_type": "code",
   "execution_count": 4,
   "id": "3cf464a5",
   "metadata": {
    "ExecuteTime": {
     "end_time": "2021-12-29T20:39:18.186826Z",
     "start_time": "2021-12-29T20:39:18.182837Z"
    },
    "code_folding": []
   },
   "outputs": [],
   "source": [
    "def create_sequences(data, resolution, seg):\n",
    "\n",
    "    dates = data.loc[data.index.hour < 7].dropna().resample('1D').count()\n",
    "    min_acceptable_count = dates.loc[dates['heartrate'] > 0].mean().values[0]/4\n",
    "#     data['date'] = data.index.floor('1D')\n",
    "#     data['time'] = data.index.time\n",
    "#     day_time = data.set_index(['time', 'date']).unstack(level=0).droplevel(0, axis=1).interpolate(limit_direction='both', axis=1)\n",
    "    out=[]\n",
    "    for w in dates.rolling(window=f'{seg}D', closed='right'):\n",
    "#         if len(w)==seg and w.sum().values[0]>min_acceptable_count*seg:\n",
    "#         if len(w)==seg:\n",
    "#             display(w.values>min_acceptable_count)\n",
    "#             break\n",
    "        if len(w)==seg and np.all(w.values>min_acceptable_count):\n",
    "            res = day_time.reindex(w.index).interpolate(limit_direction='both', axis=0).values\n",
    "            out.append(np.reshape(res, (res.shape[0]*res.shape[1],1)))\n",
    "#             out.append(res)\n",
    "    if len(out)==0:\n",
    "        return out\n",
    "    return np.stack(out)"
   ]
  },
  {
   "cell_type": "code",
   "execution_count": null,
   "id": "cab4399f",
   "metadata": {},
   "outputs": [],
   "source": []
  },
  {
   "cell_type": "code",
   "execution_count": 5,
   "id": "eedbb2d2",
   "metadata": {
    "ExecuteTime": {
     "end_time": "2021-12-29T20:39:27.708942Z",
     "start_time": "2021-12-29T20:39:23.515408Z"
    }
   },
   "outputs": [],
   "source": [
    "seg=3\n",
    "seqs=[]\n",
    "ids=allp.index.get_level_values(0)\n",
    "allp2=allp.reset_index().set_index(['datetime'])\n",
    "allp2['date'] = allp2.index.floor('1D')\n",
    "allp2['time'] = allp2.index.time\n",
    "# for i,p in enumerate(ids):\n",
    "#     print(f'{i/len(ids)*100:.0f}%',end='\\r')\n",
    "#     seqs.append(create_sequences(allp.loc[p],resolution=resolution,seg=seg))\n",
    "\n"
   ]
  },
  {
   "cell_type": "code",
   "execution_count": 6,
   "id": "4671cf85",
   "metadata": {
    "ExecuteTime": {
     "end_time": "2021-12-29T20:39:37.258686Z",
     "start_time": "2021-12-29T20:39:32.097002Z"
    }
   },
   "outputs": [],
   "source": [
    "day_time = allp2.set_index(['id','time', 'date']).unstack(level=1).droplevel(0, axis=1)\n",
    "# .interpolate(limit_direction='both', axis=1)"
   ]
  },
  {
   "cell_type": "code",
   "execution_count": 7,
   "id": "ba544b80",
   "metadata": {
    "ExecuteTime": {
     "end_time": "2021-12-29T20:39:39.972394Z",
     "start_time": "2021-12-29T20:39:39.818805Z"
    }
   },
   "outputs": [
    {
     "data": {
      "text/plain": [
       "<AxesSubplot:>"
      ]
     },
     "execution_count": 7,
     "metadata": {},
     "output_type": "execute_result"
    },
    {
     "data": {
      "image/png": "[encoded data removed]",
      "text/plain": [
       "<Figure size 432x288 with 1 Axes>"
      ]
     },
     "metadata": {
      "needs_background": "light"
     },
     "output_type": "display_data"
    }
   ],
   "source": [
    "day_time_info=day_time.notnull().sum(axis=1)\n",
    "day_time_info.hist()\n",
    "# day_time_info.quantile (.6)\n",
    "# day_time_info>300"
   ]
  },
  {
   "cell_type": "code",
   "execution_count": 8,
   "id": "f2a832bb",
   "metadata": {
    "ExecuteTime": {
     "end_time": "2021-12-29T20:40:33.478449Z",
     "start_time": "2021-12-29T20:39:47.560169Z"
    },
    "scrolled": true
   },
   "outputs": [],
   "source": [
    "\n",
    "day_time2=day_time.loc[day_time.notnull().sum(axis=1)>200]\n",
    "ids=day_time2.index.get_level_values(0)\n",
    "out=[]\n",
    "day_time2 = day_time2.interpolate(limit_direction='both', axis=1)\n",
    "\n",
    "n=0\n",
    "shape=None\n",
    "for id in ids:\n",
    "  for w in day_time2.loc[id].rolling(window=f'{seg}D', closed='right'): \n",
    "    if len(w)==seg:\n",
    "        n+=1\n",
    "        shape=w.values.shape\n",
    "#         display(w)\n",
    "#         print(w.notnull().sum(axis=1))\n"
   ]
  },
  {
   "cell_type": "code",
   "execution_count": 31,
   "id": "d58a4a10",
   "metadata": {
    "ExecuteTime": {
     "end_time": "2021-12-17T21:32:32.402803Z",
     "start_time": "2021-12-17T21:31:39.355157Z"
    }
   },
   "outputs": [],
   "source": [
    "out=np.zeros(shape=(n,shape[0]*shape[1],1))\n",
    "i=0\n",
    "for id in ids:\n",
    "  for w in day_time2.loc[id].rolling(window=f'{seg}D', closed='right'): \n",
    "    if len(w)==seg:\n",
    "        out[i,:,:]=(np.reshape(w.values, (shape[0]*shape[1],1)))"
   ]
  },
  {
   "cell_type": "code",
   "execution_count": 34,
   "id": "ca6840a5",
   "metadata": {
    "ExecuteTime": {
     "end_time": "2021-12-17T21:40:04.276589Z",
     "start_time": "2021-12-17T21:40:04.274777Z"
    }
   },
   "outputs": [],
   "source": [
    "x_train=out"
   ]
  },
  {
   "cell_type": "code",
   "execution_count": 8,
   "id": "3767347c",
   "metadata": {
    "ExecuteTime": {
     "end_time": "2021-12-17T21:07:29.553862Z",
     "start_time": "2021-12-17T21:07:27.125992Z"
    }
   },
   "outputs": [],
   "source": [
    "x_train=np.stack(out)"
   ]
  },
  {
   "cell_type": "code",
   "execution_count": 9,
   "id": "fb6b1767",
   "metadata": {
    "ExecuteTime": {
     "end_time": "2021-12-17T21:13:41.718795Z",
     "start_time": "2021-12-17T21:13:41.470334Z"
    }
   },
   "outputs": [],
   "source": [
    "del out"
   ]
  },
  {
   "cell_type": "code",
   "execution_count": 35,
   "id": "20f1113f",
   "metadata": {
    "ExecuteTime": {
     "end_time": "2021-12-17T21:40:13.227696Z",
     "start_time": "2021-12-17T21:40:13.224586Z"
    }
   },
   "outputs": [
    {
     "data": {
      "text/plain": [
       "(939871, 1260, 1)"
      ]
     },
     "execution_count": 35,
     "metadata": {},
     "output_type": "execute_result"
    }
   ],
   "source": [
    "x_train.shape"
   ]
  },
  {
   "cell_type": "code",
   "execution_count": 36,
   "id": "bb74ea5e",
   "metadata": {
    "ExecuteTime": {
     "end_time": "2021-12-17T21:40:18.059328Z",
     "start_time": "2021-12-17T21:40:18.054893Z"
    }
   },
   "outputs": [],
   "source": [
    "def createAutoEncoderModel(shape):\n",
    "    model = keras.Sequential(\n",
    "        [\n",
    "            layers.Input(shape=(shape[1], shape[2])),\n",
    "            layers.Conv1D(\n",
    "                filters=32, kernel_size=7, padding=\"same\", strides=2, activation=\"relu\"\n",
    "            ),\n",
    "            layers.Dropout(rate=0.2),\n",
    "            layers.Conv1D(\n",
    "                filters=16, kernel_size=7, padding=\"same\", strides=2, activation=\"relu\"\n",
    "            ),\n",
    "            layers.Conv1DTranspose(\n",
    "                filters=16, kernel_size=7, padding=\"same\", strides=2, activation=\"relu\"\n",
    "            ),\n",
    "            layers.Dropout(rate=0.2),\n",
    "            layers.Conv1DTranspose(\n",
    "                filters=32, kernel_size=7, padding=\"same\", strides=2, activation=\"relu\"\n",
    "            ),\n",
    "            layers.Conv1DTranspose(filters=1, kernel_size=7, padding=\"same\"),\n",
    "        ]\n",
    "    )\n",
    "    model.compile(optimizer=keras.optimizers.Adam(learning_rate=0.001), loss=\"mse\")\n",
    "\n",
    "    return model\n"
   ]
  },
  {
   "cell_type": "code",
   "execution_count": 37,
   "id": "318c93c9",
   "metadata": {
    "ExecuteTime": {
     "end_time": "2021-12-17T22:34:12.380515Z",
     "start_time": "2021-12-17T21:40:20.285250Z"
    }
   },
   "outputs": [
    {
     "name": "stdout",
     "output_type": "stream",
     "text": [
      "Model: \"sequential\"\n",
      "_________________________________________________________________\n",
      " Layer (type)                Output Shape              Param #   \n",
      "=================================================================\n",
      " conv1d (Conv1D)             (None, 630, 32)           256       \n",
      "                                                                 \n",
      " dropout (Dropout)           (None, 630, 32)           0         \n",
      "                                                                 \n",
      " conv1d_1 (Conv1D)           (None, 315, 16)           3600      \n",
      "                                                                 \n",
      " conv1d_transpose (Conv1DTra  (None, 630, 16)          1808      \n",
      " nspose)                                                         \n",
      "                                                                 \n",
      " dropout_1 (Dropout)         (None, 630, 16)           0         \n",
      "                                                                 \n",
      " conv1d_transpose_1 (Conv1DT  (None, 1260, 32)         3616      \n",
      " ranspose)                                                       \n",
      "                                                                 \n",
      " conv1d_transpose_2 (Conv1DT  (None, 1260, 1)          225       \n",
      " ranspose)                                                       \n",
      "                                                                 \n",
      "=================================================================\n",
      "Total params: 9,505\n",
      "Trainable params: 9,505\n",
      "Non-trainable params: 0\n",
      "_________________________________________________________________\n",
      "Epoch 1/50\n",
      "6608/6609 [============================>.] - ETA: 0s - loss: 1.3010e-06WARNING:tensorflow:AutoGraph could not transform <function Model.make_test_function.<locals>.test_function at 0x7f23a04c9040> and will run it as-is.\n",
      "Please report this to the TensorFlow team. When filing the bug, set the verbosity to 10 (on Linux, `export AUTOGRAPH_VERBOSITY=10`) and attach the full output.\n",
      "Cause: [Errno 28] No space left on device\n",
      "To silence this warning, decorate the function with @tf.autograph.experimental.do_not_convert\n",
      "WARNING: AutoGraph could not transform <function Model.make_test_function.<locals>.test_function at 0x7f23a04c9040> and will run it as-is.\n",
      "Please report this to the TensorFlow team. When filing the bug, set the verbosity to 10 (on Linux, `export AUTOGRAPH_VERBOSITY=10`) and attach the full output.\n",
      "Cause: [Errno 28] No space left on device\n",
      "To silence this warning, decorate the function with @tf.autograph.experimental.do_not_convert\n",
      "6609/6609 [==============================] - 520s 79ms/step - loss: 1.3009e-06 - val_loss: 0.0000e+00\n",
      "Epoch 2/50\n",
      "6609/6609 [==============================] - 547s 83ms/step - loss: 1.3635e-06 - val_loss: 7.3241e-15\n",
      "Epoch 3/50\n",
      "6609/6609 [==============================] - 544s 82ms/step - loss: 1.3078e-06 - val_loss: 9.0870e-13\n",
      "Epoch 4/50\n",
      "6609/6609 [==============================] - 541s 82ms/step - loss: 3.7620e-06 - val_loss: 0.0000e+00\n",
      "Epoch 5/50\n",
      "6609/6609 [==============================] - 537s 81ms/step - loss: 6.6318e-07 - val_loss: 0.0000e+00\n",
      "Epoch 6/50\n",
      "6609/6609 [==============================] - 537s 81ms/step - loss: 1.9350e-05 - val_loss: 0.0000e+00\n"
     ]
    }
   ],
   "source": [
    "model = createAutoEncoderModel(x_train.shape)\n",
    "\n",
    "model.summary()\n",
    "history = model.fit(\n",
    "    x_train,\n",
    "    x_train,\n",
    "    epochs=50,\n",
    "    batch_size=128,\n",
    "    validation_split=0.1,\n",
    "    callbacks=[\n",
    "        keras.callbacks.EarlyStopping(monitor=\"val_loss\", patience=5, mode=\"min\")\n",
    "    ],\n",
    ")\n",
    "model.save(f'ali/an_data/model-all-{seg}.h5')"
   ]
  },
  {
   "cell_type": "code",
   "execution_count": null,
   "id": "667da404",
   "metadata": {
    "ExecuteTime": {
     "end_time": "2021-12-17T13:29:15.613627Z",
     "start_time": "2021-12-17T13:29:15.519854Z"
    }
   },
   "outputs": [],
   "source": [
    "\n"
   ]
  },
  {
   "cell_type": "code",
   "execution_count": null,
   "id": "f6b0ade2",
   "metadata": {
    "ExecuteTime": {
     "start_time": "2021-12-29T10:20:56.044Z"
    }
   },
   "outputs": [],
   "source": [
    "x_train_pred = model.predict(x_train)\n"
   ]
  },
  {
   "cell_type": "code",
   "execution_count": 40,
   "id": "0c6f6e78",
   "metadata": {
    "ExecuteTime": {
     "end_time": "2021-12-29T09:25:03.709492Z",
     "start_time": "2021-12-29T09:21:48.875994Z"
    }
   },
   "outputs": [
    {
     "data": {
      "image/png": "[encoded data removed]",
      "text/plain": [
       "<Figure size 432x288 with 1 Axes>"
      ]
     },
     "metadata": {
      "needs_background": "light"
     },
     "output_type": "display_data"
    },
    {
     "ename": "MemoryError",
     "evalue": "Unable to allocate 4.41 GiB for an array with shape (939871, 1260, 1) and data type float32",
     "output_type": "error",
     "traceback": [
      "\u001b[0;31m---------------------------------------------------------------------------\u001b[0m",
      "\u001b[0;31mMemoryError\u001b[0m                               Traceback (most recent call last)",
      "\u001b[0;32m<ipython-input-40-1ba15258e4e6>\u001b[0m in \u001b[0;36m<module>\u001b[0;34m\u001b[0m\n\u001b[1;32m      5\u001b[0m \u001b[0;34m\u001b[0m\u001b[0m\n\u001b[1;32m      6\u001b[0m \u001b[0;31m# Get train MAE loss.\u001b[0m\u001b[0;34m\u001b[0m\u001b[0;34m\u001b[0m\u001b[0;34m\u001b[0m\u001b[0m\n\u001b[0;32m----> 7\u001b[0;31m \u001b[0mx_train_pred\u001b[0m \u001b[0;34m=\u001b[0m \u001b[0mmodel\u001b[0m\u001b[0;34m.\u001b[0m\u001b[0mpredict\u001b[0m\u001b[0;34m(\u001b[0m\u001b[0mx_train\u001b[0m\u001b[0;34m)\u001b[0m\u001b[0;34m\u001b[0m\u001b[0;34m\u001b[0m\u001b[0m\n\u001b[0m\u001b[1;32m      8\u001b[0m \u001b[0mtrain_mae_loss\u001b[0m \u001b[0;34m=\u001b[0m \u001b[0mnp\u001b[0m\u001b[0;34m.\u001b[0m\u001b[0mmean\u001b[0m\u001b[0;34m(\u001b[0m\u001b[0mnp\u001b[0m\u001b[0;34m.\u001b[0m\u001b[0mabs\u001b[0m\u001b[0;34m(\u001b[0m\u001b[0mx_train_pred\u001b[0m \u001b[0;34m-\u001b[0m \u001b[0mx_train\u001b[0m\u001b[0;34m)\u001b[0m\u001b[0;34m,\u001b[0m \u001b[0maxis\u001b[0m\u001b[0;34m=\u001b[0m\u001b[0;36m1\u001b[0m\u001b[0;34m)\u001b[0m\u001b[0;34m\u001b[0m\u001b[0;34m\u001b[0m\u001b[0m\n\u001b[1;32m      9\u001b[0m \u001b[0;34m\u001b[0m\u001b[0m\n",
      "\u001b[0;32m/opt/conda/lib/python3.8/site-packages/keras/utils/traceback_utils.py\u001b[0m in \u001b[0;36merror_handler\u001b[0;34m(*args, **kwargs)\u001b[0m\n\u001b[1;32m     65\u001b[0m     \u001b[0;32mexcept\u001b[0m \u001b[0mException\u001b[0m \u001b[0;32mas\u001b[0m \u001b[0me\u001b[0m\u001b[0;34m:\u001b[0m  \u001b[0;31m# pylint: disable=broad-except\u001b[0m\u001b[0;34m\u001b[0m\u001b[0;34m\u001b[0m\u001b[0m\n\u001b[1;32m     66\u001b[0m       \u001b[0mfiltered_tb\u001b[0m \u001b[0;34m=\u001b[0m \u001b[0m_process_traceback_frames\u001b[0m\u001b[0;34m(\u001b[0m\u001b[0me\u001b[0m\u001b[0;34m.\u001b[0m\u001b[0m__traceback__\u001b[0m\u001b[0;34m)\u001b[0m\u001b[0;34m\u001b[0m\u001b[0;34m\u001b[0m\u001b[0m\n\u001b[0;32m---> 67\u001b[0;31m       \u001b[0;32mraise\u001b[0m \u001b[0me\u001b[0m\u001b[0;34m.\u001b[0m\u001b[0mwith_traceback\u001b[0m\u001b[0;34m(\u001b[0m\u001b[0mfiltered_tb\u001b[0m\u001b[0;34m)\u001b[0m \u001b[0;32mfrom\u001b[0m \u001b[0;32mNone\u001b[0m\u001b[0;34m\u001b[0m\u001b[0;34m\u001b[0m\u001b[0m\n\u001b[0m\u001b[1;32m     68\u001b[0m     \u001b[0;32mfinally\u001b[0m\u001b[0;34m:\u001b[0m\u001b[0;34m\u001b[0m\u001b[0;34m\u001b[0m\u001b[0m\n\u001b[1;32m     69\u001b[0m       \u001b[0;32mdel\u001b[0m \u001b[0mfiltered_tb\u001b[0m\u001b[0;34m\u001b[0m\u001b[0;34m\u001b[0m\u001b[0m\n",
      "\u001b[0;32m/opt/conda/lib/python3.8/site-packages/tensorflow/python/framework/ops.py\u001b[0m in \u001b[0;36mnumpy\u001b[0;34m(self)\u001b[0m\n\u001b[1;32m   1148\u001b[0m     \u001b[0;31m# TODO(slebedev): Consider avoiding a copy for non-CPU or remote tensors.\u001b[0m\u001b[0;34m\u001b[0m\u001b[0;34m\u001b[0m\u001b[0;34m\u001b[0m\u001b[0m\n\u001b[1;32m   1149\u001b[0m     \u001b[0mmaybe_arr\u001b[0m \u001b[0;34m=\u001b[0m \u001b[0mself\u001b[0m\u001b[0;34m.\u001b[0m\u001b[0m_numpy\u001b[0m\u001b[0;34m(\u001b[0m\u001b[0;34m)\u001b[0m  \u001b[0;31m# pylint: disable=protected-access\u001b[0m\u001b[0;34m\u001b[0m\u001b[0;34m\u001b[0m\u001b[0m\n\u001b[0;32m-> 1150\u001b[0;31m     \u001b[0;32mreturn\u001b[0m \u001b[0mmaybe_arr\u001b[0m\u001b[0;34m.\u001b[0m\u001b[0mcopy\u001b[0m\u001b[0;34m(\u001b[0m\u001b[0;34m)\u001b[0m \u001b[0;32mif\u001b[0m \u001b[0misinstance\u001b[0m\u001b[0;34m(\u001b[0m\u001b[0mmaybe_arr\u001b[0m\u001b[0;34m,\u001b[0m \u001b[0mnp\u001b[0m\u001b[0;34m.\u001b[0m\u001b[0mndarray\u001b[0m\u001b[0;34m)\u001b[0m \u001b[0;32melse\u001b[0m \u001b[0mmaybe_arr\u001b[0m\u001b[0;34m\u001b[0m\u001b[0;34m\u001b[0m\u001b[0m\n\u001b[0m\u001b[1;32m   1151\u001b[0m \u001b[0;34m\u001b[0m\u001b[0m\n\u001b[1;32m   1152\u001b[0m   \u001b[0;34m@\u001b[0m\u001b[0mproperty\u001b[0m\u001b[0;34m\u001b[0m\u001b[0;34m\u001b[0m\u001b[0m\n",
      "\u001b[0;31mMemoryError\u001b[0m: Unable to allocate 4.41 GiB for an array with shape (939871, 1260, 1) and data type float32"
     ]
    }
   ],
   "source": [
    "plt.plot(history.history[\"loss\"], label=\"Training Loss\")\n",
    "plt.plot(history.history[\"val_loss\"], label=\"Validation Loss\")\n",
    "plt.legend()\n",
    "plt.show()\n",
    "\n",
    "# Get train MAE loss.\n",
    "x_train_pred = model.predict(x_train)\n",
    "train_mae_loss = np.mean(np.abs(x_train_pred - x_train), axis=1)\n",
    "\n",
    "plt.hist(train_mae_loss, bins=50)\n",
    "plt.xlabel(\"Train MAE loss\")\n",
    "plt.ylabel(\"No of samples\")\n",
    "plt.show()"
   ]
  },
  {
   "cell_type": "code",
   "execution_count": null,
   "id": "f0e66329",
   "metadata": {
    "ExecuteTime": {
     "end_time": "2021-12-29T09:20:58.578093Z",
     "start_time": "2021-12-29T09:20:50.424Z"
    }
   },
   "outputs": [],
   "source": [
    "plt.plot(x_train[0])\n",
    "plt.plot(x_train_pred[0])\n",
    "plt.show()"
   ]
  },
  {
   "cell_type": "code",
   "execution_count": 39,
   "id": "cc933c98",
   "metadata": {
    "ExecuteTime": {
     "end_time": "2021-12-29T09:21:34.298285Z",
     "start_time": "2021-12-29T09:21:34.287455Z"
    }
   },
   "outputs": [
    {
     "ename": "NameError",
     "evalue": "name 'train_mae_loss' is not defined",
     "output_type": "error",
     "traceback": [
      "\u001b[0;31m---------------------------------------------------------------------------\u001b[0m",
      "\u001b[0;31mNameError\u001b[0m                                 Traceback (most recent call last)",
      "\u001b[0;32m<ipython-input-39-a27d9c2a2759>\u001b[0m in \u001b[0;36m<module>\u001b[0;34m\u001b[0m\n\u001b[1;32m      1\u001b[0m \u001b[0;31m# Get reconstruction loss threshold.\u001b[0m\u001b[0;34m\u001b[0m\u001b[0;34m\u001b[0m\u001b[0;34m\u001b[0m\u001b[0m\n\u001b[0;32m----> 2\u001b[0;31m \u001b[0mthreshold\u001b[0m \u001b[0;34m=\u001b[0m \u001b[0mnp\u001b[0m\u001b[0;34m.\u001b[0m\u001b[0mmax\u001b[0m\u001b[0;34m(\u001b[0m\u001b[0mtrain_mae_loss\u001b[0m\u001b[0;34m)\u001b[0m\u001b[0;34m\u001b[0m\u001b[0;34m\u001b[0m\u001b[0m\n\u001b[0m\u001b[1;32m      3\u001b[0m \u001b[0mprint\u001b[0m\u001b[0;34m(\u001b[0m\u001b[0;34m\"Reconstruction error threshold: \"\u001b[0m\u001b[0;34m,\u001b[0m \u001b[0mthreshold\u001b[0m\u001b[0;34m)\u001b[0m\u001b[0;34m\u001b[0m\u001b[0;34m\u001b[0m\u001b[0m\n\u001b[1;32m      4\u001b[0m \u001b[0;34m\u001b[0m\u001b[0m\n\u001b[1;32m      5\u001b[0m \u001b[0mfig\u001b[0m\u001b[0;34m,\u001b[0m \u001b[0max\u001b[0m \u001b[0;34m=\u001b[0m \u001b[0mplt\u001b[0m\u001b[0;34m.\u001b[0m\u001b[0msubplots\u001b[0m\u001b[0;34m(\u001b[0m\u001b[0;34m)\u001b[0m\u001b[0;34m\u001b[0m\u001b[0;34m\u001b[0m\u001b[0m\n",
      "\u001b[0;31mNameError\u001b[0m: name 'train_mae_loss' is not defined"
     ]
    }
   ],
   "source": [
    "# Get reconstruction loss threshold.\n",
    "threshold = np.max(train_mae_loss)\n",
    "print(\"Reconstruction error threshold: \", threshold)\n",
    "\n",
    "fig, ax = plt.subplots()\n",
    "# test.plot(legend=False, ax=ax)\n",
    "# plt.show()\n",
    "\n",
    "# Create sequences from test values.\n",
    "x_test = create_sequences(testp, seg=seg, resolution=resolution)\n",
    "print(\"Test input shape: \", x_test.shape)\n",
    "\n",
    "# Get test MAE loss.\n",
    "x_test_pred = model.predict(x_test)\n",
    "test_mae_loss = np.mean(np.abs(x_test_pred - x_test), axis=1)\n",
    "test_mae_loss = test_mae_loss.reshape((-1))\n",
    "\n",
    "plt.hist(test_mae_loss, bins=50)\n",
    "plt.xlabel(\"test MAE loss\")\n",
    "plt.ylabel(\"No of samples\")\n",
    "plt.show()\n",
    "\n",
    "# Detect all the samples which are anomalies.\n",
    "anomalies = test_mae_loss > threshold\n",
    "print(\"Number of anomaly samples: \", np.sum(anomalies))\n",
    "print(\"Indices of anomaly samples: \", np.where(anomalies))\n"
   ]
  },
  {
   "cell_type": "code",
   "execution_count": 8,
   "id": "532c6be2",
   "metadata": {
    "ExecuteTime": {
     "end_time": "2021-12-17T15:31:59.323392Z",
     "start_time": "2021-12-17T15:31:58.286094Z"
    }
   },
   "outputs": [
    {
     "data": {
      "image/png": "[encoded data removed]",
      "text/plain": [
       "<Figure size 1080x288 with 1 Axes>"
      ]
     },
     "metadata": {
      "needs_background": "light"
     },
     "output_type": "display_data"
    },
    {
     "data": {
      "image/png": "[encoded data removed]",
      "text/plain": [
       "<Figure size 1152x180 with 1 Axes>"
      ]
     },
     "metadata": {
      "needs_background": "light"
     },
     "output_type": "display_data"
    },
    {
     "name": "stdout",
     "output_type": "stream",
     "text": [
      "                      heartrate\n",
      "datetime                       \n",
      "2027-10-17 06:13:00   69.111111\n",
      "2027-10-18 04:47:00   60.636364\n",
      "2027-10-26 06:44:00   79.428571\n",
      "2027-10-26 06:45:00   78.800000\n",
      "2027-10-26 06:46:00   81.666667\n",
      "2027-10-26 06:47:00   82.166667\n",
      "2027-10-26 06:48:00   97.250000\n",
      "2027-10-26 06:49:00   96.500000\n",
      "2027-10-26 06:53:00  109.200000\n",
      "2027-10-26 06:55:00   98.555556\n"
     ]
    }
   ],
   "source": [
    "df_subset = test.iloc[np.where(anomalies)]\n",
    "fig, ax = plt.subplots()\n",
    "fig.set_figwidth(15)\n",
    "\n",
    "test.plot(legend=False, ax=ax)\n",
    "df_subset.plot(legend=False, ax=ax, color=\"r\")\n",
    "\n",
    "if(info['covid_test_date']!=None):\n",
    "        plt.axvspan(info['covid_test_date'], min(test.index[-1], info['covid_test_date']+pd.to_timedelta('7d')), facecolor='red', alpha=0.25, label='Covid')\n",
    "        plt.axvspan(info['covid_test_date'], max(test.index[1], info['covid_test_date']-pd.to_timedelta('7d')), facecolor='yellow', alpha=0.25, label='Covid')\n",
    "plt.show()\n",
    "\n",
    "\n",
    "\n",
    "dates = test.iloc[np.where(anomalies)].resample('1D').count().fillna(0).rename(columns={'heartrate': 'count'})\n",
    "\n",
    "dates['alarm'] = (dates['count'] > 0)*2\n",
    "# return dates\n",
    "ali.ui.plot(rhr,alerts=dates,info=info,show=True)\n",
    "print(test.iloc[np.where(anomalies)])"
   ]
  }
 ],
 "metadata": {
  "kernelspec": {
   "display_name": "Python 3",
   "language": "python",
   "name": "python3"
  },
  "language_info": {
   "codemirror_mode": {
    "name": "ipython",
    "version": 3
   },
   "file_extension": ".py",
   "mimetype": "text/x-python",
   "name": "python",
   "nbconvert_exporter": "python",
   "pygments_lexer": "ipython3",
   "version": "3.8.10"
  },
  "toc": {
   "base_numbering": 1,
   "nav_menu": {},
   "number_sections": false,
   "sideBar": true,
   "skip_h1_title": false,
   "title_cell": "Table of Contents",
   "title_sidebar": "Contents",
   "toc_cell": false,
   "toc_position": {},
   "toc_section_display": true,
   "toc_window_display": false
  },
  "varInspector": {
   "cols": {
    "lenName": 16,
    "lenType": 16,
    "lenVar": 40
   },
   "kernels_config": {
    "python": {
     "delete_cmd_postfix": "",
     "delete_cmd_prefix": "del ",
     "library": "var_list.py",
     "varRefreshCmd": "print(var_dic_list())"
    },
    "r": {
     "delete_cmd_postfix": ") ",
     "delete_cmd_prefix": "rm(",
     "library": "var_list.r",
     "varRefreshCmd": "cat(var_dic_list()) "
    }
   },
   "types_to_exclude": [
    "module",
    "function",
    "builtin_function_or_method",
    "instance",
    "_Feature"
   ],
   "window_display": false
  }
 },
 "nbformat": 4,
 "nbformat_minor": 5
}
