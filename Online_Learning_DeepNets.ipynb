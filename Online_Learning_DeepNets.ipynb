{
 "cells": [
  {
   "cell_type": "markdown",
   "metadata": {},
   "source": [
    "# Test online learning in DeepNets\n",
    "\n"
   ]
  },
  {
   "cell_type": "markdown",
   "metadata": {},
   "source": [
    "The idea here is to train a model on 1 data point at a time so mimic online setting and compare the results with batch_size >1 setting"
   ]
  },
  {
   "cell_type": "code",
   "execution_count": 1,
   "metadata": {
    "ExecuteTime": {
     "end_time": "2022-01-09T09:21:01.539975Z",
     "start_time": "2022-01-09T09:21:01.537337Z"
    }
   },
   "outputs": [],
   "source": [
    "%matplotlib inline"
   ]
  },
  {
   "cell_type": "code",
   "execution_count": 2,
   "metadata": {
    "ExecuteTime": {
     "end_time": "2022-01-09T09:21:02.768278Z",
     "start_time": "2022-01-09T09:21:01.546851Z"
    }
   },
   "outputs": [],
   "source": [
    "import numpy as np\n",
    "import matplotlib.pyplot as plt\n",
    "plt.rcParams['figure.figsize'] = (7,7) # Make the figures a bit bigger\n",
    "from time import time\n",
    "\n",
    "\n",
    "from keras.datasets import mnist\n",
    "from keras.models import Sequential\n",
    "from keras.layers.core import Dense, Dropout, Activation\n",
    "from keras.utils import np_utils"
   ]
  },
  {
   "cell_type": "code",
   "execution_count": 3,
   "metadata": {
    "ExecuteTime": {
     "end_time": "2022-01-09T09:21:03.403888Z",
     "start_time": "2022-01-09T09:21:02.769479Z"
    }
   },
   "outputs": [
    {
     "name": "stdout",
     "output_type": "stream",
     "text": [
      "Downloading data from https://storage.googleapis.com/tensorflow/tf-keras-datasets/mnist.npz\n",
      "11493376/11490434 [==============================] - 0s 0us/step\n",
      "11501568/11490434 [==============================] - 0s 0us/step\n",
      "X_train original shape (60000, 28, 28)\n",
      "y_train original shape (60000,)\n",
      "X_test original shape (10000, 28, 28)\n",
      "y_test original shape (10000,)\n"
     ]
    }
   ],
   "source": [
    "nb_classes = 10\n",
    "\n",
    "# the data, shuffled and split between tran and test sets\n",
    "(X_train_org, y_train_org), (X_test_org, y_test_org) = mnist.load_data()\n",
    "print(\"X_train original shape\", X_train_org.shape)\n",
    "print(\"y_train original shape\", y_train_org.shape)\n",
    "print(\"X_test original shape\", X_test_org.shape)\n",
    "print(\"y_test original shape\", y_test_org.shape)"
   ]
  },
  {
   "cell_type": "code",
   "execution_count": 4,
   "metadata": {
    "ExecuteTime": {
     "end_time": "2022-01-09T09:21:03.894848Z",
     "start_time": "2022-01-09T09:21:03.405189Z"
    }
   },
   "outputs": [
    {
     "data": {
      "image/png": "[encoded data removed]",
      "text/plain": [
       "<Figure size 504x504 with 9 Axes>"
      ]
     },
     "metadata": {
      "needs_background": "light"
     },
     "output_type": "display_data"
    }
   ],
   "source": [
    "for i in range(9):\n",
    "    plt.subplot(3,3,i+1)\n",
    "    plt.imshow(X_train_org[i], cmap='gray', interpolation='none')\n",
    "    plt.title(\"Class {}\".format(y_train_org[i]))"
   ]
  },
  {
   "cell_type": "code",
   "execution_count": 5,
   "metadata": {
    "ExecuteTime": {
     "end_time": "2022-01-09T09:21:03.898083Z",
     "start_time": "2022-01-09T09:21:03.896166Z"
    }
   },
   "outputs": [],
   "source": [
    "X_train = X_train_org\n",
    "y_train = y_train_org\n",
    "X_test = X_test_org\n",
    "y_test = y_test_org"
   ]
  },
  {
   "cell_type": "code",
   "execution_count": 6,
   "metadata": {
    "ExecuteTime": {
     "end_time": "2022-01-09T09:21:03.956787Z",
     "start_time": "2022-01-09T09:21:03.899196Z"
    }
   },
   "outputs": [
    {
     "name": "stdout",
     "output_type": "stream",
     "text": [
      "Training matrix shape (60000, 784)\n",
      "Testing matrix shape (10000, 784)\n"
     ]
    }
   ],
   "source": [
    "X_train = X_train.reshape(60000, 784)\n",
    "X_test = X_test.reshape(10000, 784)\n",
    "X_train = X_train.astype('float32')\n",
    "X_test = X_test.astype('float32')\n",
    "X_train /= 255\n",
    "X_test /= 255\n",
    "print(\"Training matrix shape\", X_train.shape)\n",
    "print(\"Testing matrix shape\", X_test.shape)"
   ]
  },
  {
   "cell_type": "code",
   "execution_count": 7,
   "metadata": {
    "ExecuteTime": {
     "end_time": "2022-01-09T09:21:03.960661Z",
     "start_time": "2022-01-09T09:21:03.957771Z"
    }
   },
   "outputs": [],
   "source": [
    "# get 1-hot representation for the 10 classes\n",
    "Y_train = np_utils.to_categorical(y_train, nb_classes)\n",
    "Y_test = np_utils.to_categorical(y_test, nb_classes)"
   ]
  },
  {
   "cell_type": "code",
   "execution_count": 8,
   "metadata": {
    "ExecuteTime": {
     "end_time": "2022-01-09T09:21:04.004552Z",
     "start_time": "2022-01-09T09:21:03.961682Z"
    }
   },
   "outputs": [],
   "source": [
    "model = Sequential()\n",
    "model.add(Dense(512, input_shape=(784,)))\n",
    "model.add(Activation('relu')) # An \"activation\" is just a non-linear function applied to the output\n",
    "                              # of the layer above. Here, with a \"rectified linear unit\",\n",
    "                              # we clamp all values below 0 to 0.\n",
    "                           \n",
    "model.add(Dropout(0.4))   # Dropout helps protect the model from memorizing or \"overfitting\" the training data\n",
    "model.add(Dense(512))\n",
    "model.add(Activation('relu'))\n",
    "model.add(Dropout(0.5))\n",
    "model.add(Dense(10))\n",
    "model.add(Activation('softmax'))"
   ]
  },
  {
   "cell_type": "code",
   "execution_count": 18,
   "metadata": {
    "ExecuteTime": {
     "end_time": "2022-01-09T09:23:58.839258Z",
     "start_time": "2022-01-09T09:23:58.832970Z"
    }
   },
   "outputs": [],
   "source": [
    "model.compile(loss='categorical_crossentropy', metrics=['accuracy'],optimizer='adam')"
   ]
  },
  {
   "cell_type": "code",
   "execution_count": 19,
   "metadata": {
    "ExecuteTime": {
     "end_time": "2022-01-09T09:24:16.234634Z",
     "start_time": "2022-01-09T09:24:00.762610Z"
    }
   },
   "outputs": [
    {
     "name": "stdout",
     "output_type": "stream",
     "text": [
      "Epoch 1/6\n",
      "469/469 [==============================] - 3s 6ms/step - loss: 0.0465 - accuracy: 0.9854 - val_loss: 0.0684 - val_accuracy: 0.9825\n",
      "Epoch 2/6\n",
      "469/469 [==============================] - 3s 5ms/step - loss: 0.0435 - accuracy: 0.9861 - val_loss: 0.0619 - val_accuracy: 0.9833\n",
      "Epoch 3/6\n",
      "469/469 [==============================] - 2s 5ms/step - loss: 0.0412 - accuracy: 0.9869 - val_loss: 0.0664 - val_accuracy: 0.9835\n",
      "Epoch 4/6\n",
      "469/469 [==============================] - 2s 5ms/step - loss: 0.0392 - accuracy: 0.9881 - val_loss: 0.0630 - val_accuracy: 0.9826\n",
      "Epoch 5/6\n",
      "469/469 [==============================] - 2s 5ms/step - loss: 0.0336 - accuracy: 0.9894 - val_loss: 0.0665 - val_accuracy: 0.9830\n",
      "Epoch 6/6\n",
      "469/469 [==============================] - 2s 5ms/step - loss: 0.0365 - accuracy: 0.9881 - val_loss: 0.0683 - val_accuracy: 0.9831\n"
     ]
    }
   ],
   "source": [
    "offline_history = model.fit(X_train, Y_train,\n",
    "          batch_size=128, epochs=6,\n",
    "          verbose=1,\n",
    "          validation_data=(X_test, Y_test))"
   ]
  },
  {
   "cell_type": "code",
   "execution_count": null,
   "metadata": {
    "ExecuteTime": {
     "end_time": "2022-01-09T09:21:04.161147Z",
     "start_time": "2022-01-09T09:21:01.433Z"
    }
   },
   "outputs": [],
   "source": [
    "#model.predict_classes(X_test)"
   ]
  },
  {
   "cell_type": "code",
   "execution_count": 23,
   "metadata": {
    "ExecuteTime": {
     "end_time": "2022-01-09T09:25:17.360343Z",
     "start_time": "2022-01-09T09:25:17.140340Z"
    }
   },
   "outputs": [
    {
     "data": {
      "image/png": "[encoded data removed]",
      "text/plain": [
       "<Figure size 504x504 with 1 Axes>"
      ]
     },
     "metadata": {
      "needs_background": "light"
     },
     "output_type": "display_data"
    },
    {
     "data": {
      "image/png": "[encoded data removed]",
      "text/plain": [
       "<Figure size 504x504 with 1 Axes>"
      ]
     },
     "metadata": {
      "needs_background": "light"
     },
     "output_type": "display_data"
    }
   ],
   "source": [
    "hist = offline_history\n",
    "\n",
    "plt.figure(1)\n",
    "\n",
    "axes = plt.gca()\n",
    "x_min = hist.epoch[0]\n",
    "x_max = hist.epoch[-1]+1\n",
    "axes.set_xlim([x_min,x_max])\n",
    "\n",
    "plt.scatter(hist.epoch, hist.history['loss'], color='g')\n",
    "plt.plot(hist.history['loss'], color='g', label='Training Loss')\n",
    "plt.scatter(hist.epoch, hist.history['val_loss'], color='b')\n",
    "plt.plot(hist.history['val_loss'], color='b', label='Validation Loss')\n",
    "plt.xlabel('epochs')\n",
    "plt.ylabel('Loss')\n",
    "plt.title('Training Loss & Validation Loss vs Epochs')\n",
    "plt.legend()\n",
    "\n",
    "plt.figure(2)\n",
    "\n",
    "axes = plt.gca()\n",
    "x_min = hist.epoch[0]\n",
    "x_max = hist.epoch[-1]+1\n",
    "axes.set_xlim([x_min,x_max])\n",
    "\n",
    "plt.scatter(hist.epoch, hist.history['accuracy'], color='r')\n",
    "plt.plot(hist.history['accuracy'], color='r', label='Training Accuracy')\n",
    "plt.scatter(hist.epoch, hist.history['val_accuracy'], color='c')\n",
    "plt.plot(hist.history['val_accuracy'], color='c', label='Validation Accuracy')\n",
    "plt.xlabel('epochs')\n",
    "plt.ylabel('Accuracy')\n",
    "plt.title('Trainging Accuracy & Validation Accuracy vs Epochs')\n",
    "plt.legend()\n",
    "\n",
    "plt.show()"
   ]
  },
  {
   "cell_type": "code",
   "execution_count": 25,
   "metadata": {
    "ExecuteTime": {
     "end_time": "2022-01-09T09:25:39.249954Z",
     "start_time": "2022-01-09T09:25:38.802501Z"
    }
   },
   "outputs": [
    {
     "name": "stdout",
     "output_type": "stream",
     "text": [
      "313/313 [==============================] - 0s 1ms/step - loss: 0.0683 - accuracy: 0.9831\n",
      "Test score: 0.06830894947052002\n",
      "Test accuracy: 0.9830999970436096\n"
     ]
    }
   ],
   "source": [
    "loss, acc = model.evaluate(X_test, Y_test,\n",
    "                       verbose=1)\n",
    "print('Test score:', loss)\n",
    "print('Test accuracy:', acc)"
   ]
  },
  {
   "cell_type": "code",
   "execution_count": 31,
   "metadata": {
    "ExecuteTime": {
     "end_time": "2022-01-09T09:27:49.571155Z",
     "start_time": "2022-01-09T09:27:49.220437Z"
    }
   },
   "outputs": [],
   "source": [
    "# The predict_classes function outputs the highest probability class\n",
    "# according to the trained classifier for each input example.\n",
    "predicted_classes = np.argmax(model.predict(X_test),axis=1)\n",
    "\n",
    "# Check which items we got right / wrong\n",
    "correct_indices = np.nonzero(predicted_classes == y_test)[0]\n",
    "incorrect_indices = np.nonzero(predicted_classes != y_test)[0]"
   ]
  },
  {
   "cell_type": "code",
   "execution_count": 32,
   "metadata": {
    "ExecuteTime": {
     "end_time": "2022-01-09T09:27:51.882734Z",
     "start_time": "2022-01-09T09:27:51.879808Z"
    }
   },
   "outputs": [
    {
     "data": {
      "text/plain": [
       "9831"
      ]
     },
     "execution_count": 32,
     "metadata": {},
     "output_type": "execute_result"
    }
   ],
   "source": [
    "len(correct_indices)"
   ]
  },
  {
   "cell_type": "code",
   "execution_count": 33,
   "metadata": {
    "ExecuteTime": {
     "end_time": "2022-01-09T09:27:53.979571Z",
     "start_time": "2022-01-09T09:27:53.976689Z"
    }
   },
   "outputs": [
    {
     "data": {
      "text/plain": [
       "169"
      ]
     },
     "execution_count": 33,
     "metadata": {},
     "output_type": "execute_result"
    }
   ],
   "source": [
    "len(incorrect_indices)"
   ]
  },
  {
   "cell_type": "markdown",
   "metadata": {},
   "source": [
    "## Lets go the online way !"
   ]
  },
  {
   "cell_type": "code",
   "execution_count": 34,
   "metadata": {
    "ExecuteTime": {
     "end_time": "2022-01-09T09:28:06.092704Z",
     "start_time": "2022-01-09T09:28:06.062610Z"
    }
   },
   "outputs": [],
   "source": [
    "model_online_1 = Sequential()\n",
    "model_online_1.add(Dense(512, input_shape=(784,)))\n",
    "model_online_1.add(Activation('relu')) # An \"activation\" is just a non-linear function applied to the output\n",
    "                              # of the layer above. Here, with a \"rectified linear unit\",\n",
    "                              # we clamp all values below 0 to 0.\n",
    "                           \n",
    "model_online_1.add(Dropout(0.2))   # Dropout helps protect the model from memorizing or \"overfitting\" the training data\n",
    "model_online_1.add(Dense(512))\n",
    "model_online_1.add(Activation('relu'))\n",
    "model_online_1.add(Dropout(0.2))\n",
    "model_online_1.add(Dense(10))\n",
    "model_online_1.add(Activation('softmax'))"
   ]
  },
  {
   "cell_type": "code",
   "execution_count": 36,
   "metadata": {
    "ExecuteTime": {
     "end_time": "2022-01-09T09:28:24.277641Z",
     "start_time": "2022-01-09T09:28:24.272166Z"
    }
   },
   "outputs": [],
   "source": [
    "model_online_1.compile(loss='categorical_crossentropy', metrics=['accuracy'],optimizer='adam')"
   ]
  },
  {
   "cell_type": "code",
   "execution_count": 37,
   "metadata": {
    "ExecuteTime": {
     "end_time": "2022-01-09T09:28:26.654475Z",
     "start_time": "2022-01-09T09:28:26.652395Z"
    }
   },
   "outputs": [],
   "source": [
    "no_of_samples = len(X_train)\n",
    "\n",
    "batch_size = 1\n",
    "nb_classes = 10\n",
    "nb_epoch = 1\n",
    "start_time = 0\n",
    "end_time = 0"
   ]
  },
  {
   "cell_type": "code",
   "execution_count": 38,
   "metadata": {
    "ExecuteTime": {
     "end_time": "2022-01-09T09:28:29.944933Z",
     "start_time": "2022-01-09T09:28:29.942320Z"
    }
   },
   "outputs": [],
   "source": [
    "from keras.callbacks import Callback\n",
    "\n",
    "class LossHistory(Callback):\n",
    "    def on_train_begin(self, logs={}):\n",
    "        self.losses = []\n",
    "\n",
    "    def on_batch_end(self, batch, logs={}):\n",
    "        self.losses.append(logs.get('loss'))"
   ]
  },
  {
   "cell_type": "code",
   "execution_count": 39,
   "metadata": {
    "ExecuteTime": {
     "end_time": "2022-01-09T09:28:33.201801Z",
     "start_time": "2022-01-09T09:28:33.199746Z"
    }
   },
   "outputs": [],
   "source": [
    "online_history = LossHistory()"
   ]
  },
  {
   "cell_type": "code",
   "execution_count": 43,
   "metadata": {
    "ExecuteTime": {
     "end_time": "2022-01-09T09:29:17.563778Z",
     "start_time": "2022-01-09T09:29:17.561266Z"
    }
   },
   "outputs": [],
   "source": [
    "def compute_regret(model,X,Y):\n",
    "    \n",
    "    predicted_classes = np.argmax(model.predict(X),axis=1)\n",
    "    \n",
    "    correct_indices = np.nonzero(predicted_classes == Y)[0]\n",
    "    incorrect_indices = np.nonzero(predicted_classes != Y)[0]\n",
    "    \n",
    "    return (correct_indices, incorrect_indices)"
   ]
  },
  {
   "cell_type": "code",
   "execution_count": 45,
   "metadata": {
    "ExecuteTime": {
     "end_time": "2022-01-09T11:53:31.586125Z",
     "start_time": "2022-01-09T09:29:34.339715Z"
    },
    "scrolled": false
   },
   "outputs": [
    {
     "name": "stdout",
     "output_type": "stream",
     "text": [
      "Example : %d 999\n",
      "Training on 1000 point took 1641720702.22 secs\n",
      "Example : %d 1999\n",
      "Training on 1000 point took 133.89 secs\n",
      "Example : %d 2999\n",
      "Training on 1000 point took 130.46 secs\n",
      "Example : %d 3999\n",
      "Training on 1000 point took 131.59 secs\n",
      "Example : %d 4999\n",
      "Training on 1000 point took 141.93 secs\n",
      "Example : %d 5999\n",
      "Training on 1000 point took 178.85 secs\n",
      "Example : %d 6999\n",
      "Training on 1000 point took 174.11 secs\n",
      "Example : %d 7999\n",
      "Training on 1000 point took 155.53 secs\n",
      "Example : %d 8999\n",
      "Training on 1000 point took 135.46 secs\n",
      "Example : %d 9999\n",
      "Training on 1000 point took 134.64 secs\n",
      "Example : %d 10999\n",
      "Training on 1000 point took 130.99 secs\n",
      "Example : %d 11999\n",
      "Training on 1000 point took 131.31 secs\n",
      "Example : %d 12999\n",
      "Training on 1000 point took 131.83 secs\n",
      "Example : %d 13999\n",
      "Training on 1000 point took 132.63 secs\n",
      "Example : %d 14999\n",
      "Training on 1000 point took 130.49 secs\n",
      "Example : %d 15999\n",
      "Training on 1000 point took 131.25 secs\n",
      "Example : %d 16999\n",
      "Training on 1000 point took 130.29 secs\n",
      "Example : %d 17999\n",
      "Training on 1000 point took 134.82 secs\n",
      "Example : %d 18999\n",
      "Training on 1000 point took 131.41 secs\n",
      "Example : %d 19999\n",
      "Training on 1000 point took 132.45 secs\n",
      "Example : %d 20999\n",
      "Training on 1000 point took 131.84 secs\n",
      "Example : %d 21999\n",
      "Training on 1000 point took 135.66 secs\n",
      "Example : %d 22999\n",
      "Training on 1000 point took 139.70 secs\n",
      "Example : %d 23999\n",
      "Training on 1000 point took 134.35 secs\n",
      "Example : %d 24999\n",
      "Training on 1000 point took 131.78 secs\n",
      "Example : %d 25999\n",
      "Training on 1000 point took 144.22 secs\n",
      "Example : %d 26999\n",
      "Training on 1000 point took 171.17 secs\n",
      "Example : %d 27999\n",
      "Training on 1000 point took 173.10 secs\n",
      "Example : %d 28999\n",
      "Training on 1000 point took 151.22 secs\n",
      "Example : %d 29999\n",
      "Training on 1000 point took 142.51 secs\n",
      "Example : %d 30999\n",
      "Training on 1000 point took 174.06 secs\n",
      "Example : %d 31999\n",
      "Training on 1000 point took 168.57 secs\n",
      "Example : %d 32999\n",
      "Training on 1000 point took 143.25 secs\n",
      "Example : %d 33999\n",
      "Training on 1000 point took 133.23 secs\n",
      "Example : %d 34999\n",
      "Training on 1000 point took 134.77 secs\n",
      "Example : %d 35999\n",
      "Training on 1000 point took 133.34 secs\n",
      "Example : %d 36999\n",
      "Training on 1000 point took 136.07 secs\n",
      "Example : %d 37999\n",
      "Training on 1000 point took 133.63 secs\n",
      "Example : %d 38999\n",
      "Training on 1000 point took 133.97 secs\n",
      "Example : %d 39999\n",
      "Training on 1000 point took 132.03 secs\n",
      "Example : %d 40999\n",
      "Training on 1000 point took 133.95 secs\n",
      "Example : %d 41999\n",
      "Training on 1000 point took 132.49 secs\n",
      "Example : %d 42999\n",
      "Training on 1000 point took 132.66 secs\n",
      "Example : %d 43999\n",
      "Training on 1000 point took 133.22 secs\n",
      "Example : %d 44999\n",
      "Training on 1000 point took 134.16 secs\n",
      "Example : %d 45999\n",
      "Training on 1000 point took 133.93 secs\n",
      "Example : %d 46999\n",
      "Training on 1000 point took 134.06 secs\n",
      "Example : %d 47999\n",
      "Training on 1000 point took 132.65 secs\n",
      "Example : %d 48999\n",
      "Training on 1000 point took 144.00 secs\n",
      "Example : %d 49999\n",
      "Training on 1000 point took 144.72 secs\n",
      "Example : %d 50999\n",
      "Training on 1000 point took 149.42 secs\n",
      "Example : %d 51999\n",
      "Training on 1000 point took 175.02 secs\n",
      "Example : %d 52999\n",
      "Training on 1000 point took 169.74 secs\n",
      "Example : %d 53999\n",
      "Training on 1000 point took 156.31 secs\n",
      "Example : %d 54999\n",
      "Training on 1000 point took 133.05 secs\n",
      "Example : %d 55999\n",
      "Training on 1000 point took 164.72 secs\n",
      "Example : %d 56999\n",
      "Training on 1000 point took 161.76 secs\n",
      "Example : %d 57999\n",
      "Training on 1000 point took 166.62 secs\n",
      "Example : %d 58999\n",
      "Training on 1000 point took 179.71 secs\n",
      "Example : %d 59999\n",
      "Training on 1000 point took 177.44 secs\n"
     ]
    }
   ],
   "source": [
    "#no_of_samples = 5000\n",
    "from tqdm.notebook import tqdm\n",
    "# store regrets for train and test - regret is a tuple (correct_indices, incorrect_indices)\n",
    "train_regret_list = []\n",
    "test_regret_list = []\n",
    "\n",
    "# store (loss,accuracy) for train and test data\n",
    "train_score_list = []\n",
    "test_score_list = []\n",
    "\n",
    "REGRET_CHECKPOINT = 250\n",
    "ITERATION_CHECKPOINT = 250\n",
    "tbar = TQDMProgressBar(\n",
    "        update_per_second=1,\n",
    "        leave_epoch_progress=False,\n",
    "        leave_overall_progress=False,\n",
    "        show_epoch_progress=False\n",
    "    )\n",
    "\n",
    "for i in tqdm(range(no_of_samples)):\n",
    "    \n",
    "    # print info after consuming 1000 data points\n",
    "    if ((i+1)%ITERATION_CHECKPOINT == 0):\n",
    "        print(f\"Example : {i}\")\n",
    "        end_time = time()\n",
    "        time_lapse = end_time - start_time\n",
    "        print(\"Training on 1000 point took %.2f secs\" %(end_time - start_time))\n",
    "        start_time = time()\n",
    "        #start_time = time()\n",
    "\n",
    "    # train on ith data point\n",
    "    model_online_1.fit(X_train[i:i+1,:], Y_train[i:i+1],\n",
    "          batch_size, epochs=1, callbacks=[tbar],\n",
    "          verbose=0)\n",
    "    \n",
    "    #calculate regret on train and test\n",
    "    if ((i+1)%REGRET_CHECKPOINT == 0):\n",
    "        \n",
    "        # compute regrets and store it\n",
    "        train_regret = compute_regret(model_online_1,X_train,y_train_org)\n",
    "        test_regret = compute_regret(model_online_1,X_test,y_test_org)\n",
    "        train_regret_list.append(train_regret)\n",
    "        test_regret_list.append(test_regret)\n",
    "        \n",
    "        # compute scores and store them\n",
    "        train_score = model_online_1.evaluate(X_train, Y_train,  verbose=0)\n",
    "        test_score = model_online_1.evaluate(X_test, Y_test,  verbose=0)\n",
    "        print('train_score:{train_score} test_score:{test_score}')\n",
    "        train_score_list.append(train_score)\n",
    "        test_score_list.append(test_score)"
   ]
  },
  {
   "cell_type": "code",
   "execution_count": 46,
   "metadata": {
    "ExecuteTime": {
     "end_time": "2022-01-09T11:53:35.984714Z",
     "start_time": "2022-01-09T11:53:35.971884Z"
    }
   },
   "outputs": [
    {
     "ename": "NameError",
     "evalue": "name 'xrange' is not defined",
     "output_type": "error",
     "traceback": [
      "\u001b[0;31m---------------------------------------------------------------------------\u001b[0m",
      "\u001b[0;31mNameError\u001b[0m                                 Traceback (most recent call last)",
      "\u001b[0;32m<ipython-input-46-6e8fb9bcbe5e>\u001b[0m in \u001b[0;36m<module>\u001b[0;34m\u001b[0m\n\u001b[1;32m      1\u001b[0m \u001b[0mplt\u001b[0m\u001b[0;34m.\u001b[0m\u001b[0mfigure\u001b[0m\u001b[0;34m(\u001b[0m\u001b[0;36m3\u001b[0m\u001b[0;34m)\u001b[0m\u001b[0;34m\u001b[0m\u001b[0;34m\u001b[0m\u001b[0m\n\u001b[1;32m      2\u001b[0m \u001b[0;34m\u001b[0m\u001b[0m\n\u001b[0;32m----> 3\u001b[0;31m \u001b[0mX_vals\u001b[0m \u001b[0;34m=\u001b[0m \u001b[0;34m[\u001b[0m\u001b[0mi\u001b[0m \u001b[0;32mfor\u001b[0m \u001b[0mi\u001b[0m \u001b[0;32min\u001b[0m \u001b[0mxrange\u001b[0m\u001b[0;34m(\u001b[0m\u001b[0;36m0\u001b[0m\u001b[0;34m,\u001b[0m\u001b[0mno_of_samples\u001b[0m\u001b[0;34m,\u001b[0m\u001b[0mREGRET_CHECKPOINT\u001b[0m\u001b[0;34m)\u001b[0m\u001b[0;34m]\u001b[0m\u001b[0;34m\u001b[0m\u001b[0;34m\u001b[0m\u001b[0m\n\u001b[0m\u001b[1;32m      4\u001b[0m \u001b[0;34m\u001b[0m\u001b[0m\n\u001b[1;32m      5\u001b[0m \u001b[0mTrain_regrets\u001b[0m \u001b[0;34m=\u001b[0m \u001b[0;34m[\u001b[0m\u001b[0mlen\u001b[0m\u001b[0;34m(\u001b[0m\u001b[0mval\u001b[0m\u001b[0;34m[\u001b[0m\u001b[0;36m1\u001b[0m\u001b[0;34m]\u001b[0m\u001b[0;34m)\u001b[0m \u001b[0;32mfor\u001b[0m \u001b[0mval\u001b[0m \u001b[0;32min\u001b[0m \u001b[0mtrain_regret_list\u001b[0m\u001b[0;34m]\u001b[0m\u001b[0;34m\u001b[0m\u001b[0;34m\u001b[0m\u001b[0m\n",
      "\u001b[0;31mNameError\u001b[0m: name 'xrange' is not defined"
     ]
    },
    {
     "data": {
      "text/plain": [
       "<Figure size 504x504 with 0 Axes>"
      ]
     },
     "metadata": {},
     "output_type": "display_data"
    }
   ],
   "source": [
    "plt.figure(3)\n",
    "\n",
    "X_vals = [i for i in xrange(0,no_of_samples,REGRET_CHECKPOINT)]\n",
    "\n",
    "Train_regrets = [len(val[1]) for val in train_regret_list]\n",
    "Test_regrets = [len(val[1]) for val in test_regret_list]\n",
    "\n",
    "\n",
    "axes = plt.gca()\n",
    "x_min = X_vals[0]\n",
    "x_max = X_vals[-1]+1\n",
    "axes.set_xlim([x_min,x_max])\n",
    "\n",
    "plt.scatter(X_vals, Train_regrets, color='r')\n",
    "plt.plot(X_vals, Train_regrets, color='r', label='# Train Regrets')\n",
    "\n",
    "plt.scatter(X_vals, Test_regrets, color='g')\n",
    "plt.plot(X_vals, Test_regrets, color='g', label='# Test Regrets')\n",
    "\n",
    "plt.xlabel('# of Data Points')\n",
    "plt.ylabel('# of Regrets')\n",
    "plt.title('Training & Test Data -  # of Regrets vs # of Data Points')\n",
    "plt.legend()\n",
    "\n",
    "plt.show()\n"
   ]
  },
  {
   "cell_type": "code",
   "execution_count": null,
   "metadata": {
    "ExecuteTime": {
     "end_time": "2022-01-09T11:53:35.988853Z",
     "start_time": "2022-01-09T09:30:15.754Z"
    }
   },
   "outputs": [],
   "source": [
    "plt.figure(4)\n",
    "\n",
    "X_vals = [i for i in xrange(0,no_of_samples,50)]\n",
    "\n",
    "Train_accuracy = [val[1] for val in train_score_list]\n",
    "Test_accuracy = [val[1] for val in test_score_list]\n",
    "\n",
    "\n",
    "axes = plt.gca()\n",
    "x_min = X_vals[0]\n",
    "x_max = X_vals[-1]+1\n",
    "axes.set_xlim([x_min,x_max])\n",
    "\n",
    "plt.scatter(X_vals, Train_accuracy, color='r')\n",
    "plt.plot(X_vals, Train_accuracy, color='r', label='# Training accuracy')\n",
    "\n",
    "plt.scatter(X_vals, Test_accuracy, color='g')\n",
    "plt.plot(X_vals, Test_accuracy, color='g', label='# Testing accuracy')\n",
    "\n",
    "plt.xlabel('# of Data Points')\n",
    "plt.ylabel('# of Regrets')\n",
    "plt.title('Training & Test Data -  # of Regrets vs # of Data Points')\n",
    "plt.legend()\n",
    "\n",
    "plt.show()"
   ]
  },
  {
   "cell_type": "code",
   "execution_count": null,
   "metadata": {
    "ExecuteTime": {
     "end_time": "2022-01-09T09:21:04.169464Z",
     "start_time": "2022-01-09T09:21:01.467Z"
    }
   },
   "outputs": [],
   "source": [
    "# get the final numbers"
   ]
  },
  {
   "cell_type": "code",
   "execution_count": null,
   "metadata": {
    "ExecuteTime": {
     "end_time": "2022-01-09T11:53:35.992141Z",
     "start_time": "2022-01-09T09:30:20.460Z"
    }
   },
   "outputs": [],
   "source": [
    "correct, incorrect = compute_regret(model_online_1,X_test,y_test_org)\n",
    "print len(correct)\n",
    "print len(incorrect)"
   ]
  },
  {
   "cell_type": "code",
   "execution_count": null,
   "metadata": {
    "ExecuteTime": {
     "end_time": "2022-01-09T11:53:35.995377Z",
     "start_time": "2022-01-09T09:30:22.992Z"
    }
   },
   "outputs": [],
   "source": [
    "# train & test data accuracy\n",
    "\n",
    "print train_score_list[-1][1]\n",
    "\n",
    "print test_score_list[-1][1]"
   ]
  },
  {
   "cell_type": "markdown",
   "metadata": {},
   "source": [
    "## ReRun the same thing but this time on each Datapoint we run 3 epochs"
   ]
  },
  {
   "cell_type": "code",
   "execution_count": null,
   "metadata": {
    "ExecuteTime": {
     "end_time": "2022-01-09T09:21:04.171011Z",
     "start_time": "2022-01-09T09:21:01.472Z"
    }
   },
   "outputs": [],
   "source": [
    "# train another model but this time for ech datapoint I run 3 epochs.\n",
    "\n",
    "model_online_3 = Sequential()\n",
    "model_online_3.add(Dense(512, input_shape=(784,)))\n",
    "model_online_3.add(Activation('relu')) # An \"activation\" is just a non-linear function applied to the output\n",
    "                              # of the layer above. Here, with a \"rectified linear unit\",\n",
    "                              # we clamp all values below 0 to 0.\n",
    "                           \n",
    "model_online_3.add(Dropout(0.2))   # Dropout helps protect the model from memorizing or \"overfitting\" the training data\n",
    "model_online_3.add(Dense(512))\n",
    "model_online_3.add(Activation('relu'))\n",
    "model_online_3.add(Dropout(0.2))\n",
    "model_online_3.add(Dense(10))\n",
    "model_online_3.add(Activation('softmax'))"
   ]
  },
  {
   "cell_type": "code",
   "execution_count": null,
   "metadata": {
    "ExecuteTime": {
     "end_time": "2022-01-09T09:21:04.171536Z",
     "start_time": "2022-01-09T09:21:01.474Z"
    }
   },
   "outputs": [],
   "source": [
    "model_online_3.compile(loss='categorical_crossentropy', metrics=['accuracy'],optimizer='adam')"
   ]
  },
  {
   "cell_type": "code",
   "execution_count": null,
   "metadata": {
    "ExecuteTime": {
     "end_time": "2022-01-09T09:21:04.172068Z",
     "start_time": "2022-01-09T09:21:01.475Z"
    }
   },
   "outputs": [],
   "source": [
    "# store regrets for train and test - regret is a tuple (correct_indices, incorrect_indices)\n",
    "train_regret_list = []\n",
    "test_regret_list = []\n",
    "\n",
    "# store (loss,accuracy) for train and test data\n",
    "train_score_list = []\n",
    "test_score_list = []\n",
    "\n",
    "#REGRET_CHECKPOINT = 50\n",
    "#ITERATION_CHECKPOINT = 1000\n",
    "\n",
    "\n",
    "for i in range(no_of_samples):\n",
    "    \n",
    "    # print info after consuming 1000 data points\n",
    "    if ((i+1)%ITERATION_CHECKPOINT == 0):\n",
    "        print(\"Example : %d\", i)\n",
    "        end_time = time()\n",
    "        time_lapse = end_time - start_time\n",
    "        print(\"Training on 1000 point took %.2f secs\" %(end_time - start_time))\n",
    "        start_time = time()\n",
    "        #start_time = time()\n",
    "\n",
    "    # train on ith data point\n",
    "    model_online_3.fit(X_train[i:i+1,:], Y_train[i:i+1],\n",
    "          batch_size, epochs=4,\n",
    "          show_accuracy=True, verbose=0)\n",
    "    \n",
    "    #calculate regret on train and test\n",
    "    if ((i+1)%REGRET_CHECKPOINT == 0):\n",
    "        \n",
    "        # compute regrets and store it\n",
    "        train_regret = compute_regret(model_online_3,X_train,y_train_org)\n",
    "        test_regret = compute_regret(model_online_3,X_test,y_test_org)\n",
    "        train_regret_list.append(train_regret)\n",
    "        test_regret_list.append(test_regret)\n",
    "        \n",
    "        # compute scores and store them\n",
    "        train_score = model_online_3.evaluate(X_train, Y_train,  verbose=0)\n",
    "        test_score = model_online_3.evaluate(X_test, Y_test,  verbose=0)\n",
    "        train_score_list.append(train_score)\n",
    "        test_score_list.append(test_score)"
   ]
  },
  {
   "cell_type": "code",
   "execution_count": null,
   "metadata": {
    "ExecuteTime": {
     "end_time": "2022-01-09T09:21:04.172606Z",
     "start_time": "2022-01-09T09:21:01.478Z"
    }
   },
   "outputs": [],
   "source": [
    "plt.figure(5)\n",
    "\n",
    "X_vals = [i for i in xrange(0,no_of_samples,REGRET_CHECKPOINT)]\n",
    "\n",
    "Train_regrets = [len(val[1]) for val in train_regret_list]\n",
    "Test_regrets = [len(val[1]) for val in test_regret_list]\n",
    "\n",
    "\n",
    "axes = plt.gca()\n",
    "x_min = X_vals[0]\n",
    "x_max = X_vals[-1]+1\n",
    "axes.set_xlim([x_min,x_max])\n",
    "\n",
    "plt.scatter(X_vals, Train_regrets, color='r')\n",
    "plt.plot(X_vals, Train_regrets, color='r', label='# Train Regrets')\n",
    "\n",
    "plt.scatter(X_vals, Test_regrets, color='g')\n",
    "plt.plot(X_vals, Test_regrets, color='g', label='# Test Regrets')\n",
    "\n",
    "plt.xlabel('# of Data Points')\n",
    "plt.ylabel('# of Regrets')\n",
    "plt.title('Training & Test Data -  # of Regrets vs # of Data Points')\n",
    "plt.legend()\n",
    "\n",
    "plt.show()"
   ]
  },
  {
   "cell_type": "code",
   "execution_count": null,
   "metadata": {
    "ExecuteTime": {
     "end_time": "2022-01-09T09:21:04.173228Z",
     "start_time": "2022-01-09T09:21:01.480Z"
    }
   },
   "outputs": [],
   "source": [
    "plt.figure(4)\n",
    "\n",
    "X_vals = [i for i in xrange(0,no_of_samples,50)]\n",
    "\n",
    "Train_accuracy = [val[1] for val in train_score_list]\n",
    "Test_accuracy = [val[1] for val in test_score_list]\n",
    "\n",
    "\n",
    "axes = plt.gca()\n",
    "x_min = X_vals[0]\n",
    "x_max = X_vals[-1]+1\n",
    "axes.set_xlim([x_min,x_max])\n",
    "\n",
    "plt.scatter(X_vals, Train_accuracy, color='r')\n",
    "plt.plot(X_vals, Train_accuracy, color='r', label='# Training accuracy')\n",
    "\n",
    "plt.scatter(X_vals, Test_accuracy, color='g')\n",
    "plt.plot(X_vals, Test_accuracy, color='g', label='# Testing accuracy')\n",
    "\n",
    "plt.xlabel('# of Data Points')\n",
    "plt.ylabel('# of Regrets')\n",
    "plt.title('Training & Test Data -  # of Regrets vs # of Data Points')\n",
    "plt.legend()\n",
    "\n",
    "plt.show()"
   ]
  },
  {
   "cell_type": "code",
   "execution_count": null,
   "metadata": {
    "ExecuteTime": {
     "end_time": "2022-01-09T09:21:04.173760Z",
     "start_time": "2022-01-09T09:21:01.482Z"
    }
   },
   "outputs": [],
   "source": [
    "# get the final numbers"
   ]
  },
  {
   "cell_type": "code",
   "execution_count": null,
   "metadata": {
    "ExecuteTime": {
     "end_time": "2022-01-09T09:21:04.174284Z",
     "start_time": "2022-01-09T09:21:01.483Z"
    }
   },
   "outputs": [],
   "source": [
    "correct, incorrect = compute_regret(model_online_3,X_test,y_test_org)\n",
    "print len(correct)\n",
    "print len(incorrect)"
   ]
  },
  {
   "cell_type": "code",
   "execution_count": null,
   "metadata": {
    "ExecuteTime": {
     "end_time": "2022-01-09T09:21:04.174798Z",
     "start_time": "2022-01-09T09:21:01.485Z"
    }
   },
   "outputs": [],
   "source": [
    "# train & test data accuracy\n",
    "\n",
    "print train_score_list[-1][1]\n",
    "\n",
    "print test_score_list[-1][1]"
   ]
  },
  {
   "cell_type": "code",
   "execution_count": null,
   "metadata": {},
   "outputs": [],
   "source": []
  }
 ],
 "metadata": {
  "kernelspec": {
   "display_name": "Python 3",
   "language": "python",
   "name": "python3"
  },
  "language_info": {
   "codemirror_mode": {
    "name": "ipython",
    "version": 3
   },
   "file_extension": ".py",
   "mimetype": "text/x-python",
   "name": "python",
   "nbconvert_exporter": "python",
   "pygments_lexer": "ipython3",
   "version": "3.8.10"
  },
  "toc": {
   "base_numbering": 1,
   "nav_menu": {},
   "number_sections": false,
   "sideBar": true,
   "skip_h1_title": false,
   "title_cell": "Table of Contents",
   "title_sidebar": "Contents",
   "toc_cell": false,
   "toc_position": {},
   "toc_section_display": true,
   "toc_window_display": false
  },
  "varInspector": {
   "cols": {
    "lenName": 16,
    "lenType": 16,
    "lenVar": 40
   },
   "kernels_config": {
    "python": {
     "delete_cmd_postfix": "",
     "delete_cmd_prefix": "del ",
     "library": "var_list.py",
     "varRefreshCmd": "print(var_dic_list())"
    },
    "r": {
     "delete_cmd_postfix": ") ",
     "delete_cmd_prefix": "rm(",
     "library": "var_list.r",
     "varRefreshCmd": "cat(var_dic_list()) "
    }
   },
   "types_to_exclude": [
    "module",
    "function",
    "builtin_function_or_method",
    "instance",
    "_Feature"
   ],
   "window_display": false
  }
 },
 "nbformat": 4,
 "nbformat_minor": 1
}
