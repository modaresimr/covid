{
 "cells": [
  {
   "cell_type": "code",
   "execution_count": null,
   "id": "41276f54",
   "metadata": {
    "ExecuteTime": {
     "end_time": "2022-01-26T17:16:49.144740Z",
     "start_time": "2022-01-26T17:16:45.851771Z"
    },
    "scrolled": false
   },
   "outputs": [],
   "source": [
    "%matplotlib inline\n",
    "# %matplotlib notebook\n",
    "# %matplotlib ipympl\n",
    "\n",
    "import pandas as pd\n",
    "from IPython.display import Image\n",
    "\n",
    "import importlib\n",
    "import ali.methods\n",
    "import ali.ui\n",
    "import ali.eval\n",
    "import ali.multi_run\n",
    "\n",
    "importlib.reload(ali.methods)\n",
    "importlib.reload(ali.timeseries_anomaly_detection)\n",
    "importlib.reload(ali.ui)\n",
    "importlib.reload(ali.eval)\n",
    "importlib.reload(ali.multi_run)\n",
    "\n",
    "import LAAD.scripts.laad_covid19\n",
    "importlib.reload(LAAD.scripts.laad_covid19)\n",
    "\n",
    "args = {\n",
    "    'methods' : [\n",
    "        'if',#'isolationforest',\n",
    "#         'nightsignal',\n",
    "        'ns_orig_4',\n",
    "        'ns_orig_3',\n",
    "        'ns_orig_2',\n",
    "#         'alisignal_60',\n",
    "        'CuSum',\n",
    "        'rhrad_0.1',\n",
    "        'random_0.03',\n",
    "        'random_0.07',\n",
    "        'random_0.10',\n",
    "        'random_0.13',\n",
    "#         'use-all'   \n",
    "    ],\n",
    "#     'methods' : [f'alisignal_{seg:3.0f}' for seg in range(30,7*60,30)],\n",
    "#     'methods' : [f'ad_f_{i}H_{i}H_1H' for i in range(4,48,4)],\n",
    "#     'methods' : [f'ad_fmnabdt_8H_8H_1H',f'ad_fnbdt_8H_8H_1H',f'ad_fmadt_8H_8H_1H',f'ad_fdt_8H_8H_1H',f'ad_f_8H_8H_1H',f'ad_fd_8H_8H_1H',f'ad_ft_8H_8H_1H'],\n",
    "#     'methods' :[f'ad_fmnabdt_8H_8H_1H',f'ad_fmnabdt_24H_24H_1H','ns_orig','random_0.07'],\n",
    "        \n",
    "#     'methods' : [f'ad_f_{i}D_24H_6H' for i in [1]],\n",
    "#     'methods' : [f'ad_f_{i}H_{i}H_1H' for i in range(4,24,4)],\n",
    "#     'methods' : ['laad'],\n",
    "#     'methods' :  np.concatenate([[f'random_{r:.2f}' for r in np.arange(.01,.2,.01)],[f'random_{r:.2f}' for r in np.arange(.2,.4,.05)],[f'random_{r:.2f}' for r in np.arange(.4,1.01,.2)]]),\n",
    "    'methods':['rhrad_0.1',],\n",
    "    'parallel':0,\n",
    "    'debug': 1,\n",
    "    'trace':0,\n",
    "    'show_final_graph':1,\n",
    "    'show_exception':1,\n",
    "    'save_plots_for_user':1,\n",
    "    'only_positive':1,\n",
    "#     'only_person':'P206998',\n",
    "#     'only_person':'P693795',\n",
    "#     'only_person':'P708653',\n",
    "#     'only_person':'P885171',\n",
    "#     'only_person':'P799237',\n",
    "#     'only_person':'P543995'\n",
    "#     'only_person':'P111019',\n",
    "    'rerun':1,\n",
    "#     'only_device':'AppleWatch'\n",
    "    'only_device':'Fitbit'\n",
    "\n",
    "}\n",
    "\n",
    "\n",
    "ali.multi_run.run(args)\n",
    "\"finished\""
   ]
  },
  {
   "cell_type": "code",
   "execution_count": null,
   "id": "691a2713",
   "metadata": {
    "ExecuteTime": {
     "end_time": "2022-01-13T06:51:00.809633Z",
     "start_time": "2022-01-13T06:51:00.801537Z"
    }
   },
   "outputs": [],
   "source": [
    "id='P196430'\n",
    "df = pd.read_csv(f'output/my/{id}/alarm.csv',parse_dates=['datetime'],index_col='datetime')\n",
    "# allAlarms.filter(like='ad_f_8h_8H_1H_all')\n",
    "indices = [(i,x) for i,x in enumerate(df.columns)]\n",
    "indices\n",
    "df2=df.loc[:, ~df.columns[::-1].duplicated()[::-1]]\n",
    "df.columns\n",
    "# 'ad_f_24H_24H_1H_all'=='ad_f_24H_24H_1H_all'\n",
    "# df.columns[::-1].duplicated()"
   ]
  },
  {
   "cell_type": "code",
   "execution_count": null,
   "id": "1728ccc8",
   "metadata": {
    "ExecuteTime": {
     "end_time": "2022-01-11T11:34:00.108829Z",
     "start_time": "2022-01-11T11:31:14.096534Z"
    }
   },
   "outputs": [],
   "source": []
  },
  {
   "cell_type": "code",
   "execution_count": null,
   "id": "94a7fde3",
   "metadata": {
    "ExecuteTime": {
     "end_time": "2022-01-07T12:26:44.208916Z",
     "start_time": "2022-01-07T12:26:43.354671Z"
    }
   },
   "outputs": [],
   "source": []
  },
  {
   "cell_type": "code",
   "execution_count": null,
   "id": "1e5b6ced",
   "metadata": {
    "ExecuteTime": {
     "end_time": "2022-01-11T09:43:05.338290Z",
     "start_time": "2022-01-11T09:43:05.170096Z"
    }
   },
   "outputs": [],
   "source": [
    "import ali.methods\n",
    "hr,step,rhr,rhrf,info=ali.methods.load('P477816')"
   ]
  },
  {
   "cell_type": "code",
   "execution_count": null,
   "id": "c7f2bafd",
   "metadata": {
    "ExecuteTime": {
     "end_time": "2022-01-11T10:46:40.325590Z",
     "start_time": "2022-01-11T10:46:40.320417Z"
    },
    "scrolled": true
   },
   "outputs": [],
   "source": [
    "(pd.Timestamp.now()-pd.Timestamp.now()).seconds"
   ]
  },
  {
   "cell_type": "code",
   "execution_count": null,
   "id": "68ea605f",
   "metadata": {
    "ExecuteTime": {
     "end_time": "2022-01-06T17:24:48.752345Z",
     "start_time": "2022-01-06T17:24:48.743159Z"
    }
   },
   "outputs": [],
   "source": [
    "# hr = hr.resample('1T').mean()\n",
    "# hr_step = hr.join(step_n, how='outer')\n",
    "\n",
    "# rhr_hint=hr_step.rolling('12T',min_periods=0).count().dropna()\n",
    "# rhr=hr.loc[rhr_hint[(rhr_hint['heartrate']>0) &(rhr_hint['steps']==0)].index].dropna()\n",
    "# display(rhr.loc[rhr.index.hour<7])\n",
    "# display(hr_step)"
   ]
  },
  {
   "cell_type": "code",
   "execution_count": null,
   "id": "aaecfe29",
   "metadata": {
    "ExecuteTime": {
     "end_time": "2022-01-18T13:07:18.496102Z",
     "start_time": "2022-01-18T12:58:42.192952Z"
    },
    "scrolled": false
   },
   "outputs": [],
   "source": [
    "import ali.new_method\n",
    "import importlib\n",
    "importlib.reload(ali.new_method)\n",
    "importlib.reload(ali.eval)\n",
    "importlib.reload(ali.ui)\n",
    "\n",
    "ali.new_method.reEvalAll()"
   ]
  },
  {
   "cell_type": "code",
   "execution_count": null,
   "id": "0c85fec9",
   "metadata": {
    "ExecuteTime": {
     "end_time": "2022-01-13T06:30:36.538933Z",
     "start_time": "2022-01-13T06:30:32.698716Z"
    },
    "scrolled": true
   },
   "outputs": [],
   "source": [
    "import os \n",
    "import pandas as pd\n",
    "from IPython.display import Image\n",
    "for id in os.listdir('output/my'):\n",
    "#     id='P111019'\n",
    "\n",
    "    if os.path.isfile(f'output/my/{id}/eval.csv'):\n",
    "        eval=pd.read_csv(f'output/my/{id}/eval.csv',header=[0,1],index_col=0)\n",
    "        if 'ad_f_8H_8H_1H' in eval.index and eval.loc['ad_f_8H_8H_1H'][('nature','tp')]==0:\n",
    "            print(id)\n",
    "            #             display(eval)\n",
    "#     for img in sorted(os.listdir(f'output/my/{id}/')):\n",
    "#         if '.png' in img and 'random' not in img and 'alisignal' not in img:\n",
    "#             display(Image(f'output/my/{id}/{img}'))\n",
    "            display(Image(f'output/my/{id}/all.png'))\n",
    "#             break "
   ]
  },
  {
   "cell_type": "code",
   "execution_count": null,
   "id": "adcb6832",
   "metadata": {
    "ExecuteTime": {
     "end_time": "2022-01-12T17:42:02.921797Z",
     "start_time": "2022-01-12T17:42:02.649453Z"
    }
   },
   "outputs": [],
   "source": [
    "import os \n",
    "from zipfile import ZipFile\n",
    "import ali.methods\n",
    "import ali.multi_run\n",
    "import pandas as pd\n",
    "from IPython.display import Image\n",
    "import json\n",
    "ids=ali.multi_run.getFileInfo({})\n",
    "import importlib\n",
    "importlib.reload(ali.multi_run)\n",
    "importlib.reload(ali.methods)\n",
    "skip=['P607618','P823032','P874998','P503799','P634103','P362737','P240922']\n",
    "skip=['P503799']\n",
    "all={}\n",
    "for id in os.listdir('output/my'):\n",
    "    if os.path.isfile(f'output/my/{id}/data.json'):\n",
    "        with open(f'output/my/{id}/data.json', 'r') as f:\n",
    "            info = json.load(f)\n",
    "            \n",
    "            if info['covid_test_date']=='None':continue\n",
    "            if info['symptom_date']!='None':continue\n",
    "            if info['device']not in all:\n",
    "                all[info['device']]=0\n",
    "            all[info['device']]+=1\n",
    "            \n",
    "print(all)\n"
   ]
  },
  {
   "cell_type": "code",
   "execution_count": null,
   "id": "29edb14f",
   "metadata": {
    "ExecuteTime": {
     "end_time": "2022-01-13T05:26:33.515186Z",
     "start_time": "2022-01-13T05:26:33.309233Z"
    },
    "scrolled": true
   },
   "outputs": [],
   "source": [
    "import importlib\n",
    "importlib.reload(ali.multi_run)\n",
    "\n",
    "ids=ali.multi_run.getFileInfo({})"
   ]
  },
  {
   "cell_type": "code",
   "execution_count": null,
   "id": "73aa68af",
   "metadata": {
    "ExecuteTime": {
     "end_time": "2022-01-13T05:27:45.380066Z",
     "start_time": "2022-01-13T05:27:45.173749Z"
    }
   },
   "outputs": [],
   "source": [
    "from zipfile import ZipFile\n",
    "data=ids['P377071']\n",
    "with ZipFile('../ssd2/COVID-19-Phase2-Wearables.zip') as myzip, myzip.open(data['step']) as stepf, myzip.open(data['hr']) as hrf:\n",
    "    for l in stepf:\n",
    "        print(l)"
   ]
  }
 ],
 "metadata": {
  "kernelspec": {
   "display_name": "Python 3",
   "language": "python",
   "name": "python3"
  },
  "language_info": {
   "codemirror_mode": {
    "name": "ipython",
    "version": 3
   },
   "file_extension": ".py",
   "mimetype": "text/x-python",
   "name": "python",
   "nbconvert_exporter": "python",
   "pygments_lexer": "ipython3",
   "version": "3.8.10"
  },
  "toc": {
   "base_numbering": 1,
   "nav_menu": {},
   "number_sections": false,
   "sideBar": true,
   "skip_h1_title": false,
   "title_cell": "Table of Contents",
   "title_sidebar": "Contents",
   "toc_cell": false,
   "toc_position": {},
   "toc_section_display": true,
   "toc_window_display": false
  },
  "varInspector": {
   "cols": {
    "lenName": 16,
    "lenType": 16,
    "lenVar": 40
   },
   "kernels_config": {
    "python": {
     "delete_cmd_postfix": "",
     "delete_cmd_prefix": "del ",
     "library": "var_list.py",
     "varRefreshCmd": "print(var_dic_list())"
    },
    "r": {
     "delete_cmd_postfix": ") ",
     "delete_cmd_prefix": "rm(",
     "library": "var_list.r",
     "varRefreshCmd": "cat(var_dic_list()) "
    }
   },
   "types_to_exclude": [
    "module",
    "function",
    "builtin_function_or_method",
    "instance",
    "_Feature"
   ],
   "window_display": false
  }
 },
 "nbformat": 4,
 "nbformat_minor": 5
}
