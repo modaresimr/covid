{
 "cells": [
  {
   "cell_type": "code",
   "execution_count": null,
   "id": "075d8a41",
   "metadata": {
    "ExecuteTime": {
     "end_time": "2021-12-15T10:37:36.214416Z",
     "start_time": "2021-12-15T10:37:22.552800Z"
    }
   },
   "outputs": [],
   "source": [
    "import ali.new_method\n",
    "import importlib\n",
    "importlib.reload(ali.new_method)\n",
    "importlib.reload(ali.eval)\n",
    "\n",
    "ali.new_method.reEvalAll()"
   ]
  },
  {
   "cell_type": "code",
   "execution_count": null,
   "id": "0efd959e",
   "metadata": {
    "ExecuteTime": {
     "end_time": "2021-12-15T11:05:56.858304Z",
     "start_time": "2021-12-15T11:05:55.593849Z"
    }
   },
   "outputs": [],
   "source": [
    "import os \n",
    "import glob\n",
    "import pandas as pd\n",
    "from IPython.display import Image\n",
    "for id in os.listdir('output/my'):\n",
    "    print(f'\\r{id}',end='')\n",
    "#     display(pd.read_csv(f'output/my/{id}/eval.csv'))\n",
    "    if not os.path.isfile(f'output/my/{id}/alarm.csv'):continue\n",
    "    for c in pd.read_csv(f'output/my/{id}/alarm.csv').columns:\n",
    "        if 'anomaly-detection' in c:\n",
    "#     if len(glob.glob(f'output/my/{id}/anomaly-detection.png'))==0:continue\n",
    "#     for img in sorted(os.listdir(f'output/my/{id}/')):\n",
    "#         if '.png' in img and 'random' not in img and 'alisignal' not in img:\n",
    "#             display(Image(f'output/my/{id}/{img}'))\n",
    "            display(Image(f'output/my/{id}/all.png'))\n",
    "    "
   ]
  },
  {
   "cell_type": "code",
   "execution_count": null,
   "id": "93babd88",
   "metadata": {
    "ExecuteTime": {
     "end_time": "2021-12-15T11:01:36.198484Z",
     "start_time": "2021-12-15T11:01:36.195155Z"
    }
   },
   "outputs": [],
   "source": [
    "# os.listdir(f'output/my/{id}/*png')\n",
    "import glob\n",
    "\n",
    "glob.glob(f'output/my/{id}/*png1')"
   ]
  },
  {
   "cell_type": "code",
   "execution_count": null,
   "id": "ea780a25",
   "metadata": {
    "ExecuteTime": {
     "end_time": "2021-12-13T16:42:38.084637Z",
     "start_time": "2021-12-13T16:42:38.042415Z"
    }
   },
   "outputs": [],
   "source": [
    "for typ in df.columns.levels[0]:\n",
    "                df[(typ, 'TPR')] = df[(typ, 'tp')]/(df[(typ,'tp')]+df[(typ,'fn')])\n",
    "                df[(typ, 'TNR')] = df[(typ, 'tn')]/(df[(typ, 'tn')]+df[(typ, 'fp')])\n",
    "df = df.round(2).sort_index(axis=1)\n",
    "df"
   ]
  }
 ],
 "metadata": {
  "kernelspec": {
   "display_name": "Python 3",
   "language": "python",
   "name": "python3"
  },
  "language_info": {
   "codemirror_mode": {
    "name": "ipython",
    "version": 3
   },
   "file_extension": ".py",
   "mimetype": "text/x-python",
   "name": "python",
   "nbconvert_exporter": "python",
   "pygments_lexer": "ipython3",
   "version": "3.8.10"
  },
  "toc": {
   "base_numbering": 1,
   "nav_menu": {},
   "number_sections": false,
   "sideBar": true,
   "skip_h1_title": false,
   "title_cell": "Table of Contents",
   "title_sidebar": "Contents",
   "toc_cell": false,
   "toc_position": {},
   "toc_section_display": true,
   "toc_window_display": false
  },
  "varInspector": {
   "cols": {
    "lenName": 16,
    "lenType": 16,
    "lenVar": 40
   },
   "kernels_config": {
    "python": {
     "delete_cmd_postfix": "",
     "delete_cmd_prefix": "del ",
     "library": "var_list.py",
     "varRefreshCmd": "print(var_dic_list())"
    },
    "r": {
     "delete_cmd_postfix": ") ",
     "delete_cmd_prefix": "rm(",
     "library": "var_list.r",
     "varRefreshCmd": "cat(var_dic_list()) "
    }
   },
   "types_to_exclude": [
    "module",
    "function",
    "builtin_function_or_method",
    "instance",
    "_Feature"
   ],
   "window_display": false
  }
 },
 "nbformat": 4,
 "nbformat_minor": 5
}
