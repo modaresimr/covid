{
 "cells": [
  {
   "cell_type": "code",
   "execution_count": 37,
   "id": "41276f54",
   "metadata": {
    "ExecuteTime": {
     "end_time": "2022-01-27T21:28:55.461009Z",
     "start_time": "2022-01-27T21:19:50.052408Z"
    },
    "scrolled": false
   },
   "outputs": [
    {
     "name": "stdout",
     "output_type": "stream",
     "text": [
      "runing... args={'methods': ['ns-orig_30', 'ns-orig_10', 'ns-orig_4', 'ns-orig_1', 'CuSum', 'rhrad_0.15', 'rhrad_0.10', 'rhrad_0.05', 'random_0.03', 'random_0.07', 'random_0.10', 'random_0.13'], 'parallel': 1, 'debug': 1, 'trace': 0, 'show_final_graph': 0, 'save_plots_for_user': 1, 'show_exception': 1, 'only_positive': 1, 'rerun': 0, 'only_person': 'P111019'}\n"
     ]
    },
    {
     "data": {
      "application/vnd.jupyter.widget-view+json": {
       "model_id": "44e3675b7a4e470699d5140cbb907921",
       "version_major": 2,
       "version_minor": 0
      },
      "text/plain": [
       "  0%|          | 0/1 [00:00<?, ?it/s]"
      ]
     },
     "metadata": {},
     "output_type": "display_data"
    },
    {
     "data": {
      "application/vnd.jupyter.widget-view+json": {
       "model_id": "4cf31dc794174c7aaa764b361e8fcdaa",
       "version_major": 2,
       "version_minor": 0
      },
      "text/plain": [
       "Output(_dom_classes=('output_scroll_disabled',))"
      ]
     },
     "metadata": {},
     "output_type": "display_data"
    },
    {
     "name": "stdout",
     "output_type": "stream",
     "text": [
      "  {'id': 'P111019', 'device': 'Fitbit', 'covid_test_date': Timestamp('2026-04-19 00:00:00'), 'symptom_date': Timestamp('2026-04-11 00:00:00')}\n"
     ]
    },
    {
     "data": {
      "application/vnd.jupyter.widget-view+json": {
       "model_id": "2e06eb20209b4551b500e2ca9e441df0",
       "version_major": 2,
       "version_minor": 0
      },
      "text/plain": [
       "  0%|          | 0/3171 [00:00<?, ?it/s]"
      ]
     },
     "metadata": {},
     "output_type": "display_data"
    },
    {
     "name": "stdout",
     "output_type": "stream",
     "text": [
      "0%    \n",
      "result============\n"
     ]
    },
    {
     "data": {
      "text/plain": [
       "'finished'"
      ]
     },
     "execution_count": 37,
     "metadata": {},
     "output_type": "execute_result"
    },
    {
     "data": {
      "text/plain": [
       "<Figure size 864x576 with 0 Axes>"
      ]
     },
     "metadata": {},
     "output_type": "display_data"
    }
   ],
   "source": [
    "%matplotlib inline\n",
    "# %matplotlib notebook\n",
    "# %matplotlib ipympl\n",
    "\n",
    "import pandas as pd\n",
    "from IPython.display import Image\n",
    "\n",
    "import importlib\n",
    "import ali.methods\n",
    "import ali.ui\n",
    "import ali.eval\n",
    "import ali.multi_run\n",
    "\n",
    "importlib.reload(ali.methods)\n",
    "importlib.reload(ali.timeseries_anomaly_detection)\n",
    "importlib.reload(ali.ui)\n",
    "importlib.reload(ali.eval)\n",
    "importlib.reload(ali.multi_run)\n",
    "\n",
    "import LAAD.scripts.laad_covid19\n",
    "importlib.reload(LAAD.scripts.laad_covid19)\n",
    "\n",
    "args = {\n",
    "    'methods' : [\n",
    "        'if',#'isolationforest',\n",
    "#         'nightsignal',\n",
    "        'ns-orig_30',\n",
    "#         'ns-orig_15',\n",
    "        'ns-orig_10',\n",
    "#         'ns-orig_5',\n",
    "        'ns-orig_4',\n",
    "#         'ns-orig_3',\n",
    "#         'ns-orig_2',\n",
    "        'ns-orig_1',\n",
    "\n",
    "#         'alisignal_60',\n",
    "        'CuSum',\n",
    "        'rhrad_0.15',\n",
    "        'rhrad_0.10',\n",
    "        'rhrad_0.05',\n",
    "        'random_0.03',\n",
    "        'random_0.07',\n",
    "        'random_0.10',\n",
    "        'random_0.13',\n",
    "#         'use-all'   \n",
    "    ],\n",
    "#     'methods' : [f'alisignal_{seg:3.0f}' for seg in range(30,7*60,30)],\n",
    "#     'methods' : [\n",
    "#         'if',\n",
    "#         'CuSum',\n",
    "#         f'ad_f_8H_4H_1H_all_f',\n",
    "#         f'ad_f_8H_8H_1H_all_f',\n",
    "#         f'ad_f_8H_4H_2H_all_f',\n",
    "#         f'ad_f_8H_8H_2H_all_f',\n",
    "#         f'ad_f_24H_24H_1H_all_f', \n",
    "#         f'ad_f_24H_24H_2H_all_f', \n",
    "#         f'ad_f_24H_24H_3H_all_f', \n",
    "#         f'ad_f_24H_24H_6H_all_f', \n",
    "#         'ns_orig',\n",
    "#         'random_0.05',\n",
    "#         'random_0.1',\n",
    "#         'random_0.13'],\n",
    "#     'methods' : [f'ad_f_8H_8H_1H_all_f',f'ad_f_24H_24H_1H_all_f'],\n",
    "#     'methods' : ['ns_orig','random_0.05','random_0.1','random_0.13'],\n",
    "#     'methods' : [f'ad_f_{i}H_{i}H_1H' for i in range(4,24,4)],\n",
    "#     'methods' : ['laad'],\n",
    "#     'methods':[],\n",
    "    'parallel':1,\n",
    "    'debug':1,\n",
    "    'trace':0,\n",
    "    'show_final_graph':0,\n",
    "    'save_plots_for_user':1,\n",
    "    'show_exception':1,\n",
    "    'only_positive':1,\n",
    "    'rerun':0,\n",
    "#     'only_person':'P442730',\n",
    "#     'only_person':'P110465',\n",
    "    'only_person':'P111019'\n",
    "#     'only_device':'AppleWatch'\n",
    "\n",
    "}\n",
    "\n",
    "\n",
    "ali.multi_run.run(args)\n",
    "\"finished\""
   ]
  },
  {
   "cell_type": "code",
   "execution_count": null,
   "id": "1e5b6ced",
   "metadata": {
    "ExecuteTime": {
     "end_time": "2022-01-11T09:43:05.338290Z",
     "start_time": "2022-01-11T09:43:05.170096Z"
    }
   },
   "outputs": [],
   "source": [
    "import ali.methods\n",
    "hr,step,rhr,rhrf,info=ali.methods.load('P477816')"
   ]
  },
  {
   "cell_type": "code",
   "execution_count": 24,
   "id": "c7f2bafd",
   "metadata": {
    "ExecuteTime": {
     "end_time": "2022-01-27T21:00:06.540227Z",
     "start_time": "2022-01-27T21:00:06.531494Z"
    },
    "scrolled": true
   },
   "outputs": [
    {
     "data": {
      "text/plain": [
       "[3, 13, 23, 33, 43, 53, 63, 73, 83, 93]"
      ]
     },
     "execution_count": 24,
     "metadata": {},
     "output_type": "execute_result"
    }
   ],
   "source": [
    "list(range(1,100)[2::10])"
   ]
  },
  {
   "cell_type": "code",
   "execution_count": 19,
   "id": "68ea605f",
   "metadata": {
    "ExecuteTime": {
     "end_time": "2022-01-11T23:51:43.343031Z",
     "start_time": "2022-01-11T23:51:43.341208Z"
    }
   },
   "outputs": [],
   "source": [
    "# hr = hr.resample('1T').mean()\n",
    "# hr_step = hr.join(step_n, how='outer')\n",
    "\n",
    "# rhr_hint=hr_step.rolling('12T',min_periods=0).count().dropna()\n",
    "# rhr=hr.loc[rhr_hint[(rhr_hint['heartrate']>0) &(rhr_hint['steps']==0)].index].dropna()\n",
    "# display(rhr.loc[rhr.index.hour<7])\n",
    "# display(hr_step)"
   ]
  },
  {
   "cell_type": "code",
   "execution_count": 149,
   "id": "aaecfe29",
   "metadata": {
    "ExecuteTime": {
     "end_time": "2022-01-14T21:24:16.891472Z",
     "start_time": "2022-01-14T21:23:15.047673Z"
    },
    "scrolled": true
   },
   "outputs": [
    {
     "data": {
      "application/vnd.jupyter.widget-view+json": {
       "model_id": "f6210a3aee5e4a7aaef2ea3974382555",
       "version_major": 2,
       "version_minor": 0
      },
      "text/plain": [
       "  0%|          | 0/2125 [00:00<?, ?it/s]"
      ]
     },
     "metadata": {},
     "output_type": "display_data"
    },
    {
     "data": {
      "application/vnd.jupyter.widget-view+json": {
       "model_id": "8f2309f4b31d4971bd929be6edfc7145",
       "version_major": 2,
       "version_minor": 0
      },
      "text/plain": [
       "Output(_dom_classes=('output_scroll_disabled',))"
      ]
     },
     "metadata": {},
     "output_type": "display_data"
    },
    {
     "data": {
      "text/plain": [
       "<Figure size 864x576 with 0 Axes>"
      ]
     },
     "metadata": {},
     "output_type": "display_data"
    }
   ],
   "source": [
    "import ali.new_method\n",
    "import importlib\n",
    "importlib.reload(ali.new_method)\n",
    "importlib.reload(ali.eval)\n",
    "importlib.reload(ali.ui)\n",
    "\n",
    "res=ali.new_method.reEvalAllParallel({\n",
    "#     'methods':['random_0.05','ns_orig','ad_f_8H_8H_1H_all']\n",
    "})"
   ]
  },
  {
   "cell_type": "code",
   "execution_count": 147,
   "id": "c521b795",
   "metadata": {
    "ExecuteTime": {
     "end_time": "2022-01-14T19:44:03.039886Z",
     "start_time": "2022-01-14T19:44:03.024763Z"
    }
   },
   "outputs": [
    {
     "data": {
      "text/html": [
       "<div>\n",
       "<style scoped>\n",
       "    .dataframe tbody tr th:only-of-type {\n",
       "        vertical-align: middle;\n",
       "    }\n",
       "\n",
       "    .dataframe tbody tr th {\n",
       "        vertical-align: top;\n",
       "    }\n",
       "\n",
       "    .dataframe thead th {\n",
       "        text-align: right;\n",
       "    }\n",
       "</style>\n",
       "<table border=\"1\" class=\"dataframe\">\n",
       "  <thead>\n",
       "    <tr style=\"text-align: right;\">\n",
       "      <th></th>\n",
       "      <th>CuSum</th>\n",
       "      <th>ad_f_24H_24H_1H_all_f</th>\n",
       "      <th>ad_f_24H_24H_1H</th>\n",
       "      <th>ad_f_8H_8H_1H</th>\n",
       "      <th>ad_f_8H_8H_1H_all_f</th>\n",
       "      <th>if</th>\n",
       "      <th>ns_orig</th>\n",
       "      <th>random_0.05</th>\n",
       "      <th>random_0.1</th>\n",
       "      <th>random_0.13</th>\n",
       "    </tr>\n",
       "  </thead>\n",
       "  <tbody>\n",
       "    <tr>\n",
       "      <th>0</th>\n",
       "      <td>5.952381</td>\n",
       "      <td>8.333333</td>\n",
       "      <td>5.952381</td>\n",
       "      <td>3.571429</td>\n",
       "      <td>7.142857</td>\n",
       "      <td>17.857143</td>\n",
       "      <td>22.619048</td>\n",
       "      <td>10.714286</td>\n",
       "      <td>17.857143</td>\n",
       "      <td>20.238095</td>\n",
       "    </tr>\n",
       "    <tr>\n",
       "      <th>1</th>\n",
       "      <td>9.523810</td>\n",
       "      <td>15.476190</td>\n",
       "      <td>11.904762</td>\n",
       "      <td>13.095238</td>\n",
       "      <td>19.047619</td>\n",
       "      <td>22.619048</td>\n",
       "      <td>26.190476</td>\n",
       "      <td>15.476190</td>\n",
       "      <td>26.190476</td>\n",
       "      <td>29.761905</td>\n",
       "    </tr>\n",
       "    <tr>\n",
       "      <th>2</th>\n",
       "      <td>10.714286</td>\n",
       "      <td>20.238095</td>\n",
       "      <td>20.238095</td>\n",
       "      <td>20.238095</td>\n",
       "      <td>28.571429</td>\n",
       "      <td>23.809524</td>\n",
       "      <td>28.571429</td>\n",
       "      <td>20.238095</td>\n",
       "      <td>35.714286</td>\n",
       "      <td>46.428571</td>\n",
       "    </tr>\n",
       "    <tr>\n",
       "      <th>3</th>\n",
       "      <td>11.904762</td>\n",
       "      <td>23.809524</td>\n",
       "      <td>26.190476</td>\n",
       "      <td>30.952381</td>\n",
       "      <td>35.714286</td>\n",
       "      <td>27.380952</td>\n",
       "      <td>38.095238</td>\n",
       "      <td>21.428571</td>\n",
       "      <td>39.285714</td>\n",
       "      <td>67.857143</td>\n",
       "    </tr>\n",
       "    <tr>\n",
       "      <th>4</th>\n",
       "      <td>14.285714</td>\n",
       "      <td>28.571429</td>\n",
       "      <td>29.761905</td>\n",
       "      <td>33.333333</td>\n",
       "      <td>41.666667</td>\n",
       "      <td>30.952381</td>\n",
       "      <td>45.238095</td>\n",
       "      <td>28.571429</td>\n",
       "      <td>50.000000</td>\n",
       "      <td>75.000000</td>\n",
       "    </tr>\n",
       "    <tr>\n",
       "      <th>5</th>\n",
       "      <td>15.476190</td>\n",
       "      <td>33.333333</td>\n",
       "      <td>35.714286</td>\n",
       "      <td>40.476190</td>\n",
       "      <td>45.238095</td>\n",
       "      <td>35.714286</td>\n",
       "      <td>51.190476</td>\n",
       "      <td>33.333333</td>\n",
       "      <td>60.714286</td>\n",
       "      <td>83.333333</td>\n",
       "    </tr>\n",
       "    <tr>\n",
       "      <th>6</th>\n",
       "      <td>15.476190</td>\n",
       "      <td>39.285714</td>\n",
       "      <td>41.666667</td>\n",
       "      <td>44.047619</td>\n",
       "      <td>51.190476</td>\n",
       "      <td>44.047619</td>\n",
       "      <td>52.380952</td>\n",
       "      <td>34.523810</td>\n",
       "      <td>65.476190</td>\n",
       "      <td>96.428571</td>\n",
       "    </tr>\n",
       "    <tr>\n",
       "      <th>7</th>\n",
       "      <td>16.666667</td>\n",
       "      <td>41.666667</td>\n",
       "      <td>41.666667</td>\n",
       "      <td>48.809524</td>\n",
       "      <td>57.142857</td>\n",
       "      <td>47.619048</td>\n",
       "      <td>54.761905</td>\n",
       "      <td>38.095238</td>\n",
       "      <td>78.571429</td>\n",
       "      <td>97.619048</td>\n",
       "    </tr>\n",
       "    <tr>\n",
       "      <th>8</th>\n",
       "      <td>19.047619</td>\n",
       "      <td>42.857143</td>\n",
       "      <td>45.238095</td>\n",
       "      <td>52.380952</td>\n",
       "      <td>60.714286</td>\n",
       "      <td>50.000000</td>\n",
       "      <td>54.761905</td>\n",
       "      <td>42.857143</td>\n",
       "      <td>90.476190</td>\n",
       "      <td>98.809524</td>\n",
       "    </tr>\n",
       "    <tr>\n",
       "      <th>9</th>\n",
       "      <td>20.238095</td>\n",
       "      <td>45.238095</td>\n",
       "      <td>46.428571</td>\n",
       "      <td>58.333333</td>\n",
       "      <td>69.047619</td>\n",
       "      <td>54.761905</td>\n",
       "      <td>60.714286</td>\n",
       "      <td>45.238095</td>\n",
       "      <td>97.619048</td>\n",
       "      <td>98.809524</td>\n",
       "    </tr>\n",
       "    <tr>\n",
       "      <th>10</th>\n",
       "      <td>21.428571</td>\n",
       "      <td>48.809524</td>\n",
       "      <td>47.619048</td>\n",
       "      <td>59.523810</td>\n",
       "      <td>70.238095</td>\n",
       "      <td>60.714286</td>\n",
       "      <td>66.666667</td>\n",
       "      <td>51.190476</td>\n",
       "      <td>98.809524</td>\n",
       "      <td>98.809524</td>\n",
       "    </tr>\n",
       "    <tr>\n",
       "      <th>11</th>\n",
       "      <td>26.190476</td>\n",
       "      <td>51.190476</td>\n",
       "      <td>48.809524</td>\n",
       "      <td>61.904762</td>\n",
       "      <td>73.809524</td>\n",
       "      <td>61.904762</td>\n",
       "      <td>67.857143</td>\n",
       "      <td>55.952381</td>\n",
       "      <td>100.000000</td>\n",
       "      <td>100.000000</td>\n",
       "    </tr>\n",
       "    <tr>\n",
       "      <th>12</th>\n",
       "      <td>26.190476</td>\n",
       "      <td>55.952381</td>\n",
       "      <td>51.190476</td>\n",
       "      <td>64.285714</td>\n",
       "      <td>78.571429</td>\n",
       "      <td>63.095238</td>\n",
       "      <td>67.857143</td>\n",
       "      <td>59.523810</td>\n",
       "      <td>100.000000</td>\n",
       "      <td>100.000000</td>\n",
       "    </tr>\n",
       "    <tr>\n",
       "      <th>13</th>\n",
       "      <td>28.571429</td>\n",
       "      <td>59.523810</td>\n",
       "      <td>57.142857</td>\n",
       "      <td>66.666667</td>\n",
       "      <td>79.761905</td>\n",
       "      <td>64.285714</td>\n",
       "      <td>70.238095</td>\n",
       "      <td>61.904762</td>\n",
       "      <td>100.000000</td>\n",
       "      <td>100.000000</td>\n",
       "    </tr>\n",
       "    <tr>\n",
       "      <th>14</th>\n",
       "      <td>28.571429</td>\n",
       "      <td>61.904762</td>\n",
       "      <td>58.333333</td>\n",
       "      <td>69.047619</td>\n",
       "      <td>80.952381</td>\n",
       "      <td>64.285714</td>\n",
       "      <td>71.428571</td>\n",
       "      <td>65.476190</td>\n",
       "      <td>100.000000</td>\n",
       "      <td>100.000000</td>\n",
       "    </tr>\n",
       "    <tr>\n",
       "      <th>15</th>\n",
       "      <td>28.571429</td>\n",
       "      <td>63.095238</td>\n",
       "      <td>59.523810</td>\n",
       "      <td>69.047619</td>\n",
       "      <td>82.142857</td>\n",
       "      <td>64.285714</td>\n",
       "      <td>72.619048</td>\n",
       "      <td>70.238095</td>\n",
       "      <td>100.000000</td>\n",
       "      <td>100.000000</td>\n",
       "    </tr>\n",
       "    <tr>\n",
       "      <th>16</th>\n",
       "      <td>29.761905</td>\n",
       "      <td>64.285714</td>\n",
       "      <td>60.714286</td>\n",
       "      <td>71.428571</td>\n",
       "      <td>83.333333</td>\n",
       "      <td>64.285714</td>\n",
       "      <td>75.000000</td>\n",
       "      <td>72.619048</td>\n",
       "      <td>100.000000</td>\n",
       "      <td>100.000000</td>\n",
       "    </tr>\n",
       "    <tr>\n",
       "      <th>17</th>\n",
       "      <td>29.761905</td>\n",
       "      <td>66.666667</td>\n",
       "      <td>63.095238</td>\n",
       "      <td>72.619048</td>\n",
       "      <td>85.714286</td>\n",
       "      <td>65.476190</td>\n",
       "      <td>75.000000</td>\n",
       "      <td>82.142857</td>\n",
       "      <td>100.000000</td>\n",
       "      <td>100.000000</td>\n",
       "    </tr>\n",
       "    <tr>\n",
       "      <th>18</th>\n",
       "      <td>30.952381</td>\n",
       "      <td>67.857143</td>\n",
       "      <td>63.095238</td>\n",
       "      <td>72.619048</td>\n",
       "      <td>85.714286</td>\n",
       "      <td>67.857143</td>\n",
       "      <td>76.190476</td>\n",
       "      <td>88.095238</td>\n",
       "      <td>100.000000</td>\n",
       "      <td>100.000000</td>\n",
       "    </tr>\n",
       "    <tr>\n",
       "      <th>19</th>\n",
       "      <td>32.142857</td>\n",
       "      <td>67.857143</td>\n",
       "      <td>66.666667</td>\n",
       "      <td>76.190476</td>\n",
       "      <td>88.095238</td>\n",
       "      <td>69.047619</td>\n",
       "      <td>78.571429</td>\n",
       "      <td>94.047619</td>\n",
       "      <td>100.000000</td>\n",
       "      <td>100.000000</td>\n",
       "    </tr>\n",
       "    <tr>\n",
       "      <th>20</th>\n",
       "      <td>32.142857</td>\n",
       "      <td>67.857143</td>\n",
       "      <td>67.857143</td>\n",
       "      <td>79.761905</td>\n",
       "      <td>88.095238</td>\n",
       "      <td>71.428571</td>\n",
       "      <td>79.761905</td>\n",
       "      <td>94.047619</td>\n",
       "      <td>100.000000</td>\n",
       "      <td>100.000000</td>\n",
       "    </tr>\n",
       "    <tr>\n",
       "      <th>21</th>\n",
       "      <td>32.142857</td>\n",
       "      <td>70.238095</td>\n",
       "      <td>69.047619</td>\n",
       "      <td>79.761905</td>\n",
       "      <td>88.095238</td>\n",
       "      <td>72.619048</td>\n",
       "      <td>80.952381</td>\n",
       "      <td>95.238095</td>\n",
       "      <td>100.000000</td>\n",
       "      <td>100.000000</td>\n",
       "    </tr>\n",
       "  </tbody>\n",
       "</table>\n",
       "</div>"
      ],
      "text/plain": [
       "        CuSum  ad_f_24H_24H_1H_all_f  ad_f_24H_24H_1H  ad_f_8H_8H_1H  \\\n",
       "0    5.952381               8.333333         5.952381       3.571429   \n",
       "1    9.523810              15.476190        11.904762      13.095238   \n",
       "2   10.714286              20.238095        20.238095      20.238095   \n",
       "3   11.904762              23.809524        26.190476      30.952381   \n",
       "4   14.285714              28.571429        29.761905      33.333333   \n",
       "5   15.476190              33.333333        35.714286      40.476190   \n",
       "6   15.476190              39.285714        41.666667      44.047619   \n",
       "7   16.666667              41.666667        41.666667      48.809524   \n",
       "8   19.047619              42.857143        45.238095      52.380952   \n",
       "9   20.238095              45.238095        46.428571      58.333333   \n",
       "10  21.428571              48.809524        47.619048      59.523810   \n",
       "11  26.190476              51.190476        48.809524      61.904762   \n",
       "12  26.190476              55.952381        51.190476      64.285714   \n",
       "13  28.571429              59.523810        57.142857      66.666667   \n",
       "14  28.571429              61.904762        58.333333      69.047619   \n",
       "15  28.571429              63.095238        59.523810      69.047619   \n",
       "16  29.761905              64.285714        60.714286      71.428571   \n",
       "17  29.761905              66.666667        63.095238      72.619048   \n",
       "18  30.952381              67.857143        63.095238      72.619048   \n",
       "19  32.142857              67.857143        66.666667      76.190476   \n",
       "20  32.142857              67.857143        67.857143      79.761905   \n",
       "21  32.142857              70.238095        69.047619      79.761905   \n",
       "\n",
       "    ad_f_8H_8H_1H_all_f         if    ns_orig  random_0.05  random_0.1  \\\n",
       "0              7.142857  17.857143  22.619048    10.714286   17.857143   \n",
       "1             19.047619  22.619048  26.190476    15.476190   26.190476   \n",
       "2             28.571429  23.809524  28.571429    20.238095   35.714286   \n",
       "3             35.714286  27.380952  38.095238    21.428571   39.285714   \n",
       "4             41.666667  30.952381  45.238095    28.571429   50.000000   \n",
       "5             45.238095  35.714286  51.190476    33.333333   60.714286   \n",
       "6             51.190476  44.047619  52.380952    34.523810   65.476190   \n",
       "7             57.142857  47.619048  54.761905    38.095238   78.571429   \n",
       "8             60.714286  50.000000  54.761905    42.857143   90.476190   \n",
       "9             69.047619  54.761905  60.714286    45.238095   97.619048   \n",
       "10            70.238095  60.714286  66.666667    51.190476   98.809524   \n",
       "11            73.809524  61.904762  67.857143    55.952381  100.000000   \n",
       "12            78.571429  63.095238  67.857143    59.523810  100.000000   \n",
       "13            79.761905  64.285714  70.238095    61.904762  100.000000   \n",
       "14            80.952381  64.285714  71.428571    65.476190  100.000000   \n",
       "15            82.142857  64.285714  72.619048    70.238095  100.000000   \n",
       "16            83.333333  64.285714  75.000000    72.619048  100.000000   \n",
       "17            85.714286  65.476190  75.000000    82.142857  100.000000   \n",
       "18            85.714286  67.857143  76.190476    88.095238  100.000000   \n",
       "19            88.095238  69.047619  78.571429    94.047619  100.000000   \n",
       "20            88.095238  71.428571  79.761905    94.047619  100.000000   \n",
       "21            88.095238  72.619048  80.952381    95.238095  100.000000   \n",
       "\n",
       "    random_0.13  \n",
       "0     20.238095  \n",
       "1     29.761905  \n",
       "2     46.428571  \n",
       "3     67.857143  \n",
       "4     75.000000  \n",
       "5     83.333333  \n",
       "6     96.428571  \n",
       "7     97.619048  \n",
       "8     98.809524  \n",
       "9     98.809524  \n",
       "10    98.809524  \n",
       "11   100.000000  \n",
       "12   100.000000  \n",
       "13   100.000000  \n",
       "14   100.000000  \n",
       "15   100.000000  \n",
       "16   100.000000  \n",
       "17   100.000000  \n",
       "18   100.000000  \n",
       "19   100.000000  \n",
       "20   100.000000  \n",
       "21   100.000000  "
      ]
     },
     "execution_count": 147,
     "metadata": {},
     "output_type": "execute_result"
    }
   ],
   "source": [
    "res2=res[res[('total','covid')]==84].loc[['CuSum','ad_f_24H_24H_1H_all_f','ad_f_24H_24H_1H','ad_f_8H_8H_1H','ad_f_8H_8H_1H_all_f','if','ns_orig','random_0.05','random_0.1','random_0.13']][('total',)]\n",
    "res2=res2[range(0,22)].T.expanding().sum()/84*100\n",
    "import matplotlib.pyplot as plt\n",
    "\n",
    "# res2.plot.line(stacked=False)\n",
    "res2\n",
    "# all[[r for r in all.columns if 'rand1'not in r]].plot(figsize=(8,4.5))"
   ]
  },
  {
   "cell_type": "code",
   "execution_count": null,
   "id": "0c85fec9",
   "metadata": {
    "ExecuteTime": {
     "end_time": "2022-01-11T13:36:33.965833Z",
     "start_time": "2022-01-11T13:36:31.845402Z"
    },
    "scrolled": true
   },
   "outputs": [],
   "source": [
    "import os \n",
    "import pandas as pd\n",
    "from IPython.display import Image\n",
    "for id in os.listdir('output/my'):\n",
    "#     id='P111019'\n",
    "\n",
    "    if os.path.isfile(f'output/my/{id}/eval.csv'):\n",
    "        eval=pd.read_csv(f'output/my/{id}/eval.csv',header=[0,1],index_col=0)\n",
    "        if 'ad_f_8H_8H_1H' in eval.index and eval.loc['ad_f_8H_8H_1H'][('nature','tp')]==0:\n",
    "            print(id)\n",
    "            #             display(eval)\n",
    "#     for img in sorted(os.listdir(f'output/my/{id}/')):\n",
    "#         if '.png' in img and 'random' not in img and 'alisignal' not in img:\n",
    "#             display(Image(f'output/my/{id}/{img}'))\n",
    "            display(Image(f'output/my/{id}/all.png'))\n",
    "#             break "
   ]
  },
  {
   "cell_type": "code",
   "execution_count": 158,
   "id": "adcb6832",
   "metadata": {
    "ExecuteTime": {
     "end_time": "2022-01-14T22:29:17.880121Z",
     "start_time": "2022-01-14T22:28:54.119676Z"
    }
   },
   "outputs": [
    {
     "name": "stdout",
     "output_type": "stream",
     "text": [
      "{0: 0, 1: 1, 2: 5, 3: 6, 4: 14, 5: 9, 6: 11, 7: 7, 8: 7, 9: 4, 10: 4, 11: 2, 12: 2, 13: 2, 14: 2, 15: 0, 16: 2, 17: 1, 18: 0, 19: 1, 20: 2, 21: 0, 22: 0, 23: 0, 24: 1, 25: 0, 26: 0, 27: 0, 28: 0, 29: 0, 30: 1}\n"
     ]
    }
   ],
   "source": [
    "import os \n",
    "import pandas as pd\n",
    "from IPython.display import Image\n",
    "import ali.methods\n",
    "import ali.multi_run\n",
    "all={i:0 for i in range(31)}\n",
    "args={'only_positive':1}\n",
    "for id in ali.multi_run.getFileInfo(args):\n",
    "#     id='P111019'\n",
    "    try:\n",
    "        \n",
    "        hr,step,rhr,rhrf,info=ali.methods.load(id)\n",
    "        df = rhr.resample(\"24H\").mean().reset_index()\n",
    "        df['median'] = df.expanding().median().astype(int)['heartrate']\n",
    "        df = df.loc[~df['heartrate'].isna()]\n",
    "        d=df['median'].max()-df['median'].min()\n",
    "        if d not in all:all[d]=0\n",
    "        all[d]+=1\n",
    "    except:\n",
    "        raise\n",
    "    \n",
    "print(all)\n"
   ]
  },
  {
   "cell_type": "code",
   "execution_count": 159,
   "id": "29edb14f",
   "metadata": {
    "ExecuteTime": {
     "end_time": "2022-01-14T22:29:30.251242Z",
     "start_time": "2022-01-14T22:29:30.083793Z"
    }
   },
   "outputs": [
    {
     "data": {
      "text/plain": [
       "<BarContainer object of 31 artists>"
      ]
     },
     "execution_count": 159,
     "metadata": {},
     "output_type": "execute_result"
    },
    {
     "data": {
      "image/png": "[encoded data removed]",
      "text/plain": [
       "<Figure size 864x576 with 1 Axes>"
      ]
     },
     "metadata": {},
     "output_type": "display_data"
    }
   ],
   "source": [
    "plt.bar(all.keys(),all.values())"
   ]
  }
 ],
 "metadata": {
  "kernelspec": {
   "display_name": "Python 3",
   "language": "python",
   "name": "python3"
  },
  "language_info": {
   "codemirror_mode": {
    "name": "ipython",
    "version": 3
   },
   "file_extension": ".py",
   "mimetype": "text/x-python",
   "name": "python",
   "nbconvert_exporter": "python",
   "pygments_lexer": "ipython3",
   "version": "3.8.10"
  },
  "toc": {
   "base_numbering": 1,
   "nav_menu": {},
   "number_sections": false,
   "sideBar": true,
   "skip_h1_title": false,
   "title_cell": "Table of Contents",
   "title_sidebar": "Contents",
   "toc_cell": false,
   "toc_position": {},
   "toc_section_display": true,
   "toc_window_display": false
  },
  "varInspector": {
   "cols": {
    "lenName": 16,
    "lenType": 16,
    "lenVar": 40
   },
   "kernels_config": {
    "python": {
     "delete_cmd_postfix": "",
     "delete_cmd_prefix": "del ",
     "library": "var_list.py",
     "varRefreshCmd": "print(var_dic_list())"
    },
    "r": {
     "delete_cmd_postfix": ") ",
     "delete_cmd_prefix": "rm(",
     "library": "var_list.r",
     "varRefreshCmd": "cat(var_dic_list()) "
    }
   },
   "types_to_exclude": [
    "module",
    "function",
    "builtin_function_or_method",
    "instance",
    "_Feature"
   ],
   "window_display": false
  }
 },
 "nbformat": 4,
 "nbformat_minor": 5
}
