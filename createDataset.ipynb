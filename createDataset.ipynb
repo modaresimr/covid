{
 "cells": [
  {
   "cell_type": "code",
   "execution_count": 2,
   "id": "f5a8a136",
   "metadata": {
    "ExecuteTime": {
     "end_time": "2022-01-01T11:33:38.801891Z",
     "start_time": "2022-01-01T11:33:37.174069Z"
    }
   },
   "outputs": [],
   "source": [
    "import numpy as np\n",
    "import pandas as pd\n",
    "from tensorflow import keras\n",
    "from tensorflow.keras import layers\n",
    "from matplotlib import pyplot as plt\n",
    "import os\n",
    "import ali.methods\n",
    "import ali.ui\n",
    "from sklearn.preprocessing import StandardScaler \n",
    "import compress_pickle"
   ]
  },
  {
   "cell_type": "code",
   "execution_count": 5,
   "id": "dba357b2",
   "metadata": {
    "ExecuteTime": {
     "end_time": "2021-12-30T19:40:36.172090Z",
     "start_time": "2021-12-30T19:40:36.166687Z"
    }
   },
   "outputs": [],
   "source": [
    "def selectTrainTestSet(rhr, info,train_days=100,test_days=14):\n",
    "    if info['covid_test_date']:\n",
    "        dates_s = rhr.loc[(rhr.index < info['covid_test_date'] - pd.to_timedelta(f'{test_days}d'))].index.floor('1D').unique()\n",
    "        dates_e = list(rhr.loc[(rhr.index > info['covid_test_date'] + pd.to_timedelta(f'{test_days}d'))].index.floor('1D').unique())\n",
    "    else:\n",
    "        dates_s = rhr.index.floor('1D').unique()\n",
    "        dates_e = []\n",
    "\n",
    "    dates_s=dates_s.insert(0,rhr.index[0])\n",
    "    dates_e.append(rhr.index[-1])\n",
    "\n",
    "    s = min(train_days, len(dates_s)-1)\n",
    "    e = -min(max(0,train_days-s), len(dates_e)-1)\n",
    "    train = rhr.loc[(rhr.index < dates_s[s]) | (rhr.index > dates_e[e])]\n",
    "    test = rhr.loc[(rhr.index >= dates_s[s]) & (rhr.index <= dates_e[e])]\n",
    "    \n",
    "    return train, test\n",
    "\n",
    "\n",
    "def preprocessing(train, test=None,force=True):\n",
    "    if (not force) and os.path.isfile(f'ali/an_data/preprocess.pkl.lz4'):\n",
    "        scaler = compress_pickle.load(f'ali/an_data/preprocess.pkl.lz4')\n",
    "    else:\n",
    "        scaler = StandardScaler()\n",
    "        scaler = scaler.fit(train[['heartrate']])\n",
    "        compress_pickle.dump(scaler, f'ali/an_data/preprocess.pkl.lz4')\n",
    "\n",
    "    train = pd.DataFrame(scaler.transform(train), index=train.index, columns=train.columns)\n",
    "    if test is not None:\n",
    "        test = pd.DataFrame(scaler.transform(test), index=test.index, columns=test.columns)\n",
    "    return train, test"
   ]
  },
  {
   "cell_type": "code",
   "execution_count": 54,
   "id": "6dfb42eb",
   "metadata": {
    "ExecuteTime": {
     "end_time": "2021-12-17T17:13:21.214450Z",
     "start_time": "2021-12-17T17:13:21.211581Z"
    }
   },
   "outputs": [
    {
     "data": {
      "text/plain": [
       "875"
      ]
     },
     "execution_count": 54,
     "metadata": {},
     "output_type": "execute_result"
    }
   ],
   "source": []
  },
  {
   "cell_type": "code",
   "execution_count": 11,
   "id": "d88a04b1",
   "metadata": {
    "ExecuteTime": {
     "end_time": "2021-12-29T20:58:53.645357Z",
     "start_time": "2021-12-29T20:42:58.923416Z"
    }
   },
   "outputs": [
    {
     "name": "stdout",
     "output_type": "stream",
     "text": [
      "100%\r"
     ]
    }
   ],
   "source": [
    "resolution='1T'\n",
    "alltest=pd.DataFrame()\n",
    "alltrain=pd.DataFrame()\n",
    "\n",
    "dirs=os.listdir('output/my')\n",
    "for i,id in enumerate(dirs):\n",
    "\n",
    "    if not \"P\" in id :continue\n",
    "        \n",
    "    print(f'{i/len(dirs)*100:.0f}%',end='\\r')\n",
    "    hr,step,rhr,info=ali.methods.load(id)\n",
    "    if len(rhr)==0:continue\n",
    "#     if info['covid_test_date']:\n",
    "    rhr1=rhr.resample(resolution).mean().dropna()\n",
    "    rhr1['id']=id\n",
    "    train,test=selectTrainTestSet(rhr1,info,train_days=30)\n",
    "    alltrain=pd.concat([alltrain,train])\n",
    "    alltest=pd.concat([alltest,test])\n",
    "    \n",
    "alltrain=alltrain.astype(np.float16)\n",
    "alltest=alltest.astype(np.float16)"
   ]
  },
  {
   "cell_type": "code",
   "execution_count": 13,
   "id": "dd44385e",
   "metadata": {
    "ExecuteTime": {
     "end_time": "2021-12-29T21:05:09.590576Z",
     "start_time": "2021-12-29T21:05:01.648104Z"
    }
   },
   "outputs": [],
   "source": [
    "alltrain=alltrain.reset_index().set_index(['id','datetime'])\n",
    "alltrain.to_hdf('all-train.h5','train')\n",
    "\n",
    "alltest=alltest.reset_index().set_index(['id','datetime'])\n",
    "alltest.to_hdf('all-test.h5','test')"
   ]
  },
  {
   "cell_type": "code",
   "execution_count": 24,
   "id": "319ae17e",
   "metadata": {
    "ExecuteTime": {
     "end_time": "2021-12-29T21:09:46.040597Z",
     "start_time": "2021-12-29T21:09:45.420672Z"
    }
   },
   "outputs": [],
   "source": [
    "alltrainp,alltestp=preprocessing(alltrain,alltest,force=True)\n",
    "alltrainp.to_hdf('all-trainp.h5','trainp')\n",
    "alltestp.to_hdf('all-testp.h5','testp')"
   ]
  },
  {
   "cell_type": "code",
   "execution_count": 3,
   "id": "bde6d9b1",
   "metadata": {
    "ExecuteTime": {
     "end_time": "2022-01-01T11:33:45.124564Z",
     "start_time": "2022-01-01T11:33:40.754642Z"
    }
   },
   "outputs": [],
   "source": [
    "alltrainp=pd.read_hdf('all-trainp.h5',key='trainp')\n",
    "alltestp=pd.read_hdf('all-testp.h5',key='testp')"
   ]
  },
  {
   "cell_type": "code",
   "execution_count": 20,
   "id": "3cf464a5",
   "metadata": {
    "ExecuteTime": {
     "end_time": "2022-01-01T18:57:16.058421Z",
     "start_time": "2022-01-01T18:57:16.053099Z"
    },
    "code_folding": []
   },
   "outputs": [],
   "source": [
    "def create_sequences(data, seg,min_data_count=200):\n",
    "    seqs=[]\n",
    "    \n",
    "    allp2=data.reset_index(level=[0]).groupby('id').resample('1T').mean()\n",
    "#     display(allp2)\n",
    "    allp2['date'] = allp2.index.get_level_values(1).floor('1D')\n",
    "    allp2['time'] = allp2.index.get_level_values(1).time\n",
    "    day_time = allp2.set_index(['time', 'date']).astype(np.float64).unstack(level=1).droplevel(0, axis=1)\n",
    "    day_time_info=day_time.notnull().sum(axis=1)\n",
    "    day_time_info.hist()\n",
    "    day_time2=day_time.loc[day_time.notnull().sum(axis=1)>min_data_count]\n",
    "    ids=day_time2.index.get_level_values(0).unique()\n",
    "    \n",
    "    day_time2 = day_time2.interpolate(limit_direction='both', axis=1).astype(np.float16)\n",
    "    display(day_time2)\n",
    "    n=0\n",
    "    shape=None\n",
    "    for id in ids:\n",
    "        for w in day_time2.loc[id].rolling(window=f'{seg}D', closed='right'): \n",
    "            if len(w)==seg:\n",
    "                n+=1\n",
    "                shape=w.values.shape\n",
    "    print(f'n={n} ids={len(ids)} shape={shape}')        \n",
    "    out=np.zeros((n,shape[0]*shape[1],1),np.float16)\n",
    "    i=0\n",
    "    for id in ids:\n",
    "      for w in day_time2.loc[id].rolling(window=f'{seg}D', closed='right'): \n",
    "        if len(w)==seg:\n",
    "            out[i,:,:]=(np.reshape(w.values, (shape[0]*shape[1],1)))\n",
    "            i+=1\n",
    "    return out"
   ]
  },
  {
   "cell_type": "code",
   "execution_count": 21,
   "id": "f38435cb",
   "metadata": {
    "ExecuteTime": {
     "end_time": "2022-01-01T18:58:49.937147Z",
     "start_time": "2022-01-01T18:57:17.643682Z"
    }
   },
   "outputs": [
    {
     "ename": "ValueError",
     "evalue": "Index contains duplicate entries, cannot reshape",
     "output_type": "error",
     "traceback": [
      "\u001b[0;31m---------------------------------------------------------------------------\u001b[0m",
      "\u001b[0;31mValueError\u001b[0m                                Traceback (most recent call last)",
      "\u001b[0;32m<ipython-input-21-3819f127aa61>\u001b[0m in \u001b[0;36m<module>\u001b[0;34m\u001b[0m\n\u001b[0;32m----> 1\u001b[0;31m \u001b[0mcreate_sequences\u001b[0m\u001b[0;34m(\u001b[0m\u001b[0malltrainp\u001b[0m\u001b[0;34m,\u001b[0m\u001b[0mseg\u001b[0m\u001b[0;34m=\u001b[0m\u001b[0;36m3\u001b[0m\u001b[0;34m)\u001b[0m\u001b[0;34m\u001b[0m\u001b[0;34m\u001b[0m\u001b[0m\n\u001b[0m",
      "\u001b[0;32m<ipython-input-20-1406878b7910>\u001b[0m in \u001b[0;36mcreate_sequences\u001b[0;34m(data, seg, min_data_count)\u001b[0m\n\u001b[1;32m      6\u001b[0m     \u001b[0mallp2\u001b[0m\u001b[0;34m[\u001b[0m\u001b[0;34m'date'\u001b[0m\u001b[0;34m]\u001b[0m \u001b[0;34m=\u001b[0m \u001b[0mallp2\u001b[0m\u001b[0;34m.\u001b[0m\u001b[0mindex\u001b[0m\u001b[0;34m.\u001b[0m\u001b[0mget_level_values\u001b[0m\u001b[0;34m(\u001b[0m\u001b[0;36m1\u001b[0m\u001b[0;34m)\u001b[0m\u001b[0;34m.\u001b[0m\u001b[0mfloor\u001b[0m\u001b[0;34m(\u001b[0m\u001b[0;34m'1D'\u001b[0m\u001b[0;34m)\u001b[0m\u001b[0;34m\u001b[0m\u001b[0;34m\u001b[0m\u001b[0m\n\u001b[1;32m      7\u001b[0m     \u001b[0mallp2\u001b[0m\u001b[0;34m[\u001b[0m\u001b[0;34m'time'\u001b[0m\u001b[0;34m]\u001b[0m \u001b[0;34m=\u001b[0m \u001b[0mallp2\u001b[0m\u001b[0;34m.\u001b[0m\u001b[0mindex\u001b[0m\u001b[0;34m.\u001b[0m\u001b[0mget_level_values\u001b[0m\u001b[0;34m(\u001b[0m\u001b[0;36m1\u001b[0m\u001b[0;34m)\u001b[0m\u001b[0;34m.\u001b[0m\u001b[0mtime\u001b[0m\u001b[0;34m\u001b[0m\u001b[0;34m\u001b[0m\u001b[0m\n\u001b[0;32m----> 8\u001b[0;31m     \u001b[0mday_time\u001b[0m \u001b[0;34m=\u001b[0m \u001b[0mallp2\u001b[0m\u001b[0;34m.\u001b[0m\u001b[0mset_index\u001b[0m\u001b[0;34m(\u001b[0m\u001b[0;34m[\u001b[0m\u001b[0;34m'time'\u001b[0m\u001b[0;34m,\u001b[0m \u001b[0;34m'date'\u001b[0m\u001b[0;34m]\u001b[0m\u001b[0;34m)\u001b[0m\u001b[0;34m.\u001b[0m\u001b[0mastype\u001b[0m\u001b[0;34m(\u001b[0m\u001b[0mnp\u001b[0m\u001b[0;34m.\u001b[0m\u001b[0mfloat64\u001b[0m\u001b[0;34m)\u001b[0m\u001b[0;34m.\u001b[0m\u001b[0munstack\u001b[0m\u001b[0;34m(\u001b[0m\u001b[0mlevel\u001b[0m\u001b[0;34m=\u001b[0m\u001b[0;36m1\u001b[0m\u001b[0;34m)\u001b[0m\u001b[0;34m.\u001b[0m\u001b[0mdroplevel\u001b[0m\u001b[0;34m(\u001b[0m\u001b[0;36m0\u001b[0m\u001b[0;34m,\u001b[0m \u001b[0maxis\u001b[0m\u001b[0;34m=\u001b[0m\u001b[0;36m1\u001b[0m\u001b[0;34m)\u001b[0m\u001b[0;34m\u001b[0m\u001b[0;34m\u001b[0m\u001b[0m\n\u001b[0m\u001b[1;32m      9\u001b[0m     \u001b[0mday_time_info\u001b[0m\u001b[0;34m=\u001b[0m\u001b[0mday_time\u001b[0m\u001b[0;34m.\u001b[0m\u001b[0mnotnull\u001b[0m\u001b[0;34m(\u001b[0m\u001b[0;34m)\u001b[0m\u001b[0;34m.\u001b[0m\u001b[0msum\u001b[0m\u001b[0;34m(\u001b[0m\u001b[0maxis\u001b[0m\u001b[0;34m=\u001b[0m\u001b[0;36m1\u001b[0m\u001b[0;34m)\u001b[0m\u001b[0;34m\u001b[0m\u001b[0;34m\u001b[0m\u001b[0m\n\u001b[1;32m     10\u001b[0m     \u001b[0mday_time_info\u001b[0m\u001b[0;34m.\u001b[0m\u001b[0mhist\u001b[0m\u001b[0;34m(\u001b[0m\u001b[0;34m)\u001b[0m\u001b[0;34m\u001b[0m\u001b[0;34m\u001b[0m\u001b[0m\n",
      "\u001b[0;32m/opt/conda/lib/python3.8/site-packages/pandas/core/frame.py\u001b[0m in \u001b[0;36munstack\u001b[0;34m(self, level, fill_value)\u001b[0m\n\u001b[1;32m   8318\u001b[0m         \u001b[0;32mfrom\u001b[0m \u001b[0mpandas\u001b[0m\u001b[0;34m.\u001b[0m\u001b[0mcore\u001b[0m\u001b[0;34m.\u001b[0m\u001b[0mreshape\u001b[0m\u001b[0;34m.\u001b[0m\u001b[0mreshape\u001b[0m \u001b[0;32mimport\u001b[0m \u001b[0munstack\u001b[0m\u001b[0;34m\u001b[0m\u001b[0;34m\u001b[0m\u001b[0m\n\u001b[1;32m   8319\u001b[0m \u001b[0;34m\u001b[0m\u001b[0m\n\u001b[0;32m-> 8320\u001b[0;31m         \u001b[0mresult\u001b[0m \u001b[0;34m=\u001b[0m \u001b[0munstack\u001b[0m\u001b[0;34m(\u001b[0m\u001b[0mself\u001b[0m\u001b[0;34m,\u001b[0m \u001b[0mlevel\u001b[0m\u001b[0;34m,\u001b[0m \u001b[0mfill_value\u001b[0m\u001b[0;34m)\u001b[0m\u001b[0;34m\u001b[0m\u001b[0;34m\u001b[0m\u001b[0m\n\u001b[0m\u001b[1;32m   8321\u001b[0m \u001b[0;34m\u001b[0m\u001b[0m\n\u001b[1;32m   8322\u001b[0m         \u001b[0;32mreturn\u001b[0m \u001b[0mresult\u001b[0m\u001b[0;34m.\u001b[0m\u001b[0m__finalize__\u001b[0m\u001b[0;34m(\u001b[0m\u001b[0mself\u001b[0m\u001b[0;34m,\u001b[0m \u001b[0mmethod\u001b[0m\u001b[0;34m=\u001b[0m\u001b[0;34m\"unstack\"\u001b[0m\u001b[0;34m)\u001b[0m\u001b[0;34m\u001b[0m\u001b[0;34m\u001b[0m\u001b[0m\n",
      "\u001b[0;32m/opt/conda/lib/python3.8/site-packages/pandas/core/reshape/reshape.py\u001b[0m in \u001b[0;36munstack\u001b[0;34m(obj, level, fill_value)\u001b[0m\n\u001b[1;32m    444\u001b[0m     \u001b[0;32mif\u001b[0m \u001b[0misinstance\u001b[0m\u001b[0;34m(\u001b[0m\u001b[0mobj\u001b[0m\u001b[0;34m,\u001b[0m \u001b[0mDataFrame\u001b[0m\u001b[0;34m)\u001b[0m\u001b[0;34m:\u001b[0m\u001b[0;34m\u001b[0m\u001b[0;34m\u001b[0m\u001b[0m\n\u001b[1;32m    445\u001b[0m         \u001b[0;32mif\u001b[0m \u001b[0misinstance\u001b[0m\u001b[0;34m(\u001b[0m\u001b[0mobj\u001b[0m\u001b[0;34m.\u001b[0m\u001b[0mindex\u001b[0m\u001b[0;34m,\u001b[0m \u001b[0mMultiIndex\u001b[0m\u001b[0;34m)\u001b[0m\u001b[0;34m:\u001b[0m\u001b[0;34m\u001b[0m\u001b[0;34m\u001b[0m\u001b[0m\n\u001b[0;32m--> 446\u001b[0;31m             \u001b[0;32mreturn\u001b[0m \u001b[0m_unstack_frame\u001b[0m\u001b[0;34m(\u001b[0m\u001b[0mobj\u001b[0m\u001b[0;34m,\u001b[0m \u001b[0mlevel\u001b[0m\u001b[0;34m,\u001b[0m \u001b[0mfill_value\u001b[0m\u001b[0;34m=\u001b[0m\u001b[0mfill_value\u001b[0m\u001b[0;34m)\u001b[0m\u001b[0;34m\u001b[0m\u001b[0;34m\u001b[0m\u001b[0m\n\u001b[0m\u001b[1;32m    447\u001b[0m         \u001b[0;32melse\u001b[0m\u001b[0;34m:\u001b[0m\u001b[0;34m\u001b[0m\u001b[0;34m\u001b[0m\u001b[0m\n\u001b[1;32m    448\u001b[0m             \u001b[0;32mreturn\u001b[0m \u001b[0mobj\u001b[0m\u001b[0;34m.\u001b[0m\u001b[0mT\u001b[0m\u001b[0;34m.\u001b[0m\u001b[0mstack\u001b[0m\u001b[0;34m(\u001b[0m\u001b[0mdropna\u001b[0m\u001b[0;34m=\u001b[0m\u001b[0;32mFalse\u001b[0m\u001b[0;34m)\u001b[0m\u001b[0;34m\u001b[0m\u001b[0;34m\u001b[0m\u001b[0m\n",
      "\u001b[0;32m/opt/conda/lib/python3.8/site-packages/pandas/core/reshape/reshape.py\u001b[0m in \u001b[0;36m_unstack_frame\u001b[0;34m(obj, level, fill_value)\u001b[0m\n\u001b[1;32m    471\u001b[0m         \u001b[0;32mreturn\u001b[0m \u001b[0mobj\u001b[0m\u001b[0;34m.\u001b[0m\u001b[0m_constructor\u001b[0m\u001b[0;34m(\u001b[0m\u001b[0mmgr\u001b[0m\u001b[0;34m)\u001b[0m\u001b[0;34m\u001b[0m\u001b[0;34m\u001b[0m\u001b[0m\n\u001b[1;32m    472\u001b[0m     \u001b[0;32melse\u001b[0m\u001b[0;34m:\u001b[0m\u001b[0;34m\u001b[0m\u001b[0;34m\u001b[0m\u001b[0m\n\u001b[0;32m--> 473\u001b[0;31m         \u001b[0munstacker\u001b[0m \u001b[0;34m=\u001b[0m \u001b[0m_Unstacker\u001b[0m\u001b[0;34m(\u001b[0m\u001b[0mobj\u001b[0m\u001b[0;34m.\u001b[0m\u001b[0mindex\u001b[0m\u001b[0;34m,\u001b[0m \u001b[0mlevel\u001b[0m\u001b[0;34m=\u001b[0m\u001b[0mlevel\u001b[0m\u001b[0;34m,\u001b[0m \u001b[0mconstructor\u001b[0m\u001b[0;34m=\u001b[0m\u001b[0mobj\u001b[0m\u001b[0;34m.\u001b[0m\u001b[0m_constructor\u001b[0m\u001b[0;34m)\u001b[0m\u001b[0;34m\u001b[0m\u001b[0;34m\u001b[0m\u001b[0m\n\u001b[0m\u001b[1;32m    474\u001b[0m         return unstacker.get_result(\n\u001b[1;32m    475\u001b[0m             \u001b[0mobj\u001b[0m\u001b[0;34m.\u001b[0m\u001b[0m_values\u001b[0m\u001b[0;34m,\u001b[0m \u001b[0mvalue_columns\u001b[0m\u001b[0;34m=\u001b[0m\u001b[0mobj\u001b[0m\u001b[0;34m.\u001b[0m\u001b[0mcolumns\u001b[0m\u001b[0;34m,\u001b[0m \u001b[0mfill_value\u001b[0m\u001b[0;34m=\u001b[0m\u001b[0mfill_value\u001b[0m\u001b[0;34m\u001b[0m\u001b[0;34m\u001b[0m\u001b[0m\n",
      "\u001b[0;32m/opt/conda/lib/python3.8/site-packages/pandas/core/reshape/reshape.py\u001b[0m in \u001b[0;36m__init__\u001b[0;34m(self, index, level, constructor)\u001b[0m\n\u001b[1;32m    131\u001b[0m             \u001b[0;32mraise\u001b[0m \u001b[0mValueError\u001b[0m\u001b[0;34m(\u001b[0m\u001b[0;34m\"Unstacked DataFrame is too big, causing int32 overflow\"\u001b[0m\u001b[0;34m)\u001b[0m\u001b[0;34m\u001b[0m\u001b[0;34m\u001b[0m\u001b[0m\n\u001b[1;32m    132\u001b[0m \u001b[0;34m\u001b[0m\u001b[0m\n\u001b[0;32m--> 133\u001b[0;31m         \u001b[0mself\u001b[0m\u001b[0;34m.\u001b[0m\u001b[0m_make_selectors\u001b[0m\u001b[0;34m(\u001b[0m\u001b[0;34m)\u001b[0m\u001b[0;34m\u001b[0m\u001b[0;34m\u001b[0m\u001b[0m\n\u001b[0m\u001b[1;32m    134\u001b[0m \u001b[0;34m\u001b[0m\u001b[0m\n\u001b[1;32m    135\u001b[0m     \u001b[0;34m@\u001b[0m\u001b[0mcache_readonly\u001b[0m\u001b[0;34m\u001b[0m\u001b[0;34m\u001b[0m\u001b[0m\n",
      "\u001b[0;32m/opt/conda/lib/python3.8/site-packages/pandas/core/reshape/reshape.py\u001b[0m in \u001b[0;36m_make_selectors\u001b[0;34m(self)\u001b[0m\n\u001b[1;32m    183\u001b[0m \u001b[0;34m\u001b[0m\u001b[0m\n\u001b[1;32m    184\u001b[0m         \u001b[0;32mif\u001b[0m \u001b[0mmask\u001b[0m\u001b[0;34m.\u001b[0m\u001b[0msum\u001b[0m\u001b[0;34m(\u001b[0m\u001b[0;34m)\u001b[0m \u001b[0;34m<\u001b[0m \u001b[0mlen\u001b[0m\u001b[0;34m(\u001b[0m\u001b[0mself\u001b[0m\u001b[0;34m.\u001b[0m\u001b[0mindex\u001b[0m\u001b[0;34m)\u001b[0m\u001b[0;34m:\u001b[0m\u001b[0;34m\u001b[0m\u001b[0;34m\u001b[0m\u001b[0m\n\u001b[0;32m--> 185\u001b[0;31m             \u001b[0;32mraise\u001b[0m \u001b[0mValueError\u001b[0m\u001b[0;34m(\u001b[0m\u001b[0;34m\"Index contains duplicate entries, cannot reshape\"\u001b[0m\u001b[0;34m)\u001b[0m\u001b[0;34m\u001b[0m\u001b[0;34m\u001b[0m\u001b[0m\n\u001b[0m\u001b[1;32m    186\u001b[0m \u001b[0;34m\u001b[0m\u001b[0m\n\u001b[1;32m    187\u001b[0m         \u001b[0mself\u001b[0m\u001b[0;34m.\u001b[0m\u001b[0mgroup_index\u001b[0m \u001b[0;34m=\u001b[0m \u001b[0mcomp_index\u001b[0m\u001b[0;34m\u001b[0m\u001b[0;34m\u001b[0m\u001b[0m\n",
      "\u001b[0;31mValueError\u001b[0m: Index contains duplicate entries, cannot reshape"
     ]
    }
   ],
   "source": [
    "create_sequences(alltrainp,seg=3)"
   ]
  },
  {
   "cell_type": "code",
   "execution_count": 12,
   "id": "d95a9bfb",
   "metadata": {
    "ExecuteTime": {
     "end_time": "2022-01-01T11:38:50.707270Z",
     "start_time": "2022-01-01T11:38:50.684117Z"
    }
   },
   "outputs": [
    {
     "data": {
      "text/html": [
       "<div>\n",
       "<style scoped>\n",
       "    .dataframe tbody tr th:only-of-type {\n",
       "        vertical-align: middle;\n",
       "    }\n",
       "\n",
       "    .dataframe tbody tr th {\n",
       "        vertical-align: top;\n",
       "    }\n",
       "\n",
       "    .dataframe thead th {\n",
       "        text-align: right;\n",
       "    }\n",
       "</style>\n",
       "<table border=\"1\" class=\"dataframe\">\n",
       "  <thead>\n",
       "    <tr style=\"text-align: right;\">\n",
       "      <th></th>\n",
       "      <th>State</th>\n",
       "      <th>City</th>\n",
       "      <th>value_a</th>\n",
       "      <th>value_b</th>\n",
       "    </tr>\n",
       "    <tr>\n",
       "      <th>Date</th>\n",
       "      <th></th>\n",
       "      <th></th>\n",
       "      <th></th>\n",
       "      <th></th>\n",
       "    </tr>\n",
       "  </thead>\n",
       "  <tbody>\n",
       "    <tr>\n",
       "      <th>2012-01-01</th>\n",
       "      <td>Georgia</td>\n",
       "      <td>Atlanta</td>\n",
       "      <td>0</td>\n",
       "      <td>10</td>\n",
       "    </tr>\n",
       "    <tr>\n",
       "      <th>2012-01-02</th>\n",
       "      <td>Georgia</td>\n",
       "      <td>Atlanta</td>\n",
       "      <td>1</td>\n",
       "      <td>11</td>\n",
       "    </tr>\n",
       "    <tr>\n",
       "      <th>2012-01-03</th>\n",
       "      <td>Georgia</td>\n",
       "      <td>Atlanta</td>\n",
       "      <td>2</td>\n",
       "      <td>12</td>\n",
       "    </tr>\n",
       "    <tr>\n",
       "      <th>2012-01-04</th>\n",
       "      <td>Georgia</td>\n",
       "      <td>Atlanta</td>\n",
       "      <td>3</td>\n",
       "      <td>13</td>\n",
       "    </tr>\n",
       "    <tr>\n",
       "      <th>2012-01-01</th>\n",
       "      <td>Georgia</td>\n",
       "      <td>Savanna</td>\n",
       "      <td>4</td>\n",
       "      <td>14</td>\n",
       "    </tr>\n",
       "    <tr>\n",
       "      <th>2012-01-02</th>\n",
       "      <td>Georgia</td>\n",
       "      <td>Savanna</td>\n",
       "      <td>5</td>\n",
       "      <td>15</td>\n",
       "    </tr>\n",
       "    <tr>\n",
       "      <th>2012-01-03</th>\n",
       "      <td>Georgia</td>\n",
       "      <td>Savanna</td>\n",
       "      <td>6</td>\n",
       "      <td>16</td>\n",
       "    </tr>\n",
       "    <tr>\n",
       "      <th>2012-01-04</th>\n",
       "      <td>Georgia</td>\n",
       "      <td>Savanna</td>\n",
       "      <td>7</td>\n",
       "      <td>17</td>\n",
       "    </tr>\n",
       "    <tr>\n",
       "      <th>2012-01-01</th>\n",
       "      <td>Alabama</td>\n",
       "      <td>Mobile</td>\n",
       "      <td>8</td>\n",
       "      <td>18</td>\n",
       "    </tr>\n",
       "    <tr>\n",
       "      <th>2012-01-02</th>\n",
       "      <td>Alabama</td>\n",
       "      <td>Mobile</td>\n",
       "      <td>9</td>\n",
       "      <td>19</td>\n",
       "    </tr>\n",
       "    <tr>\n",
       "      <th>2012-01-03</th>\n",
       "      <td>Alabama</td>\n",
       "      <td>Mobile</td>\n",
       "      <td>10</td>\n",
       "      <td>20</td>\n",
       "    </tr>\n",
       "    <tr>\n",
       "      <th>2012-01-04</th>\n",
       "      <td>Alabama</td>\n",
       "      <td>Mobile</td>\n",
       "      <td>11</td>\n",
       "      <td>21</td>\n",
       "    </tr>\n",
       "    <tr>\n",
       "      <th>2012-01-01</th>\n",
       "      <td>Alabama</td>\n",
       "      <td>Montgomery</td>\n",
       "      <td>12</td>\n",
       "      <td>22</td>\n",
       "    </tr>\n",
       "    <tr>\n",
       "      <th>2012-01-02</th>\n",
       "      <td>Alabama</td>\n",
       "      <td>Montgomery</td>\n",
       "      <td>13</td>\n",
       "      <td>23</td>\n",
       "    </tr>\n",
       "    <tr>\n",
       "      <th>2012-01-03</th>\n",
       "      <td>Alabama</td>\n",
       "      <td>Montgomery</td>\n",
       "      <td>14</td>\n",
       "      <td>24</td>\n",
       "    </tr>\n",
       "    <tr>\n",
       "      <th>2012-01-04</th>\n",
       "      <td>Alabama</td>\n",
       "      <td>Montgomery</td>\n",
       "      <td>15</td>\n",
       "      <td>25</td>\n",
       "    </tr>\n",
       "  </tbody>\n",
       "</table>\n",
       "</div>"
      ],
      "text/plain": [
       "              State        City  value_a  value_b\n",
       "Date                                             \n",
       "2012-01-01  Georgia     Atlanta        0       10\n",
       "2012-01-02  Georgia     Atlanta        1       11\n",
       "2012-01-03  Georgia     Atlanta        2       12\n",
       "2012-01-04  Georgia     Atlanta        3       13\n",
       "2012-01-01  Georgia     Savanna        4       14\n",
       "2012-01-02  Georgia     Savanna        5       15\n",
       "2012-01-03  Georgia     Savanna        6       16\n",
       "2012-01-04  Georgia     Savanna        7       17\n",
       "2012-01-01  Alabama      Mobile        8       18\n",
       "2012-01-02  Alabama      Mobile        9       19\n",
       "2012-01-03  Alabama      Mobile       10       20\n",
       "2012-01-04  Alabama      Mobile       11       21\n",
       "2012-01-01  Alabama  Montgomery       12       22\n",
       "2012-01-02  Alabama  Montgomery       13       23\n",
       "2012-01-03  Alabama  Montgomery       14       24\n",
       "2012-01-04  Alabama  Montgomery       15       25"
      ]
     },
     "metadata": {},
     "output_type": "display_data"
    },
    {
     "name": "stdout",
     "output_type": "stream",
     "text": [
      "                               value_a  value_b\n",
      "State   City       Date                        \n",
      "Alabama Mobile     2012-01-01       17       37\n",
      "                   2012-01-03       21       41\n",
      "        Montgomery 2012-01-01       25       45\n",
      "                   2012-01-03       29       49\n",
      "Georgia Atlanta    2012-01-01        1       21\n",
      "                   2012-01-03        5       25\n",
      "        Savanna    2012-01-01        9       29\n",
      "                   2012-01-03       13       33\n"
     ]
    }
   ],
   "source": [
    "import numpy as np\n",
    "import pandas as pd\n",
    "import datetime as DT\n",
    "\n",
    "def using_Grouper(df):\n",
    "    level_values = df.index.get_level_values\n",
    "    return (df.groupby([level_values(i) for i in [0,1]]\n",
    "                       +[pd.Grouper(freq='2D', level=-1)]).sum())\n",
    "\n",
    "def using_reset_index(df):\n",
    "    df = df.reset_index(level=[0, 1])\n",
    "    display(df)\n",
    "    return df.groupby(['State','City']).resample('2D').sum()\n",
    "\n",
    "def using_stack(df):\n",
    "    # http://stackoverflow.com/a/15813787/190597\n",
    "    return (df.unstack(level=[0,1])\n",
    "              .resample('2D').sum()\n",
    "              .stack(level=[2,1])\n",
    "              .swaplevel(2,0))\n",
    "\n",
    "def make_orig():\n",
    "    values_a = range(16)\n",
    "    values_b = range(10, 26)\n",
    "    states = ['Georgia']*8 + ['Alabama']*8\n",
    "    cities = ['Atlanta']*4 + ['Savanna']*4 + ['Mobile']*4 + ['Montgomery']*4\n",
    "    dates = pd.DatetimeIndex([DT.date(2012,1,1)+DT.timedelta(days = i) for i in range(4)]*4)\n",
    "    df = pd.DataFrame(\n",
    "        {'value_a': values_a, 'value_b': values_b},\n",
    "        index = [states, cities, dates])\n",
    "    df.index.names = ['State', 'City', 'Date']\n",
    "    return df\n",
    "\n",
    "def make_df(N):\n",
    "    dates = pd.date_range('2000-1-1', periods=N)\n",
    "    states = np.arange(50)\n",
    "    cities = np.arange(10)\n",
    "    index = pd.MultiIndex.from_product([states, cities, dates], \n",
    "                                       names=['State', 'City', 'Date'])\n",
    "    df = pd.DataFrame(np.random.randint(10, size=(len(index),2)), index=index,\n",
    "                      columns=['value_a', 'value_b'])\n",
    "    return df\n",
    "\n",
    "df = make_orig()\n",
    "# display(df)\n",
    "print(using_reset_index(df))"
   ]
  },
  {
   "cell_type": "code",
   "execution_count": 14,
   "id": "c13e1657",
   "metadata": {
    "ExecuteTime": {
     "end_time": "2022-01-01T11:19:12.634575Z",
     "start_time": "2022-01-01T11:19:09.469503Z"
    }
   },
   "outputs": [
    {
     "ename": "KeyError",
     "evalue": "\"None of ['id'] are in the columns\"",
     "output_type": "error",
     "traceback": [
      "\u001b[0;31m---------------------------------------------------------------------------\u001b[0m",
      "\u001b[0;31mKeyError\u001b[0m                                  Traceback (most recent call last)",
      "\u001b[0;32m<ipython-input-14-e0b10ef711ae>\u001b[0m in \u001b[0;36m<module>\u001b[0;34m\u001b[0m\n\u001b[0;32m----> 1\u001b[0;31m \u001b[0mx_train\u001b[0m\u001b[0;34m=\u001b[0m\u001b[0mcreate_sequences\u001b[0m\u001b[0;34m(\u001b[0m\u001b[0malltrainp\u001b[0m\u001b[0;34m,\u001b[0m\u001b[0mseg\u001b[0m\u001b[0;34m=\u001b[0m\u001b[0;36m3\u001b[0m\u001b[0;34m,\u001b[0m\u001b[0mmin_data_count\u001b[0m\u001b[0;34m=\u001b[0m\u001b[0;36m200\u001b[0m\u001b[0;34m)\u001b[0m\u001b[0;34m\u001b[0m\u001b[0;34m\u001b[0m\u001b[0m\n\u001b[0m\u001b[1;32m      2\u001b[0m \u001b[0;31m# import h5py\u001b[0m\u001b[0;34m\u001b[0m\u001b[0;34m\u001b[0m\u001b[0;34m\u001b[0m\u001b[0m\n\u001b[1;32m      3\u001b[0m \u001b[0;31m# with h5py.File('/workspace/ssd2/x_train.h5', 'w') as f:\u001b[0m\u001b[0;34m\u001b[0m\u001b[0;34m\u001b[0m\u001b[0;34m\u001b[0m\u001b[0m\n\u001b[1;32m      4\u001b[0m \u001b[0;31m#     f.create_dataset('x_train',data=x_train)\u001b[0m\u001b[0;34m\u001b[0m\u001b[0;34m\u001b[0m\u001b[0;34m\u001b[0m\u001b[0m\n\u001b[1;32m      5\u001b[0m \u001b[0;34m\u001b[0m\u001b[0m\n",
      "\u001b[0;32m<ipython-input-13-55ccfdc9b464>\u001b[0m in \u001b[0;36mcreate_sequences\u001b[0;34m(data, seg, min_data_count)\u001b[0m\n\u001b[1;32m      5\u001b[0m     \u001b[0mallp2\u001b[0m\u001b[0;34m[\u001b[0m\u001b[0;34m'date'\u001b[0m\u001b[0;34m]\u001b[0m \u001b[0;34m=\u001b[0m \u001b[0mallp2\u001b[0m\u001b[0;34m.\u001b[0m\u001b[0mindex\u001b[0m\u001b[0;34m.\u001b[0m\u001b[0mfloor\u001b[0m\u001b[0;34m(\u001b[0m\u001b[0;34m'1D'\u001b[0m\u001b[0;34m)\u001b[0m\u001b[0;34m\u001b[0m\u001b[0;34m\u001b[0m\u001b[0m\n\u001b[1;32m      6\u001b[0m     \u001b[0mallp2\u001b[0m\u001b[0;34m[\u001b[0m\u001b[0;34m'time'\u001b[0m\u001b[0;34m]\u001b[0m \u001b[0;34m=\u001b[0m \u001b[0mallp2\u001b[0m\u001b[0;34m.\u001b[0m\u001b[0mindex\u001b[0m\u001b[0;34m.\u001b[0m\u001b[0mtime\u001b[0m\u001b[0;34m\u001b[0m\u001b[0;34m\u001b[0m\u001b[0m\n\u001b[0;32m----> 7\u001b[0;31m     \u001b[0mday_time\u001b[0m \u001b[0;34m=\u001b[0m \u001b[0mallp2\u001b[0m\u001b[0;34m.\u001b[0m\u001b[0mset_index\u001b[0m\u001b[0;34m(\u001b[0m\u001b[0;34m[\u001b[0m\u001b[0;34m'id'\u001b[0m\u001b[0;34m,\u001b[0m\u001b[0;34m'time'\u001b[0m\u001b[0;34m,\u001b[0m \u001b[0;34m'date'\u001b[0m\u001b[0;34m]\u001b[0m\u001b[0;34m)\u001b[0m\u001b[0;34m.\u001b[0m\u001b[0mastype\u001b[0m\u001b[0;34m(\u001b[0m\u001b[0mnp\u001b[0m\u001b[0;34m.\u001b[0m\u001b[0mfloat64\u001b[0m\u001b[0;34m)\u001b[0m\u001b[0;34m.\u001b[0m\u001b[0munstack\u001b[0m\u001b[0;34m(\u001b[0m\u001b[0mlevel\u001b[0m\u001b[0;34m=\u001b[0m\u001b[0;36m1\u001b[0m\u001b[0;34m)\u001b[0m\u001b[0;34m.\u001b[0m\u001b[0mdroplevel\u001b[0m\u001b[0;34m(\u001b[0m\u001b[0;36m0\u001b[0m\u001b[0;34m,\u001b[0m \u001b[0maxis\u001b[0m\u001b[0;34m=\u001b[0m\u001b[0;36m1\u001b[0m\u001b[0;34m)\u001b[0m\u001b[0;34m\u001b[0m\u001b[0;34m\u001b[0m\u001b[0m\n\u001b[0m\u001b[1;32m      8\u001b[0m     \u001b[0mday_time_info\u001b[0m\u001b[0;34m=\u001b[0m\u001b[0mday_time\u001b[0m\u001b[0;34m.\u001b[0m\u001b[0mnotnull\u001b[0m\u001b[0;34m(\u001b[0m\u001b[0;34m)\u001b[0m\u001b[0;34m.\u001b[0m\u001b[0msum\u001b[0m\u001b[0;34m(\u001b[0m\u001b[0maxis\u001b[0m\u001b[0;34m=\u001b[0m\u001b[0;36m1\u001b[0m\u001b[0;34m)\u001b[0m\u001b[0;34m\u001b[0m\u001b[0;34m\u001b[0m\u001b[0m\n\u001b[1;32m      9\u001b[0m     \u001b[0mday_time_info\u001b[0m\u001b[0;34m.\u001b[0m\u001b[0mhist\u001b[0m\u001b[0;34m(\u001b[0m\u001b[0;34m)\u001b[0m\u001b[0;34m\u001b[0m\u001b[0;34m\u001b[0m\u001b[0m\n",
      "\u001b[0;32m/opt/conda/lib/python3.8/site-packages/pandas/util/_decorators.py\u001b[0m in \u001b[0;36mwrapper\u001b[0;34m(*args, **kwargs)\u001b[0m\n\u001b[1;32m    309\u001b[0m                     \u001b[0mstacklevel\u001b[0m\u001b[0;34m=\u001b[0m\u001b[0mstacklevel\u001b[0m\u001b[0;34m,\u001b[0m\u001b[0;34m\u001b[0m\u001b[0;34m\u001b[0m\u001b[0m\n\u001b[1;32m    310\u001b[0m                 )\n\u001b[0;32m--> 311\u001b[0;31m             \u001b[0;32mreturn\u001b[0m \u001b[0mfunc\u001b[0m\u001b[0;34m(\u001b[0m\u001b[0;34m*\u001b[0m\u001b[0margs\u001b[0m\u001b[0;34m,\u001b[0m \u001b[0;34m**\u001b[0m\u001b[0mkwargs\u001b[0m\u001b[0;34m)\u001b[0m\u001b[0;34m\u001b[0m\u001b[0;34m\u001b[0m\u001b[0m\n\u001b[0m\u001b[1;32m    312\u001b[0m \u001b[0;34m\u001b[0m\u001b[0m\n\u001b[1;32m    313\u001b[0m         \u001b[0;32mreturn\u001b[0m \u001b[0mwrapper\u001b[0m\u001b[0;34m\u001b[0m\u001b[0;34m\u001b[0m\u001b[0m\n",
      "\u001b[0;32m/opt/conda/lib/python3.8/site-packages/pandas/core/frame.py\u001b[0m in \u001b[0;36mset_index\u001b[0;34m(self, keys, drop, append, inplace, verify_integrity)\u001b[0m\n\u001b[1;32m   5444\u001b[0m \u001b[0;34m\u001b[0m\u001b[0m\n\u001b[1;32m   5445\u001b[0m         \u001b[0;32mif\u001b[0m \u001b[0mmissing\u001b[0m\u001b[0;34m:\u001b[0m\u001b[0;34m\u001b[0m\u001b[0;34m\u001b[0m\u001b[0m\n\u001b[0;32m-> 5446\u001b[0;31m             \u001b[0;32mraise\u001b[0m \u001b[0mKeyError\u001b[0m\u001b[0;34m(\u001b[0m\u001b[0;34mf\"None of {missing} are in the columns\"\u001b[0m\u001b[0;34m)\u001b[0m\u001b[0;34m\u001b[0m\u001b[0;34m\u001b[0m\u001b[0m\n\u001b[0m\u001b[1;32m   5447\u001b[0m \u001b[0;34m\u001b[0m\u001b[0m\n\u001b[1;32m   5448\u001b[0m         \u001b[0;32mif\u001b[0m \u001b[0minplace\u001b[0m\u001b[0;34m:\u001b[0m\u001b[0;34m\u001b[0m\u001b[0;34m\u001b[0m\u001b[0m\n",
      "\u001b[0;31mKeyError\u001b[0m: \"None of ['id'] are in the columns\""
     ]
    }
   ],
   "source": [
    "x_train=create_sequences(alltrainp,seg=3,min_data_count=200)\n",
    "# import h5py\n",
    "# with h5py.File('/workspace/ssd2/x_train.h5', 'w') as f:\n",
    "#     f.create_dataset('x_train',data=x_train)\n",
    "\n",
    "#x_train.to_hdf('x_train.h5','x_train')\n",
    "#x_train=pd.read_hdf('x_train.h5','x_train')\n",
    "\n",
    "\n",
    "# x_test.to_hdf('x_test.h5','x_test')\n",
    "# x_test=pd.read_hdf('x_test.h5','x_test')"
   ]
  },
  {
   "cell_type": "code",
   "execution_count": 25,
   "id": "d93b5fa8",
   "metadata": {
    "ExecuteTime": {
     "end_time": "2021-12-31T00:32:08.110284Z",
     "start_time": "2021-12-31T00:32:02.533387Z"
    }
   },
   "outputs": [],
   "source": [
    "    x_train=h5py.File('/workspace/ssd2/x_train.h5','r')['x_train'][:]"
   ]
  },
  {
   "cell_type": "code",
   "execution_count": 27,
   "id": "57f7a9f5",
   "metadata": {
    "ExecuteTime": {
     "end_time": "2021-12-31T00:32:15.123381Z",
     "start_time": "2021-12-31T00:32:15.120378Z"
    }
   },
   "outputs": [
    {
     "data": {
      "text/plain": [
       "(921910, 1260, 1)"
      ]
     },
     "execution_count": 27,
     "metadata": {},
     "output_type": "execute_result"
    }
   ],
   "source": [
    "x_train.shape"
   ]
  },
  {
   "cell_type": "code",
   "execution_count": 9,
   "id": "a75f0046",
   "metadata": {
    "ExecuteTime": {
     "end_time": "2021-12-31T00:26:58.584996Z",
     "start_time": "2021-12-30T19:48:51.071598Z"
    }
   },
   "outputs": [
    {
     "data": {
      "text/html": [
       "<div>\n",
       "<style scoped>\n",
       "    .dataframe tbody tr th:only-of-type {\n",
       "        vertical-align: middle;\n",
       "    }\n",
       "\n",
       "    .dataframe tbody tr th {\n",
       "        vertical-align: top;\n",
       "    }\n",
       "\n",
       "    .dataframe thead th {\n",
       "        text-align: right;\n",
       "    }\n",
       "</style>\n",
       "<table border=\"1\" class=\"dataframe\">\n",
       "  <thead>\n",
       "    <tr style=\"text-align: right;\">\n",
       "      <th></th>\n",
       "      <th>time</th>\n",
       "      <th>00:00:00</th>\n",
       "      <th>00:01:00</th>\n",
       "      <th>00:02:00</th>\n",
       "      <th>00:03:00</th>\n",
       "      <th>00:04:00</th>\n",
       "      <th>00:05:00</th>\n",
       "      <th>00:06:00</th>\n",
       "      <th>00:07:00</th>\n",
       "      <th>00:08:00</th>\n",
       "      <th>00:09:00</th>\n",
       "      <th>...</th>\n",
       "      <th>06:50:00</th>\n",
       "      <th>06:51:00</th>\n",
       "      <th>06:52:00</th>\n",
       "      <th>06:53:00</th>\n",
       "      <th>06:54:00</th>\n",
       "      <th>06:55:00</th>\n",
       "      <th>06:56:00</th>\n",
       "      <th>06:57:00</th>\n",
       "      <th>06:58:00</th>\n",
       "      <th>06:59:00</th>\n",
       "    </tr>\n",
       "    <tr>\n",
       "      <th>id</th>\n",
       "      <th>date</th>\n",
       "      <th></th>\n",
       "      <th></th>\n",
       "      <th></th>\n",
       "      <th></th>\n",
       "      <th></th>\n",
       "      <th></th>\n",
       "      <th></th>\n",
       "      <th></th>\n",
       "      <th></th>\n",
       "      <th></th>\n",
       "      <th></th>\n",
       "      <th></th>\n",
       "      <th></th>\n",
       "      <th></th>\n",
       "      <th></th>\n",
       "      <th></th>\n",
       "      <th></th>\n",
       "      <th></th>\n",
       "      <th></th>\n",
       "      <th></th>\n",
       "      <th></th>\n",
       "    </tr>\n",
       "  </thead>\n",
       "  <tbody>\n",
       "    <tr>\n",
       "      <th rowspan=\"5\" valign=\"top\">P100300</th>\n",
       "      <th>2027-07-23</th>\n",
       "      <td>-1.032227</td>\n",
       "      <td>-1.228516</td>\n",
       "      <td>-1.724609</td>\n",
       "      <td>-1.285156</td>\n",
       "      <td>-1.505859</td>\n",
       "      <td>-1.557617</td>\n",
       "      <td>-1.608398</td>\n",
       "      <td>-1.575195</td>\n",
       "      <td>-1.586914</td>\n",
       "      <td>-1.627930</td>\n",
       "      <td>...</td>\n",
       "      <td>-0.210083</td>\n",
       "      <td>-0.210083</td>\n",
       "      <td>-0.210083</td>\n",
       "      <td>-0.210083</td>\n",
       "      <td>-0.210083</td>\n",
       "      <td>-0.210083</td>\n",
       "      <td>-0.210083</td>\n",
       "      <td>-0.210083</td>\n",
       "      <td>-0.210083</td>\n",
       "      <td>-0.210083</td>\n",
       "    </tr>\n",
       "    <tr>\n",
       "      <th>2027-07-24</th>\n",
       "      <td>-1.708984</td>\n",
       "      <td>-1.640625</td>\n",
       "      <td>-1.583984</td>\n",
       "      <td>-1.491211</td>\n",
       "      <td>-1.425781</td>\n",
       "      <td>-1.693359</td>\n",
       "      <td>-1.623047</td>\n",
       "      <td>-1.543945</td>\n",
       "      <td>-1.493164</td>\n",
       "      <td>-1.278320</td>\n",
       "      <td>...</td>\n",
       "      <td>-0.077881</td>\n",
       "      <td>-0.426514</td>\n",
       "      <td>-0.260498</td>\n",
       "      <td>-0.094421</td>\n",
       "      <td>-0.518555</td>\n",
       "      <td>-0.415771</td>\n",
       "      <td>-0.312988</td>\n",
       "      <td>-0.210083</td>\n",
       "      <td>-0.273193</td>\n",
       "      <td>-0.325684</td>\n",
       "    </tr>\n",
       "    <tr>\n",
       "      <th>2027-07-25</th>\n",
       "      <td>-1.099609</td>\n",
       "      <td>-0.470947</td>\n",
       "      <td>-0.899902</td>\n",
       "      <td>-0.756836</td>\n",
       "      <td>-0.743164</td>\n",
       "      <td>-0.871094</td>\n",
       "      <td>-0.817871</td>\n",
       "      <td>-1.002930</td>\n",
       "      <td>-1.146484</td>\n",
       "      <td>-0.869141</td>\n",
       "      <td>...</td>\n",
       "      <td>-1.219727</td>\n",
       "      <td>-0.857910</td>\n",
       "      <td>-1.409180</td>\n",
       "      <td>-1.374023</td>\n",
       "      <td>-1.367188</td>\n",
       "      <td>-1.177734</td>\n",
       "      <td>-1.143555</td>\n",
       "      <td>-1.163086</td>\n",
       "      <td>-1.303711</td>\n",
       "      <td>-1.319336</td>\n",
       "    </tr>\n",
       "    <tr>\n",
       "      <th>2027-07-26</th>\n",
       "      <td>-0.788574</td>\n",
       "      <td>-0.714844</td>\n",
       "      <td>-0.714844</td>\n",
       "      <td>-0.613770</td>\n",
       "      <td>-0.871094</td>\n",
       "      <td>-0.683105</td>\n",
       "      <td>-0.277344</td>\n",
       "      <td>-0.190430</td>\n",
       "      <td>-0.103577</td>\n",
       "      <td>-0.016617</td>\n",
       "      <td>...</td>\n",
       "      <td>-1.917969</td>\n",
       "      <td>-1.850586</td>\n",
       "      <td>-1.659180</td>\n",
       "      <td>-1.752930</td>\n",
       "      <td>-1.532227</td>\n",
       "      <td>-1.750000</td>\n",
       "      <td>-0.706543</td>\n",
       "      <td>-1.556641</td>\n",
       "      <td>-1.376953</td>\n",
       "      <td>-1.486328</td>\n",
       "    </tr>\n",
       "    <tr>\n",
       "      <th>2027-07-27</th>\n",
       "      <td>-1.075195</td>\n",
       "      <td>-1.135742</td>\n",
       "      <td>-1.245117</td>\n",
       "      <td>-1.089844</td>\n",
       "      <td>-0.705566</td>\n",
       "      <td>-1.201172</td>\n",
       "      <td>-0.967285</td>\n",
       "      <td>-0.780273</td>\n",
       "      <td>-0.765137</td>\n",
       "      <td>-0.871094</td>\n",
       "      <td>...</td>\n",
       "      <td>-0.811035</td>\n",
       "      <td>-1.387695</td>\n",
       "      <td>-1.159180</td>\n",
       "      <td>-1.149414</td>\n",
       "      <td>-1.278320</td>\n",
       "      <td>-0.872559</td>\n",
       "      <td>-0.588867</td>\n",
       "      <td>-0.735840</td>\n",
       "      <td>-0.883301</td>\n",
       "      <td>-0.967285</td>\n",
       "    </tr>\n",
       "    <tr>\n",
       "      <th>...</th>\n",
       "      <th>...</th>\n",
       "      <td>...</td>\n",
       "      <td>...</td>\n",
       "      <td>...</td>\n",
       "      <td>...</td>\n",
       "      <td>...</td>\n",
       "      <td>...</td>\n",
       "      <td>...</td>\n",
       "      <td>...</td>\n",
       "      <td>...</td>\n",
       "      <td>...</td>\n",
       "      <td>...</td>\n",
       "      <td>...</td>\n",
       "      <td>...</td>\n",
       "      <td>...</td>\n",
       "      <td>...</td>\n",
       "      <td>...</td>\n",
       "      <td>...</td>\n",
       "      <td>...</td>\n",
       "      <td>...</td>\n",
       "      <td>...</td>\n",
       "      <td>...</td>\n",
       "    </tr>\n",
       "    <tr>\n",
       "      <th rowspan=\"5\" valign=\"top\">P992022</th>\n",
       "      <th>2024-12-02</th>\n",
       "      <td>-0.534668</td>\n",
       "      <td>-0.462402</td>\n",
       "      <td>-0.580078</td>\n",
       "      <td>-0.567871</td>\n",
       "      <td>-0.546387</td>\n",
       "      <td>-0.560547</td>\n",
       "      <td>-0.546387</td>\n",
       "      <td>-0.681152</td>\n",
       "      <td>-0.700684</td>\n",
       "      <td>-0.785156</td>\n",
       "      <td>...</td>\n",
       "      <td>1.192383</td>\n",
       "      <td>0.886719</td>\n",
       "      <td>0.581543</td>\n",
       "      <td>0.275879</td>\n",
       "      <td>0.168457</td>\n",
       "      <td>0.406738</td>\n",
       "      <td>0.474854</td>\n",
       "      <td>0.305176</td>\n",
       "      <td>0.510254</td>\n",
       "      <td>0.715332</td>\n",
       "    </tr>\n",
       "    <tr>\n",
       "      <th>2024-12-03</th>\n",
       "      <td>-0.761719</td>\n",
       "      <td>-1.017578</td>\n",
       "      <td>-1.135742</td>\n",
       "      <td>-1.135742</td>\n",
       "      <td>-1.159180</td>\n",
       "      <td>-1.103516</td>\n",
       "      <td>-1.177734</td>\n",
       "      <td>-1.171875</td>\n",
       "      <td>-0.956543</td>\n",
       "      <td>-0.967285</td>\n",
       "      <td>...</td>\n",
       "      <td>-0.311035</td>\n",
       "      <td>-0.157593</td>\n",
       "      <td>-0.277344</td>\n",
       "      <td>-0.395264</td>\n",
       "      <td>-0.443848</td>\n",
       "      <td>-0.408936</td>\n",
       "      <td>-0.234131</td>\n",
       "      <td>0.000209</td>\n",
       "      <td>-0.515137</td>\n",
       "      <td>-0.218506</td>\n",
       "    </tr>\n",
       "    <tr>\n",
       "      <th>2024-12-04</th>\n",
       "      <td>0.967773</td>\n",
       "      <td>0.894043</td>\n",
       "      <td>0.925781</td>\n",
       "      <td>0.511230</td>\n",
       "      <td>0.751465</td>\n",
       "      <td>0.852051</td>\n",
       "      <td>0.873047</td>\n",
       "      <td>0.757324</td>\n",
       "      <td>0.715332</td>\n",
       "      <td>0.955566</td>\n",
       "      <td>...</td>\n",
       "      <td>-0.967285</td>\n",
       "      <td>-0.883301</td>\n",
       "      <td>-0.883301</td>\n",
       "      <td>-0.854980</td>\n",
       "      <td>-1.039062</td>\n",
       "      <td>-0.844727</td>\n",
       "      <td>-0.798828</td>\n",
       "      <td>-0.985840</td>\n",
       "      <td>-0.975586</td>\n",
       "      <td>-0.967285</td>\n",
       "    </tr>\n",
       "    <tr>\n",
       "      <th>2024-12-05</th>\n",
       "      <td>-0.515137</td>\n",
       "      <td>-0.583984</td>\n",
       "      <td>-0.687012</td>\n",
       "      <td>-0.883301</td>\n",
       "      <td>-0.785156</td>\n",
       "      <td>-0.738770</td>\n",
       "      <td>-0.735840</td>\n",
       "      <td>-0.746582</td>\n",
       "      <td>-0.672852</td>\n",
       "      <td>-0.790527</td>\n",
       "      <td>...</td>\n",
       "      <td>0.210571</td>\n",
       "      <td>-0.110229</td>\n",
       "      <td>-0.430908</td>\n",
       "      <td>-0.706543</td>\n",
       "      <td>-0.904297</td>\n",
       "      <td>-0.935547</td>\n",
       "      <td>-0.827148</td>\n",
       "      <td>-0.668945</td>\n",
       "      <td>-0.899902</td>\n",
       "      <td>-0.925293</td>\n",
       "    </tr>\n",
       "    <tr>\n",
       "      <th>2024-12-06</th>\n",
       "      <td>-1.019531</td>\n",
       "      <td>-0.830566</td>\n",
       "      <td>-0.919434</td>\n",
       "      <td>-0.895020</td>\n",
       "      <td>-0.647461</td>\n",
       "      <td>-0.641113</td>\n",
       "      <td>-0.693848</td>\n",
       "      <td>-0.827148</td>\n",
       "      <td>-0.714844</td>\n",
       "      <td>-0.687012</td>\n",
       "      <td>...</td>\n",
       "      <td>-1.171875</td>\n",
       "      <td>-1.117188</td>\n",
       "      <td>-0.985840</td>\n",
       "      <td>-1.051758</td>\n",
       "      <td>-0.920410</td>\n",
       "      <td>-0.454102</td>\n",
       "      <td>-0.787109</td>\n",
       "      <td>-0.992676</td>\n",
       "      <td>-0.798828</td>\n",
       "      <td>-1.000977</td>\n",
       "    </tr>\n",
       "  </tbody>\n",
       "</table>\n",
       "<p>99756 rows × 420 columns</p>\n",
       "</div>"
      ],
      "text/plain": [
       "time                00:00:00  00:01:00  00:02:00  00:03:00  00:04:00  \\\n",
       "id      date                                                           \n",
       "P100300 2027-07-23 -1.032227 -1.228516 -1.724609 -1.285156 -1.505859   \n",
       "        2027-07-24 -1.708984 -1.640625 -1.583984 -1.491211 -1.425781   \n",
       "        2027-07-25 -1.099609 -0.470947 -0.899902 -0.756836 -0.743164   \n",
       "        2027-07-26 -0.788574 -0.714844 -0.714844 -0.613770 -0.871094   \n",
       "        2027-07-27 -1.075195 -1.135742 -1.245117 -1.089844 -0.705566   \n",
       "...                      ...       ...       ...       ...       ...   \n",
       "P992022 2024-12-02 -0.534668 -0.462402 -0.580078 -0.567871 -0.546387   \n",
       "        2024-12-03 -0.761719 -1.017578 -1.135742 -1.135742 -1.159180   \n",
       "        2024-12-04  0.967773  0.894043  0.925781  0.511230  0.751465   \n",
       "        2024-12-05 -0.515137 -0.583984 -0.687012 -0.883301 -0.785156   \n",
       "        2024-12-06 -1.019531 -0.830566 -0.919434 -0.895020 -0.647461   \n",
       "\n",
       "time                00:05:00  00:06:00  00:07:00  00:08:00  00:09:00  ...  \\\n",
       "id      date                                                          ...   \n",
       "P100300 2027-07-23 -1.557617 -1.608398 -1.575195 -1.586914 -1.627930  ...   \n",
       "        2027-07-24 -1.693359 -1.623047 -1.543945 -1.493164 -1.278320  ...   \n",
       "        2027-07-25 -0.871094 -0.817871 -1.002930 -1.146484 -0.869141  ...   \n",
       "        2027-07-26 -0.683105 -0.277344 -0.190430 -0.103577 -0.016617  ...   \n",
       "        2027-07-27 -1.201172 -0.967285 -0.780273 -0.765137 -0.871094  ...   \n",
       "...                      ...       ...       ...       ...       ...  ...   \n",
       "P992022 2024-12-02 -0.560547 -0.546387 -0.681152 -0.700684 -0.785156  ...   \n",
       "        2024-12-03 -1.103516 -1.177734 -1.171875 -0.956543 -0.967285  ...   \n",
       "        2024-12-04  0.852051  0.873047  0.757324  0.715332  0.955566  ...   \n",
       "        2024-12-05 -0.738770 -0.735840 -0.746582 -0.672852 -0.790527  ...   \n",
       "        2024-12-06 -0.641113 -0.693848 -0.827148 -0.714844 -0.687012  ...   \n",
       "\n",
       "time                06:50:00  06:51:00  06:52:00  06:53:00  06:54:00  \\\n",
       "id      date                                                           \n",
       "P100300 2027-07-23 -0.210083 -0.210083 -0.210083 -0.210083 -0.210083   \n",
       "        2027-07-24 -0.077881 -0.426514 -0.260498 -0.094421 -0.518555   \n",
       "        2027-07-25 -1.219727 -0.857910 -1.409180 -1.374023 -1.367188   \n",
       "        2027-07-26 -1.917969 -1.850586 -1.659180 -1.752930 -1.532227   \n",
       "        2027-07-27 -0.811035 -1.387695 -1.159180 -1.149414 -1.278320   \n",
       "...                      ...       ...       ...       ...       ...   \n",
       "P992022 2024-12-02  1.192383  0.886719  0.581543  0.275879  0.168457   \n",
       "        2024-12-03 -0.311035 -0.157593 -0.277344 -0.395264 -0.443848   \n",
       "        2024-12-04 -0.967285 -0.883301 -0.883301 -0.854980 -1.039062   \n",
       "        2024-12-05  0.210571 -0.110229 -0.430908 -0.706543 -0.904297   \n",
       "        2024-12-06 -1.171875 -1.117188 -0.985840 -1.051758 -0.920410   \n",
       "\n",
       "time                06:55:00  06:56:00  06:57:00  06:58:00  06:59:00  \n",
       "id      date                                                          \n",
       "P100300 2027-07-23 -0.210083 -0.210083 -0.210083 -0.210083 -0.210083  \n",
       "        2027-07-24 -0.415771 -0.312988 -0.210083 -0.273193 -0.325684  \n",
       "        2027-07-25 -1.177734 -1.143555 -1.163086 -1.303711 -1.319336  \n",
       "        2027-07-26 -1.750000 -0.706543 -1.556641 -1.376953 -1.486328  \n",
       "        2027-07-27 -0.872559 -0.588867 -0.735840 -0.883301 -0.967285  \n",
       "...                      ...       ...       ...       ...       ...  \n",
       "P992022 2024-12-02  0.406738  0.474854  0.305176  0.510254  0.715332  \n",
       "        2024-12-03 -0.408936 -0.234131  0.000209 -0.515137 -0.218506  \n",
       "        2024-12-04 -0.844727 -0.798828 -0.985840 -0.975586 -0.967285  \n",
       "        2024-12-05 -0.935547 -0.827148 -0.668945 -0.899902 -0.925293  \n",
       "        2024-12-06 -0.454102 -0.787109 -0.992676 -0.798828 -1.000977  \n",
       "\n",
       "[99756 rows x 420 columns]"
      ]
     },
     "metadata": {},
     "output_type": "display_data"
    },
    {
     "name": "stdout",
     "output_type": "stream",
     "text": [
      "n=11812180 ids=99756 shape=(3, 420)\n"
     ]
    },
    {
     "data": {
      "image/png": "[encoded data removed]",
      "text/plain": [
       "<Figure size 432x288 with 1 Axes>"
      ]
     },
     "metadata": {
      "needs_background": "light"
     },
     "output_type": "display_data"
    }
   ],
   "source": [
    "import h5py\n",
    "x_test=create_sequences(alltestp,seg=3,min_data_count=200)\n",
    "with h5py.File('/workspace/ssd2/x_test.h5', 'w') as f:\n",
    "     f.create_dataset('x_test',data=x_test)\n",
    "    \n",
    "    "
   ]
  },
  {
   "cell_type": "code",
   "execution_count": 12,
   "id": "f7e0ab47",
   "metadata": {
    "ExecuteTime": {
     "end_time": "2021-12-31T00:27:37.147057Z",
     "start_time": "2021-12-31T00:27:37.144777Z"
    }
   },
   "outputs": [
    {
     "name": "stdout",
     "output_type": "stream",
     "text": [
      "a\n"
     ]
    }
   ],
   "source": [
    "print('a')"
   ]
  },
  {
   "cell_type": "code",
   "execution_count": 14,
   "id": "bb74ea5e",
   "metadata": {
    "ExecuteTime": {
     "end_time": "2021-12-31T00:28:46.338722Z",
     "start_time": "2021-12-31T00:28:46.335047Z"
    }
   },
   "outputs": [],
   "source": [
    "def createAutoEncoderModel(shape):\n",
    "    model = keras.Sequential(\n",
    "        [\n",
    "            layers.Input(shape=(shape[1], shape[2])),\n",
    "            layers.Conv1D(\n",
    "                filters=32, kernel_size=7, padding=\"same\", strides=2, activation=\"relu\"\n",
    "            ),\n",
    "            layers.Dropout(rate=0.2),\n",
    "            layers.Conv1D(\n",
    "                filters=16, kernel_size=7, padding=\"same\", strides=2, activation=\"relu\"\n",
    "            ),\n",
    "            layers.Conv1DTranspose(\n",
    "                filters=16, kernel_size=7, padding=\"same\", strides=2, activation=\"relu\"\n",
    "            ),\n",
    "            layers.Dropout(rate=0.2),\n",
    "            layers.Conv1DTranspose(\n",
    "                filters=32, kernel_size=7, padding=\"same\", strides=2, activation=\"relu\"\n",
    "            ),\n",
    "            layers.Conv1DTranspose(filters=1, kernel_size=7, padding=\"same\"),\n",
    "        ]\n",
    "    )\n",
    "    model.compile(optimizer=keras.optimizers.Adam(learning_rate=0.001), loss=\"mse\")\n",
    "\n",
    "    return model\n"
   ]
  },
  {
   "cell_type": "code",
   "execution_count": null,
   "id": "318c93c9",
   "metadata": {
    "ExecuteTime": {
     "start_time": "2021-12-31T00:32:21.652Z"
    }
   },
   "outputs": [
    {
     "name": "stdout",
     "output_type": "stream",
     "text": [
      "Model: \"sequential_1\"\n",
      "_________________________________________________________________\n",
      " Layer (type)                Output Shape              Param #   \n",
      "=================================================================\n",
      " conv1d_2 (Conv1D)           (None, 630, 32)           256       \n",
      "                                                                 \n",
      " dropout_2 (Dropout)         (None, 630, 32)           0         \n",
      "                                                                 \n",
      " conv1d_3 (Conv1D)           (None, 315, 16)           3600      \n",
      "                                                                 \n",
      " conv1d_transpose_3 (Conv1DT  (None, 630, 16)          1808      \n",
      " ranspose)                                                       \n",
      "                                                                 \n",
      " dropout_3 (Dropout)         (None, 630, 16)           0         \n",
      "                                                                 \n",
      " conv1d_transpose_4 (Conv1DT  (None, 1260, 32)         3616      \n",
      " ranspose)                                                       \n",
      "                                                                 \n",
      " conv1d_transpose_5 (Conv1DT  (None, 1260, 1)          225       \n",
      " ranspose)                                                       \n",
      "                                                                 \n",
      "=================================================================\n",
      "Total params: 9,505\n",
      "Trainable params: 9,505\n",
      "Non-trainable params: 0\n",
      "_________________________________________________________________\n",
      "Epoch 1/50\n",
      "6483/6483 [==============================] - 513s 79ms/step - loss: 0.0154 - val_loss: 0.0629\n",
      "Epoch 2/50\n",
      "6483/6483 [==============================] - 533s 82ms/step - loss: 0.0053 - val_loss: 0.0825\n",
      "Epoch 3/50\n",
      "2985/6483 [============>.................] - ETA: 4:41 - loss: 0.0045"
     ]
    }
   ],
   "source": [
    "model = createAutoEncoderModel(x_train.shape)\n",
    "\n",
    "model.summary()\n",
    "history = model.fit(\n",
    "    x_train,\n",
    "    x_train,\n",
    "    epochs=50,\n",
    "    batch_size=128,\n",
    "    validation_split=0.1,\n",
    "    callbacks=[\n",
    "        keras.callbacks.EarlyStopping(monitor=\"val_loss\", patience=5, mode=\"min\")\n",
    "    ],\n",
    ")\n",
    "model.save(f'ali/an_data/model-all-{seg}.h5')"
   ]
  },
  {
   "cell_type": "code",
   "execution_count": 39,
   "id": "f6b0ade2",
   "metadata": {
    "ExecuteTime": {
     "end_time": "2021-12-31T09:31:31.428714Z",
     "start_time": "2021-12-31T09:28:02.111788Z"
    }
   },
   "outputs": [],
   "source": [
    "x_train_pred = model.predict(x_train).astype(np.float16)\n"
   ]
  },
  {
   "cell_type": "code",
   "execution_count": 49,
   "id": "29b4f0d3",
   "metadata": {
    "ExecuteTime": {
     "end_time": "2021-12-31T09:37:43.582835Z",
     "start_time": "2021-12-31T09:37:43.578353Z"
    }
   },
   "outputs": [
    {
     "name": "stdout",
     "output_type": "stream",
     "text": [
      "                train_mae_loss:  1.8 MiB\n",
      "                           _i5:  1.4 KiB\n",
      "                           _i7:  1.2 KiB\n",
      "                StandardScaler:  1.0 KiB\n",
      "                          _i14:  987.0 B\n",
      "               NamespaceMagics:  896.0 B\n",
      "                          _i34:  587.0 B\n",
      "                          _i37:  587.0 B\n",
      "                           _ii:  562.0 B\n",
      "                          _i42:  562.0 B\n"
     ]
    }
   ],
   "source": [
    "import sys\n",
    "def sizeof_fmt(num, suffix='B'):\n",
    "    ''' by Fred Cirera,  https://stackoverflow.com/a/1094933/1870254, modified'''\n",
    "    for unit in ['','Ki','Mi','Gi','Ti','Pi','Ei','Zi']:\n",
    "        if abs(num) < 1024.0:\n",
    "            return \"%3.1f %s%s\" % (num, unit, suffix)\n",
    "        num /= 1024.0\n",
    "    return \"%.1f %s%s\" % (num, 'Yi', suffix)\n",
    "\n",
    "for name, size in sorted(((name, sys.getsizeof(value)) for name, value in locals().items()), key= lambda x: -x[1])[:10]:\n",
    "    print(\"{:>30}: {:>8}\".format(name, sizeof_fmt(size)))"
   ]
  },
  {
   "cell_type": "code",
   "execution_count": 54,
   "id": "ff0bff00",
   "metadata": {
    "ExecuteTime": {
     "end_time": "2021-12-31T09:39:37.844966Z",
     "start_time": "2021-12-31T09:39:37.807470Z"
    }
   },
   "outputs": [],
   "source": [
    "model.save(f'model-all-{seg}.h5')"
   ]
  },
  {
   "cell_type": "code",
   "execution_count": 57,
   "id": "36865477",
   "metadata": {
    "ExecuteTime": {
     "end_time": "2021-12-31T09:41:04.410991Z",
     "start_time": "2021-12-31T09:41:04.407133Z"
    }
   },
   "outputs": [],
   "source": [
    "import h5py\n",
    "with h5py.File('/workspace/ssd2/train_mae_loss.h5', 'w') as f:\n",
    "    f.create_dataset('train_mae_loss',data=train_mae_loss)\n"
   ]
  },
  {
   "cell_type": "code",
   "execution_count": 2,
   "id": "d9f82af1",
   "metadata": {
    "ExecuteTime": {
     "end_time": "2021-12-31T10:07:35.598189Z",
     "start_time": "2021-12-31T10:07:35.474600Z"
    }
   },
   "outputs": [],
   "source": [
    "seg=3\n",
    "model=keras.models.load_model(f'ali/an_data/model-all-{seg}.h5')"
   ]
  },
  {
   "cell_type": "code",
   "execution_count": 16,
   "id": "e5e53a57",
   "metadata": {
    "ExecuteTime": {
     "end_time": "2021-12-31T10:06:55.876464Z",
     "start_time": "2021-12-31T10:06:55.868091Z"
    }
   },
   "outputs": [
    {
     "ename": "NameError",
     "evalue": "name 'x_test2' is not defined",
     "output_type": "error",
     "traceback": [
      "\u001b[0;31m---------------------------------------------------------------------------\u001b[0m",
      "\u001b[0;31mNameError\u001b[0m                                 Traceback (most recent call last)",
      "\u001b[0;32m<ipython-input-16-b098f1bc1c1f>\u001b[0m in \u001b[0;36m<module>\u001b[0;34m\u001b[0m\n\u001b[0;32m----> 1\u001b[0;31m \u001b[0;32mdel\u001b[0m \u001b[0mx_test2\u001b[0m\u001b[0;34m\u001b[0m\u001b[0;34m\u001b[0m\u001b[0m\n\u001b[0m\u001b[1;32m      2\u001b[0m \u001b[0;32mimport\u001b[0m \u001b[0mgc\u001b[0m\u001b[0;34m\u001b[0m\u001b[0;34m\u001b[0m\u001b[0m\n\u001b[1;32m      3\u001b[0m \u001b[0mgc\u001b[0m\u001b[0;34m.\u001b[0m\u001b[0mcollect\u001b[0m\u001b[0;34m(\u001b[0m\u001b[0;34m)\u001b[0m\u001b[0;34m\u001b[0m\u001b[0;34m\u001b[0m\u001b[0m\n",
      "\u001b[0;31mNameError\u001b[0m: name 'x_test2' is not defined"
     ]
    }
   ],
   "source": [
    "del x_test2\n",
    "import gc\n",
    "gc.collect()"
   ]
  },
  {
   "cell_type": "code",
   "execution_count": 3,
   "id": "0abf7897",
   "metadata": {
    "ExecuteTime": {
     "end_time": "2021-12-31T10:07:46.518399Z",
     "start_time": "2021-12-31T10:07:40.541397Z"
    }
   },
   "outputs": [],
   "source": [
    "import h5py\n",
    "\n",
    "x_test2=h5py.File('/workspace/ssd2/x_test.h5','r')['x_test'][0:1000000]"
   ]
  },
  {
   "cell_type": "code",
   "execution_count": 5,
   "id": "bd506883",
   "metadata": {
    "ExecuteTime": {
     "end_time": "2021-12-31T10:08:04.790442Z",
     "start_time": "2021-12-31T10:08:04.782208Z"
    }
   },
   "outputs": [],
   "source": [
    "train_mae_loss=h5py.File('/workspace/ssd2/train_mae_loss.h5','r')['train_mae_loss'][:]"
   ]
  },
  {
   "cell_type": "code",
   "execution_count": 40,
   "id": "0c6f6e78",
   "metadata": {
    "ExecuteTime": {
     "end_time": "2021-12-31T09:33:34.756636Z",
     "start_time": "2021-12-31T09:33:20.898635Z"
    }
   },
   "outputs": [
    {
     "data": {
      "image/png": "[encoded data removed]",
      "text/plain": [
       "<Figure size 432x288 with 1 Axes>"
      ]
     },
     "metadata": {
      "needs_background": "light"
     },
     "output_type": "display_data"
    },
    {
     "data": {
      "image/png": "[encoded data removed]",
      "text/plain": [
       "<Figure size 432x288 with 1 Axes>"
      ]
     },
     "metadata": {
      "needs_background": "light"
     },
     "output_type": "display_data"
    }
   ],
   "source": [
    "plt.plot(history.history[\"loss\"], label=\"Training Loss\")\n",
    "plt.plot(history.history[\"val_loss\"], label=\"Validation Loss\")\n",
    "plt.legend()\n",
    "plt.show()\n",
    "\n",
    "# Get train MAE loss.\n",
    "# x_train_pred = model.predict(x_train).astype(np.float16)\n",
    "train_mae_loss = np.mean(np.abs(x_train_pred - x_train), axis=1)\n",
    "\n",
    "plt.hist(train_mae_loss, bins=50)\n",
    "plt.xlabel(\"Train MAE loss\")\n",
    "plt.ylabel(\"No of samples\")\n",
    "plt.show()"
   ]
  },
  {
   "cell_type": "code",
   "execution_count": null,
   "id": "f0e66329",
   "metadata": {
    "ExecuteTime": {
     "end_time": "2021-12-31T09:16:20.728982Z",
     "start_time": "2021-12-31T09:10:20.885Z"
    }
   },
   "outputs": [],
   "source": [
    "plt.plot(x_train[0])\n",
    "plt.plot(x_train_pred[0])\n",
    "plt.show()"
   ]
  },
  {
   "cell_type": "code",
   "execution_count": 6,
   "id": "cc933c98",
   "metadata": {
    "ExecuteTime": {
     "end_time": "2021-12-31T10:11:44.752178Z",
     "start_time": "2021-12-31T10:08:09.265631Z"
    }
   },
   "outputs": [
    {
     "name": "stdout",
     "output_type": "stream",
     "text": [
      "Reconstruction error threshold:  1.086\n"
     ]
    },
    {
     "data": {
      "image/png": "[encoded data removed]",
      "text/plain": [
       "<Figure size 432x288 with 1 Axes>"
      ]
     },
     "metadata": {
      "needs_background": "light"
     },
     "output_type": "display_data"
    },
    {
     "name": "stdout",
     "output_type": "stream",
     "text": [
      "Number of anomaly samples:  666397\n",
      "Indices of anomaly samples:  (array([     4,     13,     14, ..., 999997, 999998, 999999]),)\n"
     ]
    }
   ],
   "source": [
    "# Get reconstruction loss threshold.\n",
    "threshold = np.max(train_mae_loss)\n",
    "print(\"Reconstruction error threshold: \", threshold)\n",
    "\n",
    "# fig, ax = plt.subplots()\n",
    "# test.plot(legend=False, ax=ax)\n",
    "# plt.show()\n",
    "x_test=x_test2[0:1000000]\n",
    "# Create sequences from test values.\n",
    "# x_test = create_sequences(testp, seg=seg, resolution=resolution)\n",
    "# print(\"Test input shape: \", x_test.shape)\n",
    "\n",
    "# Get test MAE loss.\n",
    "x_test_pred = model.predict(x_test).astype(np.float16)\n",
    "test_mae_loss = np.mean(np.abs(x_test_pred - x_test), axis=1)\n",
    "test_mae_loss = test_mae_loss.reshape((-1))\n",
    "\n",
    "plt.hist(test_mae_loss, bins=50)\n",
    "plt.xlabel(\"test MAE loss\")\n",
    "plt.ylabel(\"No of samples\")\n",
    "plt.show()\n",
    "\n",
    "# Detect all the samples which are anomalies.\n",
    "anomalies = test_mae_loss > threshold\n",
    "print(\"Number of anomaly samples: \", np.sum(anomalies))\n",
    "print(\"Indices of anomaly samples: \", np.where(anomalies))\n"
   ]
  },
  {
   "cell_type": "code",
   "execution_count": 8,
   "id": "532c6be2",
   "metadata": {
    "ExecuteTime": {
     "end_time": "2021-12-17T15:31:59.323392Z",
     "start_time": "2021-12-17T15:31:58.286094Z"
    }
   },
   "outputs": [
    {
     "data": {
      "image/png": "[encoded data removed]",
      "text/plain": [
       "<Figure size 1080x288 with 1 Axes>"
      ]
     },
     "metadata": {
      "needs_background": "light"
     },
     "output_type": "display_data"
    },
    {
     "data": {
      "image/png": "[encoded data removed]",
      "text/plain": [
       "<Figure size 1152x180 with 1 Axes>"
      ]
     },
     "metadata": {
      "needs_background": "light"
     },
     "output_type": "display_data"
    },
    {
     "name": "stdout",
     "output_type": "stream",
     "text": [
      "                      heartrate\n",
      "datetime                       \n",
      "2027-10-17 06:13:00   69.111111\n",
      "2027-10-18 04:47:00   60.636364\n",
      "2027-10-26 06:44:00   79.428571\n",
      "2027-10-26 06:45:00   78.800000\n",
      "2027-10-26 06:46:00   81.666667\n",
      "2027-10-26 06:47:00   82.166667\n",
      "2027-10-26 06:48:00   97.250000\n",
      "2027-10-26 06:49:00   96.500000\n",
      "2027-10-26 06:53:00  109.200000\n",
      "2027-10-26 06:55:00   98.555556\n"
     ]
    }
   ],
   "source": [
    "df_subset = test.iloc[np.where(anomalies)]\n",
    "fig, ax = plt.subplots()\n",
    "fig.set_figwidth(15)\n",
    "\n",
    "test.plot(legend=False, ax=ax)\n",
    "df_subset.plot(legend=False, ax=ax, color=\"r\")\n",
    "\n",
    "if(info['covid_test_date']!=None):\n",
    "        plt.axvspan(info['covid_test_date'], min(test.index[-1], info['covid_test_date']+pd.to_timedelta('7d')), facecolor='red', alpha=0.25, label='Covid')\n",
    "        plt.axvspan(info['covid_test_date'], max(test.index[1], info['covid_test_date']-pd.to_timedelta('7d')), facecolor='yellow', alpha=0.25, label='Covid')\n",
    "plt.show()\n",
    "\n",
    "\n",
    "\n",
    "dates = test.iloc[np.where(anomalies)].resample('1D').count().fillna(0).rename(columns={'heartrate': 'count'})\n",
    "\n",
    "dates['alarm'] = (dates['count'] > 0)*2\n",
    "# return dates\n",
    "ali.ui.plot(rhr,alerts=dates,info=info,show=True)\n",
    "print(test.iloc[np.where(anomalies)])"
   ]
  }
 ],
 "metadata": {
  "kernelspec": {
   "display_name": "Python 3",
   "language": "python",
   "name": "python3"
  },
  "language_info": {
   "codemirror_mode": {
    "name": "ipython",
    "version": 3
   },
   "file_extension": ".py",
   "mimetype": "text/x-python",
   "name": "python",
   "nbconvert_exporter": "python",
   "pygments_lexer": "ipython3",
   "version": "3.8.10"
  },
  "toc": {
   "base_numbering": 1,
   "nav_menu": {},
   "number_sections": false,
   "sideBar": true,
   "skip_h1_title": false,
   "title_cell": "Table of Contents",
   "title_sidebar": "Contents",
   "toc_cell": false,
   "toc_position": {},
   "toc_section_display": true,
   "toc_window_display": false
  },
  "varInspector": {
   "cols": {
    "lenName": 16,
    "lenType": 16,
    "lenVar": 40
   },
   "kernels_config": {
    "python": {
     "delete_cmd_postfix": "",
     "delete_cmd_prefix": "del ",
     "library": "var_list.py",
     "varRefreshCmd": "print(var_dic_list())"
    },
    "r": {
     "delete_cmd_postfix": ") ",
     "delete_cmd_prefix": "rm(",
     "library": "var_list.r",
     "varRefreshCmd": "cat(var_dic_list()) "
    }
   },
   "position": {
    "height": "268.841px",
    "left": "921.818px",
    "right": "20px",
    "top": "113px",
    "width": "299px"
   },
   "types_to_exclude": [
    "module",
    "function",
    "builtin_function_or_method",
    "instance",
    "_Feature"
   ],
   "window_display": true
  }
 },
 "nbformat": 4,
 "nbformat_minor": 5
}
