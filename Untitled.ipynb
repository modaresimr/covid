{
 "cells": [
  {
   "cell_type": "code",
   "execution_count": null,
   "id": "bf17878d",
   "metadata": {
    "ExecuteTime": {
     "end_time": "2021-12-12T23:16:22.588784Z",
     "start_time": "2021-12-12T23:07:19.239195Z"
    }
   },
   "outputs": [],
   "source": [
    "### %matplotlib inline\n",
    "import pandas as pd\n",
    "from IPython.display import Image\n",
    "\n",
    "import importlib\n",
    "import ali.methods\n",
    "import ali.ui\n",
    "import ali.eval\n",
    "import ali.multi_run\n",
    "\n",
    "importlib.reload(ali.methods)\n",
    "importlib.reload(ali.ui)\n",
    "importlib.reload(ali.eval)\n",
    "importlib.reload(ali.multi_run)\n",
    "\n",
    "args = {\n",
    "#     'methods' : [\n",
    "#         'if',#'isolationforest',\n",
    "#         'nightsignal',\n",
    "#         'ns_orig',\n",
    "#         'alisignal_60',\n",
    "#         'random',\n",
    "#         'CuSum',\n",
    "#         'use-all'   \n",
    "#     ],\n",
    "    'methods' : [f'alisignal_{seg:3.0f}' for seg in range(30,7*60,30)],\n",
    "    'parallel':1,\n",
    "    'debug': 1,\n",
    "    'show_exception':1,\n",
    "    'only_positive':1,\n",
    "#     'only_device':'AppleWatch'\n",
    "\n",
    "}\n",
    "\n",
    "\n",
    "ali.multi_run.run(args)\n",
    "\"finished\""
   ]
  },
  {
   "cell_type": "code",
   "execution_count": 13,
   "id": "049f198f",
   "metadata": {
    "ExecuteTime": {
     "end_time": "2021-12-12T22:21:47.475927Z",
     "start_time": "2021-12-12T22:21:47.447079Z"
    }
   },
   "outputs": [],
   "source": [
    "hr,step,rhr,info=ali.methods.load('P678649')"
   ]
  },
  {
   "cell_type": "code",
   "execution_count": 45,
   "id": "ae288b74",
   "metadata": {
    "ExecuteTime": {
     "end_time": "2021-12-12T22:29:50.858245Z",
     "start_time": "2021-12-12T22:29:50.850247Z"
    }
   },
   "outputs": [
    {
     "data": {
      "text/html": [
       "<div>\n",
       "<style scoped>\n",
       "    .dataframe tbody tr th:only-of-type {\n",
       "        vertical-align: middle;\n",
       "    }\n",
       "\n",
       "    .dataframe tbody tr th {\n",
       "        vertical-align: top;\n",
       "    }\n",
       "\n",
       "    .dataframe thead th {\n",
       "        text-align: right;\n",
       "    }\n",
       "</style>\n",
       "<table border=\"1\" class=\"dataframe\">\n",
       "  <thead>\n",
       "    <tr style=\"text-align: right;\">\n",
       "      <th></th>\n",
       "      <th>heartrate</th>\n",
       "    </tr>\n",
       "    <tr>\n",
       "      <th>datetime</th>\n",
       "      <th></th>\n",
       "    </tr>\n",
       "  </thead>\n",
       "  <tbody>\n",
       "    <tr>\n",
       "      <th>2024-01-27</th>\n",
       "      <td>81.5</td>\n",
       "    </tr>\n",
       "  </tbody>\n",
       "</table>\n",
       "</div>"
      ],
      "text/plain": [
       "            heartrate\n",
       "datetime             \n",
       "2024-01-27       81.5"
      ]
     },
     "execution_count": 45,
     "metadata": {},
     "output_type": "execute_result"
    }
   ],
   "source": [
    "rhr#.resample('1D').mean().dropna().round(0).astype(int)\n",
    "rhr.loc[(rhr.index.day==27) & (rhr.index.month==1)].astype(int).resample('1D').mean()"
   ]
  },
  {
   "cell_type": "code",
   "execution_count": 15,
   "id": "aaecfe29",
   "metadata": {
    "ExecuteTime": {
     "end_time": "2021-12-12T18:09:54.429442Z",
     "start_time": "2021-12-12T18:09:43.081136Z"
    },
    "scrolled": true
   },
   "outputs": [
    {
     "name": "stdout",
     "output_type": "stream",
     "text": [
      "P476443\n",
      "P851598\n",
      "P261190\n",
      "P111019\n",
      "P214671\n",
      "P992022\n",
      "P477816\n",
      "P262255\n",
      "P476514\n",
      "P319777\n",
      "P760409\n",
      "P954010\n",
      "P516467\n",
      "P799237\n",
      "P219455\n",
      "P549078\n",
      "P196430\n",
      "P682517\n",
      "P608324\n",
      "P885171\n",
      "P271946\n",
      "P401732\n",
      "P469946\n",
      "P148618\n",
      "eval.csv\n",
      "id=eval.csv [Errno 20] Not a directory: 'output/my/eval.csv/alarm.csv'\n",
      "P330232\n",
      "P110465\n",
      "P759795\n"
     ]
    },
    {
     "name": "stderr",
     "output_type": "stream",
     "text": [
      "Traceback (most recent call last):\n",
      "  File \"/workspace/COVID/ali/new_method.py\", line 79, in reEvalAll\n",
      "    alarms = pd.read_csv(f'output/my/{id}/alarm.csv').fillna(0)\n",
      "  File \"/opt/conda/lib/python3.8/site-packages/pandas/io/parsers.py\", line 610, in read_csv\n",
      "    return _read(filepath_or_buffer, kwds)\n",
      "  File \"/opt/conda/lib/python3.8/site-packages/pandas/io/parsers.py\", line 462, in _read\n",
      "    parser = TextFileReader(filepath_or_buffer, **kwds)\n",
      "  File \"/opt/conda/lib/python3.8/site-packages/pandas/io/parsers.py\", line 819, in __init__\n",
      "    self._engine = self._make_engine(self.engine)\n",
      "  File \"/opt/conda/lib/python3.8/site-packages/pandas/io/parsers.py\", line 1050, in _make_engine\n",
      "    return mapping[engine](self.f, **self.options)  # type: ignore[call-arg]\n",
      "  File \"/opt/conda/lib/python3.8/site-packages/pandas/io/parsers.py\", line 1867, in __init__\n",
      "    self._open_handles(src, kwds)\n",
      "  File \"/opt/conda/lib/python3.8/site-packages/pandas/io/parsers.py\", line 1362, in _open_handles\n",
      "    self.handles = get_handle(\n",
      "  File \"/opt/conda/lib/python3.8/site-packages/pandas/io/common.py\", line 647, in get_handle\n",
      "    handle = open(\n",
      "NotADirectoryError: [Errno 20] Not a directory: 'output/my/eval.csv/alarm.csv'\n"
     ]
    },
    {
     "name": "stdout",
     "output_type": "stream",
     "text": [
      "P279697\n",
      "P308755\n",
      "P469888\n",
      "P839431\n",
      "P662924\n",
      "P511540\n",
      "P612886\n",
      "P182427\n",
      "P530788\n",
      "P723676\n",
      "P854837\n",
      "P708653\n",
      "P723961\n",
      "P426746\n",
      "P230742\n",
      "P442730\n",
      "P355472\n",
      "P543995\n",
      "P206998\n",
      "P328945\n",
      "P584112\n",
      "P706971\n",
      "P533807\n",
      "P277912\n",
      "P219295\n",
      "P625831\n",
      "P678649\n",
      "id=P678649 [Errno 2] No such file or directory: 'output/my/P678649/alarm.csv'\n",
      "P749288\n",
      "P763925\n"
     ]
    },
    {
     "name": "stderr",
     "output_type": "stream",
     "text": [
      "Traceback (most recent call last):\n",
      "  File \"/workspace/COVID/ali/new_method.py\", line 79, in reEvalAll\n",
      "    alarms = pd.read_csv(f'output/my/{id}/alarm.csv').fillna(0)\n",
      "  File \"/opt/conda/lib/python3.8/site-packages/pandas/io/parsers.py\", line 610, in read_csv\n",
      "    return _read(filepath_or_buffer, kwds)\n",
      "  File \"/opt/conda/lib/python3.8/site-packages/pandas/io/parsers.py\", line 462, in _read\n",
      "    parser = TextFileReader(filepath_or_buffer, **kwds)\n",
      "  File \"/opt/conda/lib/python3.8/site-packages/pandas/io/parsers.py\", line 819, in __init__\n",
      "    self._engine = self._make_engine(self.engine)\n",
      "  File \"/opt/conda/lib/python3.8/site-packages/pandas/io/parsers.py\", line 1050, in _make_engine\n",
      "    return mapping[engine](self.f, **self.options)  # type: ignore[call-arg]\n",
      "  File \"/opt/conda/lib/python3.8/site-packages/pandas/io/parsers.py\", line 1867, in __init__\n",
      "    self._open_handles(src, kwds)\n",
      "  File \"/opt/conda/lib/python3.8/site-packages/pandas/io/parsers.py\", line 1362, in _open_handles\n",
      "    self.handles = get_handle(\n",
      "  File \"/opt/conda/lib/python3.8/site-packages/pandas/io/common.py\", line 647, in get_handle\n",
      "    handle = open(\n",
      "FileNotFoundError: [Errno 2] No such file or directory: 'output/my/P678649/alarm.csv'\n"
     ]
    },
    {
     "name": "stdout",
     "output_type": "stream",
     "text": [
      "P320539\n",
      "P333074\n",
      "P430757\n",
      "P292181\n",
      "P693795\n",
      "P741171\n",
      "P631814\n",
      "P305571\n",
      "P819867\n",
      "P209134\n",
      "P203215\n",
      "P662021\n",
      "P508925\n",
      "P389953\n",
      "P564090\n",
      "P885343\n",
      "P754260\n",
      "P395188\n",
      "P542912\n",
      "P500432\n",
      "P259158\n",
      "P249349\n",
      "P323003\n",
      "P167406\n",
      "P310300\n",
      "id=P310300 [Errno 2] No such file or directory: 'output/my/P310300/alarm.csv'\n",
      "P726139\n"
     ]
    },
    {
     "name": "stderr",
     "output_type": "stream",
     "text": [
      "Traceback (most recent call last):\n",
      "  File \"/workspace/COVID/ali/new_method.py\", line 79, in reEvalAll\n",
      "    alarms = pd.read_csv(f'output/my/{id}/alarm.csv').fillna(0)\n",
      "  File \"/opt/conda/lib/python3.8/site-packages/pandas/io/parsers.py\", line 610, in read_csv\n",
      "    return _read(filepath_or_buffer, kwds)\n",
      "  File \"/opt/conda/lib/python3.8/site-packages/pandas/io/parsers.py\", line 462, in _read\n",
      "    parser = TextFileReader(filepath_or_buffer, **kwds)\n",
      "  File \"/opt/conda/lib/python3.8/site-packages/pandas/io/parsers.py\", line 819, in __init__\n",
      "    self._engine = self._make_engine(self.engine)\n",
      "  File \"/opt/conda/lib/python3.8/site-packages/pandas/io/parsers.py\", line 1050, in _make_engine\n",
      "    return mapping[engine](self.f, **self.options)  # type: ignore[call-arg]\n",
      "  File \"/opt/conda/lib/python3.8/site-packages/pandas/io/parsers.py\", line 1867, in __init__\n",
      "    self._open_handles(src, kwds)\n",
      "  File \"/opt/conda/lib/python3.8/site-packages/pandas/io/parsers.py\", line 1362, in _open_handles\n",
      "    self.handles = get_handle(\n",
      "  File \"/opt/conda/lib/python3.8/site-packages/pandas/io/common.py\", line 647, in get_handle\n",
      "    handle = open(\n",
      "FileNotFoundError: [Errno 2] No such file or directory: 'output/my/P310300/alarm.csv'\n"
     ]
    },
    {
     "name": "stdout",
     "output_type": "stream",
     "text": [
      "P635568\n",
      "P256033\n",
      "id=eval.csv [Errno 20] Not a directory: 'output/my/eval.csv/eval.csv'\n",
      "id=P678649 [Errno 2] No such file or directory: 'output/my/P678649/eval.csv'\n",
      "id=P310300 [Errno 2] No such file or directory: 'output/my/P310300/eval.csv'\n"
     ]
    },
    {
     "name": "stderr",
     "output_type": "stream",
     "text": [
      "Traceback (most recent call last):\n",
      "  File \"/workspace/COVID/ali/new_method.py\", line 56, in evalAll\n",
      "    eval = pd.read_csv(f'output/my/{id}/eval.csv',index_col=0).fillna(0)\n",
      "  File \"/opt/conda/lib/python3.8/site-packages/pandas/io/parsers.py\", line 610, in read_csv\n",
      "    return _read(filepath_or_buffer, kwds)\n",
      "  File \"/opt/conda/lib/python3.8/site-packages/pandas/io/parsers.py\", line 462, in _read\n",
      "    parser = TextFileReader(filepath_or_buffer, **kwds)\n",
      "  File \"/opt/conda/lib/python3.8/site-packages/pandas/io/parsers.py\", line 819, in __init__\n",
      "    self._engine = self._make_engine(self.engine)\n",
      "  File \"/opt/conda/lib/python3.8/site-packages/pandas/io/parsers.py\", line 1050, in _make_engine\n",
      "    return mapping[engine](self.f, **self.options)  # type: ignore[call-arg]\n",
      "  File \"/opt/conda/lib/python3.8/site-packages/pandas/io/parsers.py\", line 1867, in __init__\n",
      "    self._open_handles(src, kwds)\n",
      "  File \"/opt/conda/lib/python3.8/site-packages/pandas/io/parsers.py\", line 1362, in _open_handles\n",
      "    self.handles = get_handle(\n",
      "  File \"/opt/conda/lib/python3.8/site-packages/pandas/io/common.py\", line 647, in get_handle\n",
      "    handle = open(\n",
      "NotADirectoryError: [Errno 20] Not a directory: 'output/my/eval.csv/eval.csv'\n",
      "Traceback (most recent call last):\n",
      "  File \"/workspace/COVID/ali/new_method.py\", line 56, in evalAll\n",
      "    eval = pd.read_csv(f'output/my/{id}/eval.csv',index_col=0).fillna(0)\n",
      "  File \"/opt/conda/lib/python3.8/site-packages/pandas/io/parsers.py\", line 610, in read_csv\n",
      "    return _read(filepath_or_buffer, kwds)\n",
      "  File \"/opt/conda/lib/python3.8/site-packages/pandas/io/parsers.py\", line 462, in _read\n",
      "    parser = TextFileReader(filepath_or_buffer, **kwds)\n",
      "  File \"/opt/conda/lib/python3.8/site-packages/pandas/io/parsers.py\", line 819, in __init__\n",
      "    self._engine = self._make_engine(self.engine)\n",
      "  File \"/opt/conda/lib/python3.8/site-packages/pandas/io/parsers.py\", line 1050, in _make_engine\n",
      "    return mapping[engine](self.f, **self.options)  # type: ignore[call-arg]\n",
      "  File \"/opt/conda/lib/python3.8/site-packages/pandas/io/parsers.py\", line 1867, in __init__\n",
      "    self._open_handles(src, kwds)\n",
      "  File \"/opt/conda/lib/python3.8/site-packages/pandas/io/parsers.py\", line 1362, in _open_handles\n",
      "    self.handles = get_handle(\n",
      "  File \"/opt/conda/lib/python3.8/site-packages/pandas/io/common.py\", line 647, in get_handle\n",
      "    handle = open(\n",
      "FileNotFoundError: [Errno 2] No such file or directory: 'output/my/P678649/eval.csv'\n",
      "Traceback (most recent call last):\n",
      "  File \"/workspace/COVID/ali/new_method.py\", line 56, in evalAll\n",
      "    eval = pd.read_csv(f'output/my/{id}/eval.csv',index_col=0).fillna(0)\n",
      "  File \"/opt/conda/lib/python3.8/site-packages/pandas/io/parsers.py\", line 610, in read_csv\n",
      "    return _read(filepath_or_buffer, kwds)\n",
      "  File \"/opt/conda/lib/python3.8/site-packages/pandas/io/parsers.py\", line 462, in _read\n",
      "    parser = TextFileReader(filepath_or_buffer, **kwds)\n",
      "  File \"/opt/conda/lib/python3.8/site-packages/pandas/io/parsers.py\", line 819, in __init__\n",
      "    self._engine = self._make_engine(self.engine)\n",
      "  File \"/opt/conda/lib/python3.8/site-packages/pandas/io/parsers.py\", line 1050, in _make_engine\n",
      "    return mapping[engine](self.f, **self.options)  # type: ignore[call-arg]\n",
      "  File \"/opt/conda/lib/python3.8/site-packages/pandas/io/parsers.py\", line 1867, in __init__\n",
      "    self._open_handles(src, kwds)\n",
      "  File \"/opt/conda/lib/python3.8/site-packages/pandas/io/parsers.py\", line 1362, in _open_handles\n",
      "    self.handles = get_handle(\n",
      "  File \"/opt/conda/lib/python3.8/site-packages/pandas/io/common.py\", line 647, in get_handle\n",
      "    handle = open(\n",
      "FileNotFoundError: [Errno 2] No such file or directory: 'output/my/P310300/eval.csv'\n"
     ]
    },
    {
     "data": {
      "text/html": [
       "<div>\n",
       "<style scoped>\n",
       "    .dataframe tbody tr th:only-of-type {\n",
       "        vertical-align: middle;\n",
       "    }\n",
       "\n",
       "    .dataframe tbody tr th {\n",
       "        vertical-align: top;\n",
       "    }\n",
       "\n",
       "    .dataframe thead th {\n",
       "        text-align: right;\n",
       "    }\n",
       "</style>\n",
       "<table border=\"1\" class=\"dataframe\">\n",
       "  <thead>\n",
       "    <tr style=\"text-align: right;\">\n",
       "      <th></th>\n",
       "      <th>tp_my</th>\n",
       "      <th>fn_my</th>\n",
       "      <th>fp_my</th>\n",
       "      <th>tn_my</th>\n",
       "      <th>tp_nature</th>\n",
       "      <th>fn_nature</th>\n",
       "      <th>fp_nature</th>\n",
       "      <th>tn_nature</th>\n",
       "      <th>tp_rate</th>\n",
       "      <th>tn_rate</th>\n",
       "    </tr>\n",
       "  </thead>\n",
       "  <tbody>\n",
       "    <tr>\n",
       "      <th>CuSum</th>\n",
       "      <td>13.0</td>\n",
       "      <td>66.0</td>\n",
       "      <td>46.0</td>\n",
       "      <td>33.0</td>\n",
       "      <td>13.0</td>\n",
       "      <td>66.0</td>\n",
       "      <td>288.0</td>\n",
       "      <td>10313.0</td>\n",
       "      <td>0.164557</td>\n",
       "      <td>0.972833</td>\n",
       "    </tr>\n",
       "    <tr>\n",
       "      <th>alisignal</th>\n",
       "      <td>34.0</td>\n",
       "      <td>48.0</td>\n",
       "      <td>62.0</td>\n",
       "      <td>20.0</td>\n",
       "      <td>34.0</td>\n",
       "      <td>48.0</td>\n",
       "      <td>1697.0</td>\n",
       "      <td>9167.0</td>\n",
       "      <td>0.414634</td>\n",
       "      <td>0.843796</td>\n",
       "    </tr>\n",
       "    <tr>\n",
       "      <th>if</th>\n",
       "      <td>40.0</td>\n",
       "      <td>38.0</td>\n",
       "      <td>75.0</td>\n",
       "      <td>3.0</td>\n",
       "      <td>40.0</td>\n",
       "      <td>38.0</td>\n",
       "      <td>846.0</td>\n",
       "      <td>9629.0</td>\n",
       "      <td>0.512821</td>\n",
       "      <td>0.919236</td>\n",
       "    </tr>\n",
       "    <tr>\n",
       "      <th>nightsignal</th>\n",
       "      <td>38.0</td>\n",
       "      <td>40.0</td>\n",
       "      <td>74.0</td>\n",
       "      <td>4.0</td>\n",
       "      <td>38.0</td>\n",
       "      <td>40.0</td>\n",
       "      <td>1077.0</td>\n",
       "      <td>9398.0</td>\n",
       "      <td>0.487179</td>\n",
       "      <td>0.897184</td>\n",
       "    </tr>\n",
       "    <tr>\n",
       "      <th>ns_orig</th>\n",
       "      <td>41.0</td>\n",
       "      <td>37.0</td>\n",
       "      <td>72.0</td>\n",
       "      <td>6.0</td>\n",
       "      <td>41.0</td>\n",
       "      <td>37.0</td>\n",
       "      <td>1071.0</td>\n",
       "      <td>9404.0</td>\n",
       "      <td>0.525641</td>\n",
       "      <td>0.897757</td>\n",
       "    </tr>\n",
       "    <tr>\n",
       "      <th>random</th>\n",
       "      <td>56.0</td>\n",
       "      <td>22.0</td>\n",
       "      <td>77.0</td>\n",
       "      <td>1.0</td>\n",
       "      <td>56.0</td>\n",
       "      <td>22.0</td>\n",
       "      <td>1305.0</td>\n",
       "      <td>9170.0</td>\n",
       "      <td>0.717949</td>\n",
       "      <td>0.875418</td>\n",
       "    </tr>\n",
       "    <tr>\n",
       "      <th>use-all</th>\n",
       "      <td>36.0</td>\n",
       "      <td>42.0</td>\n",
       "      <td>74.0</td>\n",
       "      <td>4.0</td>\n",
       "      <td>36.0</td>\n",
       "      <td>42.0</td>\n",
       "      <td>789.0</td>\n",
       "      <td>9686.0</td>\n",
       "      <td>0.461538</td>\n",
       "      <td>0.924678</td>\n",
       "    </tr>\n",
       "  </tbody>\n",
       "</table>\n",
       "</div>"
      ],
      "text/plain": [
       "             tp_my  fn_my  fp_my  tn_my  tp_nature  fn_nature  fp_nature  \\\n",
       "CuSum         13.0   66.0   46.0   33.0       13.0       66.0      288.0   \n",
       "alisignal     34.0   48.0   62.0   20.0       34.0       48.0     1697.0   \n",
       "if            40.0   38.0   75.0    3.0       40.0       38.0      846.0   \n",
       "nightsignal   38.0   40.0   74.0    4.0       38.0       40.0     1077.0   \n",
       "ns_orig       41.0   37.0   72.0    6.0       41.0       37.0     1071.0   \n",
       "random        56.0   22.0   77.0    1.0       56.0       22.0     1305.0   \n",
       "use-all       36.0   42.0   74.0    4.0       36.0       42.0      789.0   \n",
       "\n",
       "             tn_nature   tp_rate   tn_rate  \n",
       "CuSum          10313.0  0.164557  0.972833  \n",
       "alisignal       9167.0  0.414634  0.843796  \n",
       "if              9629.0  0.512821  0.919236  \n",
       "nightsignal     9398.0  0.487179  0.897184  \n",
       "ns_orig         9404.0  0.525641  0.897757  \n",
       "random          9170.0  0.717949  0.875418  \n",
       "use-all         9686.0  0.461538  0.924678  "
      ]
     },
     "metadata": {},
     "output_type": "display_data"
    }
   ],
   "source": [
    "import ali.new_method\n",
    "import importlib\n",
    "importlib.reload(ali.new_method)\n",
    "importlib.reload(ali.eval)\n",
    "\n",
    "ali.new_method.reEvalAll()"
   ]
  },
  {
   "cell_type": "code",
   "execution_count": null,
   "id": "0c85fec9",
   "metadata": {
    "ExecuteTime": {
     "end_time": "2021-12-12T15:53:08.511496Z",
     "start_time": "2021-12-12T15:53:08.044124Z"
    },
    "scrolled": true
   },
   "outputs": [],
   "source": [
    "import os \n",
    "import pandas as pd\n",
    "from IPython.display import Image\n",
    "for id in os.listdir('output/my'):\n",
    "    print(id)\n",
    "    display(pd.read_csv(f'output/my/{id}/eval.csv'))\n",
    "    for img in sorted(os.listdir(f'output/my/{id}/')):\n",
    "        if '.png' in img and 'random' not in img and 'alisignal' not in img:\n",
    "            display(Image(f'output/my/{id}/{img}'))\n",
    "    "
   ]
  },
  {
   "cell_type": "code",
   "execution_count": 48,
   "id": "96860771",
   "metadata": {
    "ExecuteTime": {
     "end_time": "2021-12-16T14:53:12.742174Z",
     "start_time": "2021-12-16T14:53:12.737383Z"
    }
   },
   "outputs": [
    {
     "data": {
      "text/plain": [
       "array([1, 2, 3])"
      ]
     },
     "execution_count": 48,
     "metadata": {},
     "output_type": "execute_result"
    }
   ],
   "source": [
    "import pandas as pd\n",
    "times = ['2020-01-01', '2020-01-03', '2020-01-04', '2020-01-05', '2020-01-29']\n",
    "\n",
    "s = pd.DataFrame(range(5), index=pd.DatetimeIndex(times))\n",
    "# a=list(s.rolling(window='2D'))\n",
    "a=[window.values.T for window in s.rolling(window=3)]\n",
    "a[3][0]"
   ]
  }
 ],
 "metadata": {
  "kernelspec": {
   "display_name": "Python 3",
   "language": "python",
   "name": "python3"
  },
  "language_info": {
   "codemirror_mode": {
    "name": "ipython",
    "version": 3
   },
   "file_extension": ".py",
   "mimetype": "text/x-python",
   "name": "python",
   "nbconvert_exporter": "python",
   "pygments_lexer": "ipython3",
   "version": "3.8.10"
  },
  "toc": {
   "base_numbering": 1,
   "nav_menu": {},
   "number_sections": false,
   "sideBar": true,
   "skip_h1_title": false,
   "title_cell": "Table of Contents",
   "title_sidebar": "Contents",
   "toc_cell": false,
   "toc_position": {},
   "toc_section_display": true,
   "toc_window_display": false
  },
  "varInspector": {
   "cols": {
    "lenName": 16,
    "lenType": 16,
    "lenVar": 40
   },
   "kernels_config": {
    "python": {
     "delete_cmd_postfix": "",
     "delete_cmd_prefix": "del ",
     "library": "var_list.py",
     "varRefreshCmd": "print(var_dic_list())"
    },
    "r": {
     "delete_cmd_postfix": ") ",
     "delete_cmd_prefix": "rm(",
     "library": "var_list.r",
     "varRefreshCmd": "cat(var_dic_list()) "
    }
   },
   "types_to_exclude": [
    "module",
    "function",
    "builtin_function_or_method",
    "instance",
    "_Feature"
   ],
   "window_display": false
  }
 },
 "nbformat": 4,
 "nbformat_minor": 5
}
